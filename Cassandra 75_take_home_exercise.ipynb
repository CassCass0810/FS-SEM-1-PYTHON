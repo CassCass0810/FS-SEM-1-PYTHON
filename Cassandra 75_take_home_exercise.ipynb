{
 "cells": [
  {
   "cell_type": "markdown",
   "id": "informative-moment",
   "metadata": {},
   "source": [
    "75 TAKE HOME EXERCISE\n",
    "=="
   ]
  },
  {
   "cell_type": "markdown",
   "id": "expanded-lightweight",
   "metadata": {},
   "source": [
    "1. How to import pandas and check the version?"
   ]
  },
  {
   "cell_type": "code",
   "execution_count": 1,
   "id": "neutral-midnight",
   "metadata": {},
   "outputs": [
    {
     "name": "stdout",
     "output_type": "stream",
     "text": [
      "\n",
      "INSTALLED VERSIONS\n",
      "------------------\n",
      "commit           : 2cb96529396d93b46abab7bbc73a208e708c642e\n",
      "python           : 3.8.2.final.0\n",
      "python-bits      : 64\n",
      "OS               : Darwin\n",
      "OS-release       : 19.6.0\n",
      "Version          : Darwin Kernel Version 19.6.0: Mon Aug 31 22:12:52 PDT 2020; root:xnu-6153.141.2~1/RELEASE_X86_64\n",
      "machine          : x86_64\n",
      "processor        : i386\n",
      "byteorder        : little\n",
      "LC_ALL           : None\n",
      "LANG             : None\n",
      "LOCALE           : None.UTF-8\n",
      "\n",
      "pandas           : 1.2.4\n",
      "numpy            : 1.19.5\n",
      "pytz             : 2021.1\n",
      "dateutil         : 2.8.1\n",
      "pip              : 21.0.1\n",
      "setuptools       : 52.0.0.post20210125\n",
      "Cython           : 0.29.23\n",
      "pytest           : 6.2.3\n",
      "hypothesis       : None\n",
      "sphinx           : 3.5.3\n",
      "blosc            : None\n",
      "feather          : None\n",
      "xlsxwriter       : 1.3.8\n",
      "lxml.etree       : 4.6.3\n",
      "html5lib         : 1.1\n",
      "pymysql          : None\n",
      "psycopg2         : None\n",
      "jinja2           : 2.11.3\n",
      "IPython          : 7.22.0\n",
      "pandas_datareader: None\n",
      "bs4              : 4.9.3\n",
      "bottleneck       : 1.3.2\n",
      "fsspec           : 0.9.0\n",
      "fastparquet      : None\n",
      "gcsfs            : None\n",
      "matplotlib       : 3.3.4\n",
      "numexpr          : 2.7.3\n",
      "odfpy            : None\n",
      "openpyxl         : 3.0.7\n",
      "pandas_gbq       : None\n",
      "pyarrow          : None\n",
      "pyxlsb           : None\n",
      "s3fs             : None\n",
      "scipy            : 1.6.2\n",
      "sqlalchemy       : 1.4.7\n",
      "tables           : 3.6.1\n",
      "tabulate         : None\n",
      "xarray           : None\n",
      "xlrd             : 2.0.1\n",
      "xlwt             : 1.3.0\n",
      "numba            : 0.53.0\n"
     ]
    }
   ],
   "source": [
    "import pandas as pd\n",
    "pd.show_versions()"
   ]
  },
  {
   "cell_type": "markdown",
   "id": "occupied-google",
   "metadata": {},
   "source": [
    "2. How to create a series from a list, numpy array and dict?"
   ]
  },
  {
   "cell_type": "code",
   "execution_count": 2,
   "id": "suburban-alfred",
   "metadata": {},
   "outputs": [
    {
     "name": "stdout",
     "output_type": "stream",
     "text": [
      "0       Apple\n",
      "1      Banana\n",
      "2      Carrot\n",
      "3      Donkey\n",
      "4    Elephant\n",
      "dtype: object\n",
      "0            Frog\n",
      "1         Giraffe\n",
      "2    Hippopotamus\n",
      "3        IceCream\n",
      "4        Elephant\n",
      "dtype: object\n",
      "A    0\n",
      "B    1\n",
      "C    2\n",
      "D    3\n",
      "E    4\n",
      "dtype: int64\n"
     ]
    }
   ],
   "source": [
    "# List - Series\n",
    "LIST = ['Apple','Banana','Carrot','Donkey','Elephant']\n",
    "a = pd.Series(LIST)\n",
    "print(a)\n",
    "\n",
    "# Numpy array - Series\n",
    "import numpy as np\n",
    "ARRAY = np.array(['Frog','Giraffe','Hippopotamus','IceCream','Elephant'])\n",
    "b = pd.Series(ARRAY)\n",
    "print(b)\n",
    "\n",
    "# Dict - Series\n",
    "DICT = {'A':0,'B':1,'C':2,'D':3,'E':4}\n",
    "c = pd.Series(DICT)\n",
    "print(c)"
   ]
  },
  {
   "cell_type": "markdown",
   "id": "prescribed-respondent",
   "metadata": {},
   "source": [
    "3. How to convert the index of a series into a column of a dataframe?"
   ]
  },
  {
   "cell_type": "code",
   "execution_count": 3,
   "id": "mature-eclipse",
   "metadata": {},
   "outputs": [
    {
     "data": {
      "text/html": [
       "<div>\n",
       "<style scoped>\n",
       "    .dataframe tbody tr th:only-of-type {\n",
       "        vertical-align: middle;\n",
       "    }\n",
       "\n",
       "    .dataframe tbody tr th {\n",
       "        vertical-align: top;\n",
       "    }\n",
       "\n",
       "    .dataframe thead th {\n",
       "        text-align: right;\n",
       "    }\n",
       "</style>\n",
       "<table border=\"1\" class=\"dataframe\">\n",
       "  <thead>\n",
       "    <tr style=\"text-align: right;\">\n",
       "      <th></th>\n",
       "      <th>index</th>\n",
       "      <th>0</th>\n",
       "    </tr>\n",
       "  </thead>\n",
       "  <tbody>\n",
       "    <tr>\n",
       "      <th>0</th>\n",
       "      <td>0</td>\n",
       "      <td>Apple</td>\n",
       "    </tr>\n",
       "    <tr>\n",
       "      <th>1</th>\n",
       "      <td>1</td>\n",
       "      <td>Banana</td>\n",
       "    </tr>\n",
       "    <tr>\n",
       "      <th>2</th>\n",
       "      <td>2</td>\n",
       "      <td>Carrot</td>\n",
       "    </tr>\n",
       "    <tr>\n",
       "      <th>3</th>\n",
       "      <td>3</td>\n",
       "      <td>Donkey</td>\n",
       "    </tr>\n",
       "    <tr>\n",
       "      <th>4</th>\n",
       "      <td>4</td>\n",
       "      <td>Elephant</td>\n",
       "    </tr>\n",
       "  </tbody>\n",
       "</table>\n",
       "</div>"
      ],
      "text/plain": [
       "   index         0\n",
       "0      0     Apple\n",
       "1      1    Banana\n",
       "2      2    Carrot\n",
       "3      3    Donkey\n",
       "4      4  Elephant"
      ]
     },
     "execution_count": 3,
     "metadata": {},
     "output_type": "execute_result"
    }
   ],
   "source": [
    "df = a.to_frame().reset_index()\n",
    "df"
   ]
  },
  {
   "cell_type": "markdown",
   "id": "downtown-palmer",
   "metadata": {},
   "source": [
    "4. How to combine many series to form a dataframe?"
   ]
  },
  {
   "cell_type": "code",
   "execution_count": 4,
   "id": "explicit-sharp",
   "metadata": {},
   "outputs": [
    {
     "data": {
      "text/html": [
       "<div>\n",
       "<style scoped>\n",
       "    .dataframe tbody tr th:only-of-type {\n",
       "        vertical-align: middle;\n",
       "    }\n",
       "\n",
       "    .dataframe tbody tr th {\n",
       "        vertical-align: top;\n",
       "    }\n",
       "\n",
       "    .dataframe thead th {\n",
       "        text-align: right;\n",
       "    }\n",
       "</style>\n",
       "<table border=\"1\" class=\"dataframe\">\n",
       "  <thead>\n",
       "    <tr style=\"text-align: right;\">\n",
       "      <th></th>\n",
       "      <th>0</th>\n",
       "      <th>1</th>\n",
       "      <th>2</th>\n",
       "    </tr>\n",
       "  </thead>\n",
       "  <tbody>\n",
       "    <tr>\n",
       "      <th>0</th>\n",
       "      <td>Apple</td>\n",
       "      <td>Frog</td>\n",
       "      <td>NaN</td>\n",
       "    </tr>\n",
       "    <tr>\n",
       "      <th>1</th>\n",
       "      <td>Banana</td>\n",
       "      <td>Giraffe</td>\n",
       "      <td>NaN</td>\n",
       "    </tr>\n",
       "    <tr>\n",
       "      <th>2</th>\n",
       "      <td>Carrot</td>\n",
       "      <td>Hippopotamus</td>\n",
       "      <td>NaN</td>\n",
       "    </tr>\n",
       "    <tr>\n",
       "      <th>3</th>\n",
       "      <td>Donkey</td>\n",
       "      <td>IceCream</td>\n",
       "      <td>NaN</td>\n",
       "    </tr>\n",
       "    <tr>\n",
       "      <th>4</th>\n",
       "      <td>Elephant</td>\n",
       "      <td>Elephant</td>\n",
       "      <td>NaN</td>\n",
       "    </tr>\n",
       "    <tr>\n",
       "      <th>A</th>\n",
       "      <td>NaN</td>\n",
       "      <td>NaN</td>\n",
       "      <td>0.0</td>\n",
       "    </tr>\n",
       "    <tr>\n",
       "      <th>B</th>\n",
       "      <td>NaN</td>\n",
       "      <td>NaN</td>\n",
       "      <td>1.0</td>\n",
       "    </tr>\n",
       "    <tr>\n",
       "      <th>C</th>\n",
       "      <td>NaN</td>\n",
       "      <td>NaN</td>\n",
       "      <td>2.0</td>\n",
       "    </tr>\n",
       "    <tr>\n",
       "      <th>D</th>\n",
       "      <td>NaN</td>\n",
       "      <td>NaN</td>\n",
       "      <td>3.0</td>\n",
       "    </tr>\n",
       "    <tr>\n",
       "      <th>E</th>\n",
       "      <td>NaN</td>\n",
       "      <td>NaN</td>\n",
       "      <td>4.0</td>\n",
       "    </tr>\n",
       "  </tbody>\n",
       "</table>\n",
       "</div>"
      ],
      "text/plain": [
       "          0             1    2\n",
       "0     Apple          Frog  NaN\n",
       "1    Banana       Giraffe  NaN\n",
       "2    Carrot  Hippopotamus  NaN\n",
       "3    Donkey      IceCream  NaN\n",
       "4  Elephant      Elephant  NaN\n",
       "A       NaN           NaN  0.0\n",
       "B       NaN           NaN  1.0\n",
       "C       NaN           NaN  2.0\n",
       "D       NaN           NaN  3.0\n",
       "E       NaN           NaN  4.0"
      ]
     },
     "execution_count": 4,
     "metadata": {},
     "output_type": "execute_result"
    }
   ],
   "source": [
    "df2 = pd.concat([a, b, c], axis=1)\n",
    "df2"
   ]
  },
  {
   "cell_type": "markdown",
   "id": "awful-budapest",
   "metadata": {},
   "source": [
    "5. How to assign name to the series’ index?"
   ]
  },
  {
   "cell_type": "code",
   "execution_count": 5,
   "id": "verbal-hunger",
   "metadata": {},
   "outputs": [
    {
     "data": {
      "text/html": [
       "<div>\n",
       "<style scoped>\n",
       "    .dataframe tbody tr th:only-of-type {\n",
       "        vertical-align: middle;\n",
       "    }\n",
       "\n",
       "    .dataframe tbody tr th {\n",
       "        vertical-align: top;\n",
       "    }\n",
       "\n",
       "    .dataframe thead th {\n",
       "        text-align: right;\n",
       "    }\n",
       "</style>\n",
       "<table border=\"1\" class=\"dataframe\">\n",
       "  <thead>\n",
       "    <tr style=\"text-align: right;\">\n",
       "      <th></th>\n",
       "      <th>newindex</th>\n",
       "      <th>0</th>\n",
       "    </tr>\n",
       "  </thead>\n",
       "  <tbody>\n",
       "    <tr>\n",
       "      <th>0</th>\n",
       "      <td>0</td>\n",
       "      <td>Apple</td>\n",
       "    </tr>\n",
       "    <tr>\n",
       "      <th>1</th>\n",
       "      <td>1</td>\n",
       "      <td>Banana</td>\n",
       "    </tr>\n",
       "    <tr>\n",
       "      <th>2</th>\n",
       "      <td>2</td>\n",
       "      <td>Carrot</td>\n",
       "    </tr>\n",
       "    <tr>\n",
       "      <th>3</th>\n",
       "      <td>3</td>\n",
       "      <td>Donkey</td>\n",
       "    </tr>\n",
       "    <tr>\n",
       "      <th>4</th>\n",
       "      <td>4</td>\n",
       "      <td>Elephant</td>\n",
       "    </tr>\n",
       "  </tbody>\n",
       "</table>\n",
       "</div>"
      ],
      "text/plain": [
       "   newindex         0\n",
       "0         0     Apple\n",
       "1         1    Banana\n",
       "2         2    Carrot\n",
       "3         3    Donkey\n",
       "4         4  Elephant"
      ]
     },
     "execution_count": 5,
     "metadata": {},
     "output_type": "execute_result"
    }
   ],
   "source": [
    "df.rename(columns = {'index':'newindex'},inplace = True)\n",
    "df"
   ]
  },
  {
   "cell_type": "markdown",
   "id": "amateur-upper",
   "metadata": {},
   "source": [
    "6. How to get the items of series A not present in series B?"
   ]
  },
  {
   "cell_type": "code",
   "execution_count": 6,
   "id": "acoustic-brass",
   "metadata": {},
   "outputs": [
    {
     "data": {
      "text/plain": [
       "0     Apple\n",
       "1    Banana\n",
       "2    Carrot\n",
       "3    Donkey\n",
       "dtype: object"
      ]
     },
     "execution_count": 6,
     "metadata": {},
     "output_type": "execute_result"
    }
   ],
   "source": [
    "item = a[~a.isin(b)]\n",
    "item"
   ]
  },
  {
   "cell_type": "markdown",
   "id": "serious-operations",
   "metadata": {},
   "source": [
    "7. How to get the items not common to both series A and series B?"
   ]
  },
  {
   "cell_type": "code",
   "execution_count": 7,
   "id": "thirty-baker",
   "metadata": {},
   "outputs": [
    {
     "name": "stdout",
     "output_type": "stream",
     "text": [
      "0           Apple\n",
      "1          Banana\n",
      "2          Carrot\n",
      "3          Donkey\n",
      "5            Frog\n",
      "6         Giraffe\n",
      "7    Hippopotamus\n",
      "8        IceCream\n",
      "dtype: object\n"
     ]
    }
   ],
   "source": [
    "union = pd.Series(np.union1d(a, b))\n",
    "intersect = pd.Series(np.intersect1d(a, b))\n",
    "notcommonseries = union[~union.isin(intersect)]\n",
    "print(notcommonseries)"
   ]
  },
  {
   "cell_type": "markdown",
   "id": "humanitarian-screening",
   "metadata": {},
   "source": [
    "8. How to get the minimum, 25th percentile, median, 75th, and max of a numeric series?"
   ]
  },
  {
   "cell_type": "code",
   "execution_count": 8,
   "id": "arbitrary-webster",
   "metadata": {},
   "outputs": [
    {
     "data": {
      "text/plain": [
       "count    5.000000\n",
       "mean     1.601840\n",
       "std      1.306000\n",
       "min     -0.343262\n",
       "25%      0.915167\n",
       "50%      2.195865\n",
       "75%      2.357537\n",
       "max      2.883893\n",
       "dtype: float64"
      ]
     },
     "execution_count": 8,
     "metadata": {},
     "output_type": "execute_result"
    }
   ],
   "source": [
    "state = np.random.RandomState(20)\n",
    "ser = pd.Series(state.normal(2, 1, 5))\n",
    "ser.describe()"
   ]
  },
  {
   "cell_type": "markdown",
   "id": "gothic-retro",
   "metadata": {},
   "source": [
    "9. How to get frequency counts of unique items of a series?"
   ]
  },
  {
   "cell_type": "code",
   "execution_count": 9,
   "id": "5dc72b09",
   "metadata": {},
   "outputs": [
    {
     "data": {
      "text/plain": [
       "a    7\n",
       "b    4\n",
       "c    2\n",
       "e    1\n",
       "d    1\n",
       "dtype: int64"
      ]
     },
     "execution_count": 9,
     "metadata": {},
     "output_type": "execute_result"
    }
   ],
   "source": [
    "a = list('abcde')\n",
    "b = pd.Series(np.take(a , np.random.randint(5, size=15)))\n",
    "b.value_counts()"
   ]
  },
  {
   "cell_type": "markdown",
   "id": "synthetic-folder",
   "metadata": {},
   "source": [
    "10. How to keep only top 2 most frequent values as it is and replace everything else as ‘Other’?"
   ]
  },
  {
   "cell_type": "code",
   "execution_count": 10,
   "id": "generous-artist",
   "metadata": {},
   "outputs": [
    {
     "data": {
      "text/plain": [
       "0         b\n",
       "1         a\n",
       "2     Other\n",
       "3         a\n",
       "4         b\n",
       "5     Other\n",
       "6     Other\n",
       "7     Other\n",
       "8         a\n",
       "9         a\n",
       "10        a\n",
       "11        b\n",
       "12        b\n",
       "13        a\n",
       "14        a\n",
       "dtype: object"
      ]
     },
     "execution_count": 10,
     "metadata": {},
     "output_type": "execute_result"
    }
   ],
   "source": [
    "b[~b.isin(b.value_counts().index[:2])] = 'Other'\n",
    "b"
   ]
  },
  {
   "cell_type": "markdown",
   "id": "closing-fleet",
   "metadata": {},
   "source": [
    "11. How to bin a numeric series to 10 groups of equal size?"
   ]
  },
  {
   "cell_type": "code",
   "execution_count": 11,
   "id": "casual-loading",
   "metadata": {},
   "outputs": [
    {
     "data": {
      "text/plain": [
       "(0       (0.89, 0.981]\n",
       " 1      (0.342, 0.433]\n",
       " 2      (0.616, 0.707]\n",
       " 3     (0.0673, 0.159]\n",
       " 4       (0.799, 0.89]\n",
       " 5      (0.525, 0.616]\n",
       " 6      (0.433, 0.525]\n",
       " 7      (0.707, 0.799]\n",
       " 8     (0.0673, 0.159]\n",
       " 9      (0.525, 0.616]\n",
       " 10     (0.433, 0.525]\n",
       " 11     (0.159, 0.251]\n",
       " 12      (0.799, 0.89]\n",
       " 13    (0.0673, 0.159]\n",
       " 14      (0.799, 0.89]\n",
       " 15     (0.159, 0.251]\n",
       " 16     (0.525, 0.616]\n",
       " 17     (0.433, 0.525]\n",
       " 18     (0.707, 0.799]\n",
       " 19     (0.342, 0.433]\n",
       " dtype: category\n",
       " Categories (10, interval[float64]): [(0.0673, 0.159] < (0.159, 0.251] < (0.251, 0.342] < (0.342, 0.433] ... (0.616, 0.707] < (0.707, 0.799] < (0.799, 0.89] < (0.89, 0.981]],\n",
       " array([0.06726802, 0.15949022, 0.25079934, 0.34210845, 0.43341757,\n",
       "        0.52472668, 0.61603579, 0.70734491, 0.79865402, 0.88996314,\n",
       "        0.98127225]))"
      ]
     },
     "execution_count": 11,
     "metadata": {},
     "output_type": "execute_result"
    }
   ],
   "source": [
    "a = pd.Series(np.random.random(20))\n",
    "pd.cut(a, 10, retbins=True)"
   ]
  },
  {
   "cell_type": "markdown",
   "id": "rolled-antenna",
   "metadata": {},
   "source": [
    "12. How to convert a numpy array to a dataframe of given shape?"
   ]
  },
  {
   "cell_type": "code",
   "execution_count": 12,
   "id": "important-imagination",
   "metadata": {},
   "outputs": [
    {
     "data": {
      "text/html": [
       "<div>\n",
       "<style scoped>\n",
       "    .dataframe tbody tr th:only-of-type {\n",
       "        vertical-align: middle;\n",
       "    }\n",
       "\n",
       "    .dataframe tbody tr th {\n",
       "        vertical-align: top;\n",
       "    }\n",
       "\n",
       "    .dataframe thead th {\n",
       "        text-align: right;\n",
       "    }\n",
       "</style>\n",
       "<table border=\"1\" class=\"dataframe\">\n",
       "  <thead>\n",
       "    <tr style=\"text-align: right;\">\n",
       "      <th></th>\n",
       "      <th>0</th>\n",
       "      <th>1</th>\n",
       "      <th>2</th>\n",
       "    </tr>\n",
       "  </thead>\n",
       "  <tbody>\n",
       "    <tr>\n",
       "      <th>0</th>\n",
       "      <td>b</td>\n",
       "      <td>a</td>\n",
       "      <td>Other</td>\n",
       "    </tr>\n",
       "    <tr>\n",
       "      <th>1</th>\n",
       "      <td>a</td>\n",
       "      <td>b</td>\n",
       "      <td>Other</td>\n",
       "    </tr>\n",
       "    <tr>\n",
       "      <th>2</th>\n",
       "      <td>Other</td>\n",
       "      <td>Other</td>\n",
       "      <td>a</td>\n",
       "    </tr>\n",
       "    <tr>\n",
       "      <th>3</th>\n",
       "      <td>a</td>\n",
       "      <td>a</td>\n",
       "      <td>b</td>\n",
       "    </tr>\n",
       "    <tr>\n",
       "      <th>4</th>\n",
       "      <td>b</td>\n",
       "      <td>a</td>\n",
       "      <td>a</td>\n",
       "    </tr>\n",
       "  </tbody>\n",
       "</table>\n",
       "</div>"
      ],
      "text/plain": [
       "       0      1      2\n",
       "0      b      a  Other\n",
       "1      a      b  Other\n",
       "2  Other  Other      a\n",
       "3      a      a      b\n",
       "4      b      a      a"
      ]
     },
     "execution_count": 12,
     "metadata": {},
     "output_type": "execute_result"
    }
   ],
   "source": [
    "df = pd.DataFrame(np.array(b).reshape(5, 3))\n",
    "df"
   ]
  },
  {
   "cell_type": "code",
   "execution_count": null,
   "id": "add98c15",
   "metadata": {},
   "outputs": [],
   "source": []
  },
  {
   "cell_type": "markdown",
   "id": "cooperative-credit",
   "metadata": {},
   "source": [
    "13. How to find the positions of numbers that are multiples of 3 from a series?"
   ]
  },
  {
   "cell_type": "code",
   "execution_count": 13,
   "id": "molecular-coaching",
   "metadata": {},
   "outputs": [
    {
     "data": {
      "text/plain": [
       "0     3.0\n",
       "1     3.0\n",
       "2     3.0\n",
       "5     3.0\n",
       "9     3.0\n",
       "11    3.0\n",
       "16    3.0\n",
       "17    3.0\n",
       "dtype: float64"
      ]
     },
     "execution_count": 13,
     "metadata": {},
     "output_type": "execute_result"
    }
   ],
   "source": [
    "a = pd.Series(np.random.randint(1, 5, 20))\n",
    "a.where(lambda x: x%3 == 0).dropna()"
   ]
  },
  {
   "cell_type": "markdown",
   "id": "protective-representative",
   "metadata": {},
   "source": [
    "14. How to extract items at given positions from a series?"
   ]
  },
  {
   "cell_type": "code",
   "execution_count": 14,
   "id": "limited-birmingham",
   "metadata": {},
   "outputs": [
    {
     "data": {
      "text/plain": [
       "0     l\n",
       "2     l\n",
       "6     b\n",
       "11    a\n",
       "20    a\n",
       "dtype: object"
      ]
     },
     "execution_count": 14,
     "metadata": {},
     "output_type": "execute_result"
    }
   ],
   "source": [
    "a = pd.Series(list('lalalablablablahahaha'))\n",
    "pos = [0, 2, 6, 11, 20]\n",
    "result = a.take(pos)\n",
    "result"
   ]
  },
  {
   "cell_type": "markdown",
   "id": "affecting-zimbabwe",
   "metadata": {},
   "source": [
    "15. How to stack two series vertically and horizontally ?"
   ]
  },
  {
   "cell_type": "code",
   "execution_count": 15,
   "id": "allied-september",
   "metadata": {},
   "outputs": [
    {
     "data": {
      "text/html": [
       "<div>\n",
       "<style scoped>\n",
       "    .dataframe tbody tr th:only-of-type {\n",
       "        vertical-align: middle;\n",
       "    }\n",
       "\n",
       "    .dataframe tbody tr th {\n",
       "        vertical-align: top;\n",
       "    }\n",
       "\n",
       "    .dataframe thead th {\n",
       "        text-align: right;\n",
       "    }\n",
       "</style>\n",
       "<table border=\"1\" class=\"dataframe\">\n",
       "  <thead>\n",
       "    <tr style=\"text-align: right;\">\n",
       "      <th></th>\n",
       "      <th>0</th>\n",
       "      <th>1</th>\n",
       "    </tr>\n",
       "  </thead>\n",
       "  <tbody>\n",
       "    <tr>\n",
       "      <th>0</th>\n",
       "      <td>0.954055</td>\n",
       "      <td>l</td>\n",
       "    </tr>\n",
       "    <tr>\n",
       "      <th>1</th>\n",
       "      <td>0.492613</td>\n",
       "      <td>a</td>\n",
       "    </tr>\n",
       "    <tr>\n",
       "      <th>2</th>\n",
       "      <td>0.276783</td>\n",
       "      <td>l</td>\n",
       "    </tr>\n",
       "    <tr>\n",
       "      <th>3</th>\n",
       "      <td>0.457626</td>\n",
       "      <td>a</td>\n",
       "    </tr>\n",
       "    <tr>\n",
       "      <th>4</th>\n",
       "      <td>0.423269</td>\n",
       "      <td>l</td>\n",
       "    </tr>\n",
       "    <tr>\n",
       "      <th>5</th>\n",
       "      <td>0.142081</td>\n",
       "      <td>a</td>\n",
       "    </tr>\n",
       "    <tr>\n",
       "      <th>6</th>\n",
       "      <td>0.974963</td>\n",
       "      <td>b</td>\n",
       "    </tr>\n",
       "    <tr>\n",
       "      <th>7</th>\n",
       "      <td>0.529355</td>\n",
       "      <td>l</td>\n",
       "    </tr>\n",
       "    <tr>\n",
       "      <th>8</th>\n",
       "      <td>0.038894</td>\n",
       "      <td>a</td>\n",
       "    </tr>\n",
       "    <tr>\n",
       "      <th>9</th>\n",
       "      <td>0.413524</td>\n",
       "      <td>b</td>\n",
       "    </tr>\n",
       "    <tr>\n",
       "      <th>10</th>\n",
       "      <td>0.963342</td>\n",
       "      <td>l</td>\n",
       "    </tr>\n",
       "    <tr>\n",
       "      <th>11</th>\n",
       "      <td>0.317797</td>\n",
       "      <td>a</td>\n",
       "    </tr>\n",
       "    <tr>\n",
       "      <th>12</th>\n",
       "      <td>0.277168</td>\n",
       "      <td>b</td>\n",
       "    </tr>\n",
       "    <tr>\n",
       "      <th>13</th>\n",
       "      <td>0.124371</td>\n",
       "      <td>l</td>\n",
       "    </tr>\n",
       "    <tr>\n",
       "      <th>14</th>\n",
       "      <td>0.863402</td>\n",
       "      <td>a</td>\n",
       "    </tr>\n",
       "    <tr>\n",
       "      <th>15</th>\n",
       "      <td>0.596706</td>\n",
       "      <td>h</td>\n",
       "    </tr>\n",
       "    <tr>\n",
       "      <th>16</th>\n",
       "      <td>0.586224</td>\n",
       "      <td>a</td>\n",
       "    </tr>\n",
       "    <tr>\n",
       "      <th>17</th>\n",
       "      <td>0.186798</td>\n",
       "      <td>h</td>\n",
       "    </tr>\n",
       "    <tr>\n",
       "      <th>18</th>\n",
       "      <td>0.265825</td>\n",
       "      <td>a</td>\n",
       "    </tr>\n",
       "    <tr>\n",
       "      <th>19</th>\n",
       "      <td>0.446110</td>\n",
       "      <td>h</td>\n",
       "    </tr>\n",
       "    <tr>\n",
       "      <th>20</th>\n",
       "      <td>NaN</td>\n",
       "      <td>a</td>\n",
       "    </tr>\n",
       "  </tbody>\n",
       "</table>\n",
       "</div>"
      ],
      "text/plain": [
       "           0  1\n",
       "0   0.954055  l\n",
       "1   0.492613  a\n",
       "2   0.276783  l\n",
       "3   0.457626  a\n",
       "4   0.423269  l\n",
       "5   0.142081  a\n",
       "6   0.974963  b\n",
       "7   0.529355  l\n",
       "8   0.038894  a\n",
       "9   0.413524  b\n",
       "10  0.963342  l\n",
       "11  0.317797  a\n",
       "12  0.277168  b\n",
       "13  0.124371  l\n",
       "14  0.863402  a\n",
       "15  0.596706  h\n",
       "16  0.586224  a\n",
       "17  0.186798  h\n",
       "18  0.265825  a\n",
       "19  0.446110  h\n",
       "20       NaN  a"
      ]
     },
     "execution_count": 15,
     "metadata": {},
     "output_type": "execute_result"
    }
   ],
   "source": [
    "a = pd.Series(np.random.random(20))\n",
    "b = pd.Series(list('lalalablablablahahaha'))\n",
    "pd.concat([a, b], axis = 0)\n",
    "pd.concat([a, b], axis = 1)"
   ]
  },
  {
   "cell_type": "markdown",
   "id": "million-chosen",
   "metadata": {},
   "source": [
    "16. How to get the positions of items of series A in another series B?"
   ]
  },
  {
   "cell_type": "code",
   "execution_count": 16,
   "id": "deadly-domain",
   "metadata": {},
   "outputs": [
    {
     "data": {
      "text/plain": [
       "[0, 1, 4, 5]"
      ]
     },
     "execution_count": 16,
     "metadata": {},
     "output_type": "execute_result"
    }
   ],
   "source": [
    "A = pd.Series([1, 2, 3, 4, 5, 6, 7, 8, 9])\n",
    "B = pd.Series([1, 2, 5, 6])\n",
    "list(A[A.isin(B)].index)"
   ]
  },
  {
   "cell_type": "markdown",
   "id": "recorded-island",
   "metadata": {},
   "source": [
    "17. How to compute the mean squared error on a truth and predicted series?"
   ]
  },
  {
   "cell_type": "code",
   "execution_count": 17,
   "id": "partial-white",
   "metadata": {},
   "outputs": [
    {
     "data": {
      "text/plain": [
       "0.11655179172123975"
      ]
     },
     "execution_count": 17,
     "metadata": {},
     "output_type": "execute_result"
    }
   ],
   "source": [
    "truth = pd.Series(range(5))\n",
    "pred = pd.Series(range(5)) + np.random.random(5)\n",
    "np.mean((truth-pred)**2)"
   ]
  },
  {
   "cell_type": "markdown",
   "id": "union-wagner",
   "metadata": {},
   "source": [
    "18. How to convert the first character of each element in a series to uppercase?"
   ]
  },
  {
   "cell_type": "code",
   "execution_count": 18,
   "id": "straight-walnut",
   "metadata": {},
   "outputs": [
    {
     "data": {
      "text/plain": [
       "0    Hello\n",
       "1    World\n",
       "dtype: object"
      ]
     },
     "execution_count": 18,
     "metadata": {},
     "output_type": "execute_result"
    }
   ],
   "source": [
    "a = pd.Series(['hello', 'world'])\n",
    "a.str.title()"
   ]
  },
  {
   "cell_type": "markdown",
   "id": "genuine-finding",
   "metadata": {},
   "source": [
    "19. How to calculate the number of characters in each word in a series?"
   ]
  },
  {
   "cell_type": "code",
   "execution_count": 19,
   "id": "adequate-prague",
   "metadata": {},
   "outputs": [
    {
     "name": "stdout",
     "output_type": "stream",
     "text": [
      "hello 5\n",
      "world 5\n"
     ]
    }
   ],
   "source": [
    "a = pd.Series(['hello', 'world'])\n",
    "for i in range(len(a)):\n",
    "    print(a[i], a.str.len()[i])"
   ]
  },
  {
   "cell_type": "markdown",
   "id": "inner-contents",
   "metadata": {},
   "source": [
    "20. How to compute difference of differences between consequtive numbers of a series?"
   ]
  },
  {
   "cell_type": "code",
   "execution_count": 20,
   "id": "informational-natural",
   "metadata": {},
   "outputs": [
    {
     "name": "stdout",
     "output_type": "stream",
     "text": [
      "[nan, 3.0, 2.0, 1.0, 2.0, 3.0, 3.0, 3.0, 3.0]\n",
      "[nan, nan, -1.0, -1.0, 1.0, 1.0, 0.0, 0.0, 0.0]\n"
     ]
    }
   ],
   "source": [
    "a = pd.Series([1, 4, 6, 7, 9, 12, 15, 18, 21])\n",
    "b = a.diff(periods = 1).tolist()\n",
    "c = a.diff(periods = 1).diff(periods = 1).tolist()\n",
    "print(b)\n",
    "print(c)"
   ]
  },
  {
   "cell_type": "markdown",
   "id": "endless-affiliation",
   "metadata": {},
   "source": [
    "21. How to convert a series of date-strings to a timeseries?"
   ]
  },
  {
   "cell_type": "code",
   "execution_count": 21,
   "id": "general-columbus",
   "metadata": {},
   "outputs": [
    {
     "data": {
      "text/plain": [
       "0   2001-01-01 00:00:00\n",
       "1   2001-02-01 00:00:00\n",
       "2   2001-03-01 00:00:00\n",
       "3   2001-04-01 01:01:00\n",
       "dtype: datetime64[ns]"
      ]
     },
     "execution_count": 21,
     "metadata": {},
     "output_type": "execute_result"
    }
   ],
   "source": [
    "a = pd.Series(['20010101', '20010201', '20010301', '20010401T01:01'])\n",
    "pd.to_datetime(a)"
   ]
  },
  {
   "cell_type": "markdown",
   "id": "humanitarian-supply",
   "metadata": {},
   "source": [
    "22. How to get the day of month, week number, day of year and day of week from a series of date\n",
    "strings?"
   ]
  },
  {
   "cell_type": "code",
   "execution_count": 28,
   "id": "russian-state",
   "metadata": {},
   "outputs": [
    {
     "name": "stdout",
     "output_type": "stream",
     "text": [
      "[1, 1, 1, 1]\n",
      "[1, 5, 9, 13]\n",
      "[1, 32, 60, 91]\n",
      "['Monday', 'Thursday', 'Thursday', 'Sunday']\n"
     ]
    },
    {
     "name": "stderr",
     "output_type": "stream",
     "text": [
      "<ipython-input-28-8daf66f2c88a>:5: FutureWarning: Series.dt.weekofyear and Series.dt.week have been deprecated.  Please use Series.dt.isocalendar().week instead.\n",
      "  c = pd.to_datetime(a).dt.week.to_list()\n"
     ]
    }
   ],
   "source": [
    "a = pd.Series(['20010101', '20010201', '20010301', '20010401T01:01'])\n",
    "# day of monrh\n",
    "b = pd.to_datetime(a).dt.day.to_list()\n",
    "# week number\n",
    "c = pd.to_datetime(a).dt.week.to_list()\n",
    "# day of year\n",
    "d = pd.to_datetime(a).dt.dayofyear.to_list()\n",
    "# day of week\n",
    "#e = pd.to_datetime(a).dt.weekday_name.to_list()\n",
    "week_dict = {0:\"Monday\", 1:\"Tuesday\", 2:\"Wednesday\", 3:\"Thursday\", 4:\"Friday\", 5:\"Saturday\", 6:\"Sunday\"}\n",
    "e = pd.to_datetime(a).dt.dayofweek.map(week_dict).to_list()\n",
    "print(b)\n",
    "print(c)\n",
    "print(d)\n",
    "print(e)"
   ]
  },
  {
   "cell_type": "markdown",
   "id": "surrounded-tumor",
   "metadata": {},
   "source": [
    "23. How to convert year-month string to dates corresponding to the 4th day of the month?"
   ]
  },
  {
   "cell_type": "code",
   "execution_count": 31,
   "id": "systematic-bolivia",
   "metadata": {},
   "outputs": [
    {
     "data": {
      "text/plain": [
       "0   2021-01-04\n",
       "1   2021-02-04\n",
       "2   2021-03-04\n",
       "dtype: datetime64[ns]"
      ]
     },
     "execution_count": 31,
     "metadata": {},
     "output_type": "execute_result"
    }
   ],
   "source": [
    "from dateutil.parser import parse\n",
    "a = pd.Series(['Jan 2021', 'Feb 2021', 'Mar 2021'])\n",
    "a.map(lambda x: parse('04 ' + x))"
   ]
  },
  {
   "cell_type": "markdown",
   "id": "prompt-desktop",
   "metadata": {},
   "source": [
    "24. How to filter words that contain atleast 2 vowels from a series?"
   ]
  },
  {
   "cell_type": "code",
   "execution_count": 2,
   "id": "written-mauritius",
   "metadata": {},
   "outputs": [
    {
     "name": "stdout",
     "output_type": "stream",
     "text": [
      "Hello\n",
      "Apple\n"
     ]
    },
    {
     "data": {
      "text/plain": [
       "0    Hello\n",
       "3    Apple\n",
       "dtype: object"
      ]
     },
     "execution_count": 2,
     "metadata": {},
     "output_type": "execute_result"
    }
   ],
   "source": [
    "a = pd.Series(['Hello', 'Ahhhh', 'What', 'Apple', 'Blahhhh'])\n",
    "vowels = list(\"aeiou\")\n",
    "list_ = []\n",
    "for w in a:\n",
    "    c = 0\n",
    "    for l in list(w.lower()):\n",
    "        if l in vowels:\n",
    "            c += 1\n",
    "    if c >= 2:\n",
    "        print(w)\n",
    "        list_.append(w)\n",
    "\n",
    "a[a.isin(list_)]\n"
   ]
  },
  {
   "cell_type": "markdown",
   "id": "underlying-invasion",
   "metadata": {},
   "source": [
    "25. How to filter valid emails from a series?"
   ]
  },
  {
   "cell_type": "code",
   "execution_count": 7,
   "id": "numerous-house",
   "metadata": {},
   "outputs": [
    {
     "data": {
      "text/plain": [
       "0      abc@ahhs.com\n",
       "1    123dbk@diy6.co\n",
       "dtype: object"
      ]
     },
     "execution_count": 7,
     "metadata": {},
     "output_type": "execute_result"
    }
   ],
   "source": [
    "import re\n",
    "email = pd.Series(['abc@ahhs.com', '123dbk@diy6.co', 'dgjywge@kdgui.1y7d', 'blabla at iwkh.com'])\n",
    "pattern ='[A-Za-z0-9._%+-]+@[A-Za-z0-9.-]+\\\\.[A-Za-z]{2,4}'\n",
    "mask = email.map(lambda x: bool(re.match(pattern, x)))\n",
    "email[mask]"
   ]
  },
  {
   "cell_type": "markdown",
   "id": "heavy-halifax",
   "metadata": {},
   "source": [
    "26. How to get the mean of a series grouped by another series?"
   ]
  },
  {
   "cell_type": "code",
   "execution_count": 5,
   "id": "authorized-dealer",
   "metadata": {},
   "outputs": [
    {
     "data": {
      "text/plain": [
       "apple     6.000000\n",
       "banana    3.666667\n",
       "carrot    6.500000\n",
       "dtype: float64"
      ]
     },
     "execution_count": 5,
     "metadata": {},
     "output_type": "execute_result"
    }
   ],
   "source": [
    "import numpy as np\n",
    "fruit = pd.Series(np.random.choice(['apple', 'banana', 'carrot'], 10))\n",
    "weights = pd.Series(np.linspace(1, 10, 10))\n",
    "weights.groupby(fruit).mean()\n",
    "#df = pd.concat([fruit, weights], axis = 1)\n",
    "#df.groupby(0).mean()\n"
   ]
  },
  {
   "cell_type": "markdown",
   "id": "attached-beauty",
   "metadata": {},
   "source": [
    "27. How to compute the euclidean distance between two series?"
   ]
  },
  {
   "cell_type": "code",
   "execution_count": 14,
   "id": "correct-mexican",
   "metadata": {},
   "outputs": [
    {
     "data": {
      "text/plain": [
       "6.324555320336759"
      ]
     },
     "execution_count": 14,
     "metadata": {},
     "output_type": "execute_result"
    }
   ],
   "source": [
    "a = pd.Series([11, 12, 13, 14, 15])\n",
    "b = pd.Series([15, 14, 13, 12, 11])\n",
    "sum((a - b)**2)**.5"
   ]
  },
  {
   "cell_type": "markdown",
   "id": "pressing-mainland",
   "metadata": {},
   "source": [
    "28. How to find all the local maxima (or peaks) in a numeric series?"
   ]
  },
  {
   "cell_type": "code",
   "execution_count": 19,
   "id": "abroad-packaging",
   "metadata": {},
   "outputs": [
    {
     "data": {
      "text/plain": [
       "array([3, 5, 7])"
      ]
     },
     "execution_count": 19,
     "metadata": {},
     "output_type": "execute_result"
    }
   ],
   "source": [
    "a = pd.Series([1, 2, 3, 4, 1, 5, 2, 9, 2])\n",
    "dd = np.diff(np.sign(np.diff(a)))\n",
    "dd = np.where(dd == -2)[0] + 1\n",
    "dd"
   ]
  },
  {
   "cell_type": "markdown",
   "id": "dedicated-bunch",
   "metadata": {},
   "source": [
    "29. How to replace missing spaces in a string with the least frequent character?"
   ]
  },
  {
   "cell_type": "code",
   "execution_count": 3,
   "id": "cardiac-bacon",
   "metadata": {},
   "outputs": [
    {
     "name": "stdout",
     "output_type": "stream",
     "text": [
      "abcfabcdfabcdefabcdef\n"
     ]
    }
   ],
   "source": [
    "my_str = 'abc abcd abcde abcdef'\n",
    "ser = pd.Series(list(my_str.replace(\" \", \"\")))\n",
    "ser.value_counts()\n",
    "minimum = list(ser.value_counts().index)[-1]\n",
    "minimum\n",
    "print(my_str.replace(\" \", minimum))\n"
   ]
  },
  {
   "cell_type": "markdown",
   "id": "informative-vulnerability",
   "metadata": {},
   "source": [
    "30. How to create a TimeSeries starting ‘2000-01-01’ and 10 weekends (saturdays) after that having\n",
    "random numbers as values?"
   ]
  },
  {
   "cell_type": "code",
   "execution_count": 8,
   "id": "pressed-dream",
   "metadata": {},
   "outputs": [
    {
     "data": {
      "text/html": [
       "<div>\n",
       "<style scoped>\n",
       "    .dataframe tbody tr th:only-of-type {\n",
       "        vertical-align: middle;\n",
       "    }\n",
       "\n",
       "    .dataframe tbody tr th {\n",
       "        vertical-align: top;\n",
       "    }\n",
       "\n",
       "    .dataframe thead th {\n",
       "        text-align: right;\n",
       "    }\n",
       "</style>\n",
       "<table border=\"1\" class=\"dataframe\">\n",
       "  <thead>\n",
       "    <tr style=\"text-align: right;\">\n",
       "      <th></th>\n",
       "      <th>Time</th>\n",
       "      <th>Numbers</th>\n",
       "    </tr>\n",
       "  </thead>\n",
       "  <tbody>\n",
       "    <tr>\n",
       "      <th>0</th>\n",
       "      <td>2000-01-01</td>\n",
       "      <td>5</td>\n",
       "    </tr>\n",
       "    <tr>\n",
       "      <th>1</th>\n",
       "      <td>2000-01-08</td>\n",
       "      <td>2</td>\n",
       "    </tr>\n",
       "    <tr>\n",
       "      <th>2</th>\n",
       "      <td>2000-01-15</td>\n",
       "      <td>9</td>\n",
       "    </tr>\n",
       "    <tr>\n",
       "      <th>3</th>\n",
       "      <td>2000-01-22</td>\n",
       "      <td>2</td>\n",
       "    </tr>\n",
       "    <tr>\n",
       "      <th>4</th>\n",
       "      <td>2000-01-29</td>\n",
       "      <td>8</td>\n",
       "    </tr>\n",
       "    <tr>\n",
       "      <th>5</th>\n",
       "      <td>2000-02-05</td>\n",
       "      <td>1</td>\n",
       "    </tr>\n",
       "    <tr>\n",
       "      <th>6</th>\n",
       "      <td>2000-02-12</td>\n",
       "      <td>9</td>\n",
       "    </tr>\n",
       "    <tr>\n",
       "      <th>7</th>\n",
       "      <td>2000-02-19</td>\n",
       "      <td>4</td>\n",
       "    </tr>\n",
       "    <tr>\n",
       "      <th>8</th>\n",
       "      <td>2000-02-26</td>\n",
       "      <td>3</td>\n",
       "    </tr>\n",
       "    <tr>\n",
       "      <th>9</th>\n",
       "      <td>2000-03-04</td>\n",
       "      <td>1</td>\n",
       "    </tr>\n",
       "  </tbody>\n",
       "</table>\n",
       "</div>"
      ],
      "text/plain": [
       "        Time  Numbers\n",
       "0 2000-01-01        5\n",
       "1 2000-01-08        2\n",
       "2 2000-01-15        9\n",
       "3 2000-01-22        2\n",
       "4 2000-01-29        8\n",
       "5 2000-02-05        1\n",
       "6 2000-02-12        9\n",
       "7 2000-02-19        4\n",
       "8 2000-02-26        3\n",
       "9 2000-03-04        1"
      ]
     },
     "execution_count": 8,
     "metadata": {},
     "output_type": "execute_result"
    }
   ],
   "source": [
    "a = pd.Series(pd.date_range('2000-01-01', periods=10, freq='W-SAT'))\n",
    "b = pd.Series([np.random.randint(1, 10) for i in range(10)])\n",
    "x = pd.concat({\"Time\":a, \"Numbers\":b}, axis = 1)\n",
    "x"
   ]
  },
  {
   "cell_type": "markdown",
   "id": "funded-nepal",
   "metadata": {},
   "source": [
    "31. How to fill an intermittent time series so all missing dates show up with values of previous nonmissing date?"
   ]
  },
  {
   "cell_type": "code",
   "execution_count": 12,
   "id": "experimental-airfare",
   "metadata": {},
   "outputs": [
    {
     "data": {
      "text/plain": [
       "2020-01-01     1.0\n",
       "2020-01-02    10.0\n",
       "2020-01-03     3.0\n",
       "2020-01-04     3.0\n",
       "Freq: D, dtype: float64"
      ]
     },
     "execution_count": 12,
     "metadata": {},
     "output_type": "execute_result"
    }
   ],
   "source": [
    "a = pd.Series([1,10,3,np.nan], index=pd.to_datetime(['2020-01-01', '2020-01-02', '2020-01-03', '2020-01-04']))\n",
    "b = pd.date_range(\"2020-01-01\", \"2020-01-04\")\n",
    "a = a.reindex(indx)\n",
    "a.fillna(method = \"ffill\")"
   ]
  },
  {
   "cell_type": "markdown",
   "id": "decent-collar",
   "metadata": {},
   "source": [
    "32. How to compute the autocorrelations of a numeric series?"
   ]
  },
  {
   "cell_type": "code",
   "execution_count": 21,
   "id": "minor-second",
   "metadata": {},
   "outputs": [
    {
     "data": {
      "text/plain": [
       "0.182669652659776"
      ]
     },
     "execution_count": 21,
     "metadata": {},
     "output_type": "execute_result"
    }
   ],
   "source": [
    "x = pd.Series(np.arange(20) + np.random.normal(1, 10, 20))\n",
    "x.autocorr(lag = 10)"
   ]
  },
  {
   "cell_type": "markdown",
   "id": "geographic-remainder",
   "metadata": {},
   "source": [
    "33. How to import only every nth row from a csv file to create a dataframe?"
   ]
  },
  {
   "cell_type": "code",
   "execution_count": 34,
   "id": "velvet-sharp",
   "metadata": {},
   "outputs": [
    {
     "name": "stdout",
     "output_type": "stream",
     "text": [
      "          user_id stars                                            reviews\n",
      "0  A2YGNPKICOZTLQ     1  This coffe is terrible, too sweet and it does ...\n",
      "1  A22KYJ5282CP1Z     2  I typically love vanilla cappuccino, and have ...\n",
      "2   AE93H5CYKWA4E     5  This is the best tasting cappuccino, ever! Jus...\n",
      "3  A2TS09JCXNV1VD     5  Grove Square Cappuccino Cups were excellent. T...\n",
      "4  A3NF74TCI30LF2     4  First off let me say what kind of coffee drink...\n",
      "5   AXL8M62MXTE1Q     5  I was a bit hesitant to buy cappuccino K-cups....\n",
      "6  A27FK78XB6IR7H     5  LOVE THIS COFFEE! So delicious and love having...\n",
      "7  A3U1924R9ARIMY     1  These cappucino k-cups are truly awful. I pre-...\n",
      "8   AE6C8ZJ8QANHD     5  Absolutely awesome, I love it!!  It is very fl...\n",
      "9  A1VYJWCNH20OFB     1  If you drink coffee... don't buy this crap, wa...\n"
     ]
    }
   ],
   "source": [
    "# Dataset from ds1.3\n",
    "import csv          \n",
    "with open('/Users/Cassandra/Downloads/coffee.csv', 'r') as c:\n",
    "    reader = csv.reader(c)\n",
    "    out = []\n",
    "    for i, row in enumerate(reader):\n",
    "        if i%50 == 0:\n",
    "            out.append(row)\n",
    "\n",
    "dfc = pd.DataFrame(out[1:], columns=out[0])\n",
    "print(dfc.head(10))"
   ]
  },
  {
   "cell_type": "markdown",
   "id": "square-poster",
   "metadata": {},
   "source": [
    "34. How to change column values when importing csv to a dataframe?"
   ]
  },
  {
   "cell_type": "code",
   "execution_count": null,
   "id": "competent-found",
   "metadata": {},
   "outputs": [],
   "source": [
    "# Dateset not int\n",
    "import csv\n",
    "with open('/Users/Cassandra/Downloads/coffee.csv', 'r') as c:\n",
    "    reader = csv.reader(c)\n",
    "    out = []\n",
    "    for i, row in enumerate(reader):\n",
    "        if i > 0:\n",
    "            if float(row[]) > 25:\n",
    "                row[] = 'Yes' \n",
    "            else:\n",
    "                row[] = 'No'\n",
    "        out.append(row)\n",
    "\n",
    "df = pd.DataFrame(out[1:], columns=out[0])\n",
    "df.head()"
   ]
  },
  {
   "cell_type": "markdown",
   "id": "cognitive-bunny",
   "metadata": {},
   "source": [
    "35. How to create a dataframe with rows as strides from a given series?"
   ]
  },
  {
   "cell_type": "code",
   "execution_count": 25,
   "id": "exotic-standard",
   "metadata": {},
   "outputs": [
    {
     "data": {
      "text/plain": [
       "array([[ 0,  1,  2,  3],\n",
       "       [ 2,  3,  4,  5],\n",
       "       [ 4,  5,  6,  7],\n",
       "       [ 6,  7,  8,  9],\n",
       "       [ 8,  9, 10, 11],\n",
       "       [10, 11, 12, 13]])"
      ]
     },
     "execution_count": 25,
     "metadata": {},
     "output_type": "execute_result"
    }
   ],
   "source": [
    "x = pd.Series(range(15))\n",
    "a = np.arange(0, 15, 2)\n",
    "df = []\n",
    "for i in range(6):\n",
    "    df.append(list(x[a[i]:a[i+2]]))\n",
    "np.array(df)"
   ]
  },
  {
   "cell_type": "markdown",
   "id": "fleet-chaos",
   "metadata": {},
   "source": [
    "36. How to import only specified columns from a csv file?"
   ]
  },
  {
   "cell_type": "code",
   "execution_count": 40,
   "id": "partial-bailey",
   "metadata": {},
   "outputs": [
    {
     "name": "stdout",
     "output_type": "stream",
     "text": [
      "                                             reviews\n",
      "0  I wanted to love this. I was even prepared for...\n",
      "1  Grove Square Cappuccino Cups were excellent. T...\n",
      "2  I bought the Grove Square hazelnut cappuccino ...\n",
      "3  I love my Keurig, and I love most of the Keuri...\n",
      "4  It's a powdered drink. No filter in k-cup.<br ...\n",
      "5  Not enough coffee flavor and definitely to swe...\n",
      "6  don't bother! bet you couldn't tell the differ...\n",
      "7  Never tasted this coffee before, I felt much t...\n",
      "8  While the overall idea behind the product is l...\n",
      "9  I bought a keurig and bought these to try. Wel...\n"
     ]
    }
   ],
   "source": [
    "x = pd.read_csv('/Users/Cassandra/Downloads/coffee.csv', usecols=['reviews'])\n",
    "print(x.head(10))"
   ]
  },
  {
   "cell_type": "markdown",
   "id": "divine-holiday",
   "metadata": {},
   "source": [
    "37. How to get the nrows, ncolumns, datatype, summary stats of each column of a dataframe? Also get\n",
    "the array and list equivalent."
   ]
  },
  {
   "cell_type": "code",
   "execution_count": 41,
   "id": "periodic-stomach",
   "metadata": {},
   "outputs": [
    {
     "name": "stdout",
     "output_type": "stream",
     "text": [
      "(542, 1)\n",
      "reviews    object\n",
      "dtype: object\n",
      "<bound method NDFrame.describe of                                                reviews\n",
      "0    I wanted to love this. I was even prepared for...\n",
      "1    Grove Square Cappuccino Cups were excellent. T...\n",
      "2    I bought the Grove Square hazelnut cappuccino ...\n",
      "3    I love my Keurig, and I love most of the Keuri...\n",
      "4    It's a powdered drink. No filter in k-cup.<br ...\n",
      "..                                                 ...\n",
      "537  This is my favorite K-Cup flavor.  I like my c...\n",
      "538  If you are looking for the taste of French Van...\n",
      "539  I have purchased and used 3 boxes of the Hazel...\n",
      "540  Yummy, great tasting and very convenient.  Onl...\n",
      "541  For an enjoyable change from a coffee routine,...\n",
      "\n",
      "[542 rows x 1 columns]>\n",
      "[[\"I wanted to love this. I was even prepared for it to be somewhat like a cheap Circle K Cappuccino. Unfortunately, the product itself is really greasy. You actually see grease in the cup. It is 80 calories per serving and the taste it really really powder tasting, like powdered milk.  I wasn't expecting a Starbucks Cap out of the K-Cup, but I was expecting a little more than this.<br /><br />I read the reviews and they were sort of mixed, so I chose to try it, but I won't buy these again. They will sit on the top cupboard shelf till i am desperate I guess or throw them away. Three boxes of them... EESSSH<br /><br />I also now realize these aren't eligible for return... so that sucks. Oh well, buyer beware, right!\"]\n",
      " ['Grove Square Cappuccino Cups were excellent. Tasted really good right from the Keurig brewer with nothing added.  wWould highly recommend.  RCCJR']\n",
      " [\"I bought the Grove Square hazelnut cappuccino k-cups, not expecting too much.  What a pleasant surprise when I tasted that cup of coffee, it surprised even me, a harsh critic of cappuccino.  It can be compared to the expensive cappuccino that I buy at the specialty coffee shops around town.  Hey, send me some more, I've got guests coming and want to impress them.\"]\n",
      " [\"I love my Keurig, and I love most of the Keurig coffees.  This is instant coffee with instant milk and far too much sugar.  I don't know anyone I dislike enough to dump the rest of the box on.\"]\n",
      " [\"It's a powdered drink. No filter in k-cup.<br />Just buy it in bulk and mix it with hot water....<br /><br />Nothing else to say here. Wont be buying it again.\"]\n",
      " ['Not enough coffee flavor and definitely to sweet.  It had good flavor, but I am just not used to the amount of sugar it had in it and I add a half cup of regular coffee to it to tone it down.  I wish I had realized that it contained sugar and cream, if I had I think I would have chosen something different and been a lot happier with the purchase.  Kids should love this coffee drink though....']\n",
      " [\"don't bother! bet you couldn't tell the difference between this and hot water if your eyes were closed. well, maybe the water would have a taste!\"]\n",
      " [\"Never tasted this coffee before, I felt much too sweet even for dessert.  I would not order again. But then that is only my opinion.  My friend's husband loves it.<br />I gave them to him.\"]\n",
      " ['While the overall idea behind the product is laudable, they blew it by using sucralose instead of pure trustworthy cane sugar. The sweetener leaves an aftertaste that to me, tastes disgusting and ruins what would have otherwise been an enjoyable and flavorful cup of cappuccino. Will not be ordering this product again (or anything else sweetened with sugar-free alternatives).']\n",
      " ['I bought a keurig and bought these to try. Well, my friends and family cleaned me out at Christmas and I had to reorder. People were asking to take them home for the next morning. They are sweet and satisfying. No additional milk or sugar needed.']\n",
      " [\"My husband and I LOVE this French Vanilla Cappuccino.  Sooo glad I didn't listen to some of the reviews and took the plunge and bought it.\"]\n",
      " ['First of all, let me say that I LIKE the stuff from WaWa or other machines, so that is what I was looking for.  I did not want some fancy cappuccino, but something comparable to the stuff I pay $1.50 for in the mornings.  Well, this stuff was very good.  VERY comparable to the machine cappuccino, sweet, smooth, good flavor.  For under $10 a box it comes to around .40 a cup which is great compared to the $1.30+ at the store.  I definitely would recommend it.']\n",
      " ['This is an instant product that\\'s mostly cream and sugar.  Yes I can taste the hazelnut, but smell it more than taste it.  A small cup is way too sweet and the larger cup is weak.  It\\'s so sticky sweet that I run a large cup of water through my maker to make sure it doesn\\'t clog my machine up.  If you like the instant stuff you get from a machine at a convenience store then this is for you.<br /><br /><a href=\"http://www.amazon.com/gp/product/B005K4Q37U\">Grove Square Cappuccino Cups, Hazelnut, Single Serve Cup for Keurig K-Cup Brewers, 24-Count</a>']\n",
      " [\"I also bought this product and I can tell you that I received my shipment in a timely manner and it was worth it!! This cappuccino tastes delicious with no additions like milk, cream or sugar. Just brew it by itself and enjoy the perfect combination of a great cappuccino. Absolutely worth the price and I saved a ton of $$$ by not purchasing from starbuck's..\"]\n",
      " [\"This has to be the worst tasting coffee I have ever had in a k-cup. I buy a lot of k-cups this is the by far the worst. Don't waste your money on this product.\"]\n",
      " ['I must say I got more than I expected in a cup of this cappuccino.  It is rich and creamy and the flavor is great!']\n",
      " [\"I first tried this at my mom and dad's house (in the Vanilla flavor) and was hooked.  Then, after checking out the stats, I was even more hooked and ordered the Caramel right away.  I do a low sugar or sugar free diet and this fits perfectly into my diet as a treat.  With only 80 calories, 4.5 grams of fat and 5 sugars, it's a win/win situation for me.  I do brew it with 10 oz of water instead of 8, otherwise it's just a little too sweet for me.  All in all, I'm very happy with this product and will order more when I run out.\"]\n",
      " ['Great product. Thanks! These have a wonderful flavor when you brew a cup of coffee. I like getting K-Cups from Amazon and trying new flavors.']\n",
      " [\"Normally I don't care for coffee at all, but I absolutely loved these!<br /><br />My sister got one of the Keurig coffee machines, and there were samples of these included in the box. She told me that she thought I would like them, so I gave it a shot.<br /><br />She was right! I absolutely loved these, and after running out of the samples decided to order some from Amazon.<br /><br />For me, they were the perfect ammount of sweetness, and I didn't find there to be any weird artificial sweetner taste as some other reviwers have mentioned.<br /><br />Now I drink one of these every day. The only thing I prefer over these are the Caramel flavored ones (also from Grove Square).<br /><br />I would highly recommend these to everyone. Especially people who normally don't like coffee. A+ and 5 stars in my book!\"]\n",
      " [\"I love these cappuccino's.  I'm addicted to them and have one every morning with my Tully's dark roast coffee.  Delicious.\"]\n",
      " [\"I love these k cups!! One of my favorites! I am someone who likes very light coffee which ends up making the coffee cold very fast and with these you don't need to add anything so it's great!!\"]\n",
      " ['This is so delicious, just like gas station cappuccino machines, which I love!  I will definitely be reordering and trying other flavors.']\n",
      " [\"I loved this Caramel Cappuccino. It reminds me of the taste of Tim Horton's Iced Cappuccino with the caramel flavoring. I made it hot and it was delicious. Then I made it with ice and it was even better!<br /><br />I was a little hesitant to buy this flavor because I saw a negative review and it came in a 36 count package. I didn't want to have to throw out that many Kcups if it was awful. I was pleasantly surprised.<br /><br />We just started using our Keurig a few days ago so we're still testing out all of the good flavors. I've got this on my list of Kcups to stock up on in the future! The Grove Square Caramel Cappuccino is our second favorite flavor at the moment; our favorite is the Celestial Seasonings Sweet Southern Tea.<br /><br />Note: This cappuccino is very sweet. We love sweet drinks so this is great for us. I think it's perfect. However, if you don't like sweet drinks, you may not care for this.\"]\n",
      " ['one word  OUTSTANDING!!!!!!!! for both Hot chocolate and cappuccino<br />they arrived  very quickly and was an excellent value  I look forward<br />to ordering again.']\n",
      " ['These are only for people would want a little coffee with their cream and sugar. Will not purchase these again and Sorry I bought them.']\n",
      " ['this is a great product for your Keurig brewer, has a rich taste and I look forward to my nightly cup of this delightful beverage']\n",
      " [\"i tried this coffee when it was $ll for 24 k cups delicious. so i bought two more boxes and didn't sign up for monthly delivery, now i can't find where to sign up. and the price jumped to $28.99 for 24 cups. that's $1.20 per cup too pricey for this or any other kcup.\"]\n",
      " [\"I was very happy with the taste of this cappuccino!  Unlike the coffee's which i find to be a little strong for my liking this item was perfect! With the coffee i always use the large cup option and add a ton of cream & sugar to make it where it isnt sooo strong.  But the cappuccino is good even in the small cup option! It taste very much like what you buy at a good convenient store from one of their cappuccino machines!  Looking forward to when this becomes available again so I can order more.  You will really want to order this 3 pack instead of a single pack!\"]\n",
      " [\"I do enjoy Hazelnut flavored creamers as well as french vanilla creamers in my coffee, I know the flavors aren't exact but  since I enjoyed them in coffee I might like them in cappuccino as well.  I love the french vanilla flavored variety they sell, so much so I've had to purchase additional (early) shipments from subscribe-n-save.  Unfortunately the hazelnut isn't so great, and not b/c it's 'convenient store' cappuccino either.  I prefer that over 'real' stuff.  It smells wonderful, but just something in the flavor that's lacking and it leaves a weird after taste.  Just wish I didn't buy the 36 count.  Definately buy the French Vanilla variety if you are trying to choose between the two.\"]\n",
      " [\"My wife loves it. It's too sweet for me, but I don't have to drink it. Reasonable price. Good shipping.<br /><br />Be careful or it can drip down and you'll find yourself growing something slimy and green out of sight.\"]\n",
      " ['I bought the French Vanilla Cappuccino for my wife...she absolutely loved it.  It actually has a nice froth on top when you make it...']\n",
      " [\"I buy this for my grandson, he loves it.  Started buying it because of the good price, but I see it is creeping up.  Can't continue if it goes any higher.\"]\n",
      " ['This cappucino is so good that all the employees at my office are drinking this now and want me to order more! And I was going to try to keep it all to myself!']\n",
      " ['This is exactly what I expected, its the same thing you get out of connivence store machines . For about 50 cents a cup I think its worth it and I ordered 2 more.']\n",
      " [\"yes, this is flavored coffee already...but, it's a great base for some spiked refreshment.  i like Carolans or Baileys, but Saint Brendans works well too.  be sure you use a tall cup so you have room for the extra spirits. what could possibly go wrong with that! i'm signing up for a subscription with free shipping.\"]\n",
      " ['I am increasing my monthly order for this product.  We tried it iced and it is delicious, but also love it hot.']\n",
      " ['We are not a coffee people in the least which made it strange when my husband and I decided to get a Keurig machine. However, we both love that cheap gas station \"cappuccino.\" This is PERFECT. I\\'ll be reordering again SOON.']\n",
      " [\"I am not a Vanilla Cappuccino lover, but this is pretty good! My husband & friends love it. It is great for the price & like I told my DH~~~It's for sure better than a gas station cup of cappuccino & a lot cheaper.\"]\n",
      " [\"We love this product.  It's a smooth and flavorful Cappuccino.  Had never heard of Grove Square before, but the price was great and I'm really glad we gave it a try\"]\n",
      " ['I\\'m currently deployed and the taste of \"home\" in this Cappuccino was more than I bargained for!  Finally a hot cup of Cappuccino that not only tasted great but gave me that little kick in the morning to get moving! Thanks Grove Square!!']\n",
      " [\"I Bought This Cappuccino Because of The Price.<br />My Wife and Son Went Through The 24 Pack in 2 Weeks.<br />I Have Other K-Cup Coffee's, This Is Their Favorite.<br />We Now Have it On Automatic Ship(Don't Want To Run Out)\"]\n",
      " [\"Like others said, if you like the ones that come out of the dispensers at the mini marts & gas stations then you should like this. I use the 10oz setting on my brewer so it doesn't water it down too much (it's a powdered mix like the hot chocolates). Also my wife is not a coffee drinker but liked this.<br /><br />Placed order when it was out of stock, but only took about week to arrive via prime.\"]\n",
      " ['B005K4Q1YA  This is just plain nasty tasting. Had to cancel subscription. The artificial sweetener is very overbearing and made the weak coffee taste like apple peelings.']\n",
      " ['We were pleasantly surprised by how delicious this single serve Cappuccino was!!  It is perfect and tasty without any additional sweetener or creamer!']\n",
      " ['For a former coffee shop owner, I\\'d like to think I have some discriminating taste when it comes to \"fast food\" coffee. I was quite happy with the quick version of a vanilla cappuccino, although I\\'d consider it more of a latte. I do like it even better if you brew the smaller cup of espresso through the machine.']\n",
      " [\"I am really surprised that this products gets such a bad rap some times.  It is not coffee, it is a coffee DRINK, and it is darn good.  If you ever go to the grocery store and purchase a cappuccino drink that is ready to go and you just have to add hot water, this is<br />similar, and it is good!!!  You could add a little whipped milk on the top if you want, but you don't have to!!  I am very happy with this product!!!\"]\n",
      " ['This entire line of products are crap!  They are not real coffee, but instant.  Do not waste your money.  You can get a better product at ANY dollar store.']\n",
      " ['First of all, tasted pretty good.  BUT, contacted a few Keurig K-Cup authorized on-line  sellers and was told by all that Grove Square are NOT approved by Keurig and using them will void the warranty on your brewer. Was told they are a \"pirated\" product.  Upon inspection, I discovered that the content are powdered milk, sugar, artificial flavors and INSTANT COFFEE!  Not even real coffee. Not sure if I\\'ll buy again but does taste like Cafe Vienna instant coffee products with the convenience of Keurig. All authorized on-line sellers cannot carry them due to contracts with Keurig. Guess, buy at your own risk.']\n",
      " [\"This is the first coffee I tried when I got my Keurig.  I was so disappointed in the flavor; tasted like plastic (like drinking bottled water that was left in a hot car).  I thought maybe I hadn't cleaned the Keurig enough so I put through more water and brewed another cup...same horrible taste.  I would not recommend this brand to anyone.\"]\n",
      " ['This coffe is terrible, too sweet and it does not taste like Cappuccino at all. Save yourself some money and buy real coffee like the San Francisco Bay Fog Chaser for your Keurig. <a href=\"http://www.amazon.com/gp/product/B005K4Q1YA\">Grove Square Cappuccino Cups, French Vanilla, Single Serve Cup for Keurig K-Cup Brewers, 24 Count</a>']\n",
      " ['This is a great product and was happy to find it online at a great price. I had originally bought it at Wal-Mart and was sad to see I could no longer purchase it there. There were great prices through Amazon and will definitely be purchasing more. The flavor is great!']\n",
      " [\"I admit to being a little skeptical because I don't really like sweet pretend-coffee drinks, but this was really good.  I would definitely recommend it if you like Capp.  You don't need to add milk or sweetner.\"]\n",
      " ['But the truth is that I think it is bad for me.  Nothing is real in it.  I figure I will do better not adding it to my diet.  I reluctantly am cancelling my subscription to it.']\n",
      " [\"I ordered Grove Square K-cups - the cappuccino variety, for my Keurig BREWER.  As with all of the other K-cup coffees I've purchased, I expected it to be filled with coffee for my Keurig to BREW.  Unfortunately, it is filled with instant coffee and flavored with creamer and sweetners.  It tastes HORRIBLE.  I'm pitching the rest -it's not even worth donating to our church.  If I'd wanted Sanka, I would not have purchased an expensive coffee brewer - the microwave would have been good enough!  What I WANT is a cup of freshly brewed coffee.  The product description did not disclose the fact that it is fake coffee.  If a real cup of freshly brewed coffee is what you want from your Keurig brewer, DO NOT BUY THIS PRODUCT!\"]\n",
      " ['I just tried this product for the first time this morning and was eager to do so. Boy, was I disappointed and disgusted! I tried with all my might to get through a fourth of the cup but I simply could not do it. This so-called cappuccino tasted greasy and overly sweet at the same time. I did not even know that was possible for a caffeine product. I would have rather had gas station cappuccino than this garbage. I wish there were a way for me to return the 22 K-Cups that are left but, sadly, they will just end up in the trash. What a waste of my hard-earned money.']\n",
      " ['I have tried several coffee k-cups. From Starbucks to Moonlight coffee...virtually every kcup<br />This coffee tastes more like chemicals. No wonder the price is so low.<br /><br />Do not buy this Coffee -- sorry to say !!!  The worst coffee i ever bought and the biggest mistake i did that I bought several ones.... If anyone needs the chemical coffee , i am willing to sell it out for 50% less price']\n",
      " [\"Imagine yourself craving coffee. But you're on... a big ferry boat. With a single coffee vending machine. The kind that you wouldn't venture near if you had any choice in the matter. But you need a hot beverage, or the caffiene, or something warm to hold, whatever. So you bite. The paper cup shoots out of some recess in the machine, and a close approximation of coffee pours into said cup, with the familiar, but suspect aroma of vanilla in the air. Then you taste it - and yup, it's exactly as vending machine icky as you hoped it wouldn't be. You taste the artificial, and you learn to settle for it. Because you're stuck on a boat.<br /><br />Well, Grove Square Capuccino Cups, French Vanilla - are just a little better than that. A smidgen better, not much more.<br /><br />So if you aren't stuck on a ferry boat (or train station, or gas station, or local DMV waiting area or someplace equally dismal), and if you actually do have a choice, I would urge you to at least try before you buy. So you aren't stuck with 23 k-cups that make you cringe :)\"]\n",
      " ['I was really excited to get this product, as an alternative to straight coffee, for my keurig. Sadly, not only am I disappointed that it is not frothy, as the picture on the box shows, but 1/4 of the box are defective k-cups. The edges of the foil on top are not sealed, so the cups contents have leaked and the machine does not function properly if you still try to use them. I feel that I definitely wasted my money.']\n",
      " ['I was really disappointed with this instant coffee. YES. Instant coffee. They should have added stronger coffee and less creamer/sugar. Too mild and sweet for me.']\n",
      " [\"Very poor taste.  So sweet that it makes you sick.  This stuff is awful.  Weak coffee...all you can taste is the sugar.  Can't imagine anyone would actually like this stuff.\"]\n",
      " ['Should have read more about the contents before ordering. I agree that more than Keurigs it tastes like the instant coffee that you get at rest stops. Really disappointed.']\n",
      " ['There was only one bad review, so I decided to ignore it because most of the reviews were favorable. What a mistake. It is really watery and the taste is not the same of the convenient stores. Waste of money. I will not recommend this product.']\n",
      " ['Defeats the purpose of K-cups. It just instant coffee, and much more expensive than normal instant coffee. Either get instant coffee cheaper, K-cups that have real coffee in them for more money or just brew regular coffee.']\n",
      " ['I purchased this even after a few other reviewers mentioned that there is a fake sweetener taste thinking it would be ok but the taste is really overwhelming. If you are ok with drinking diet soda you will be ok with these. If not I would stay away. I keep trying to feed these to guest but with very poor luck :-).']\n",
      " [\"In two words...awful and artificial.  I didn't find any place I could find out what the ingredients were in this until after I got it and it tasted so weird.  I know, I should have checked it out first, but I didn't even suspect artificial ingredients would be a concern.  Anyway, it is non returnable but Amazon did refund my money for this because to us, it is not fit for consumption.\"]\n",
      " [\"Read the label carefully, it's instant coffee, not the ground coffee as the other brands, no filter inside, and had partially hydrogenated oil in it, I returned it as hydrogenated oil is harmful and the coffee itself is kind of gas station quality.\"]\n",
      " ['This coffee beat our expectations. We bought it thinking we would try it out because of the cheap price, but found that the coffee is very good and hope to buy more at this amazing value!']\n",
      " ['I tried this and was disappointed. No coffee taste and artificial milk and sweetners. It does not really taste like a cup of cappuchino that you get in a store or restaurant---It is really an artificial made up blend ----stay away or try it at your own risk.']\n",
      " ['I love these K-cups they are wonderful.  I have bought hazelnut, French Vanilla, Caramel and Caramel Apple Cider.  I love<br />each one.  They are absolutely terrific.']\n",
      " ['I Have been ordering this k cup cappucino drink for awhile now and have never had a problem! Love it tastes good!']\n",
      " ['Great price.  Really love the the flavor.  No need to add anything to this cappuccino to enhance the flavor. Really enjoyable anytime drink. This is a house hold favorite.']\n",
      " [\"It's silly to call this a Cappuccino. There is no coffee flavor whatsoever. I have even tried making this 1/2 and 1/2 with strong coffee. Still can't tolerate it.\"]\n",
      " ['Thought it was coffee k cups we were purchasing but it is powdered drink mix. Read carefully before buying this brand.']\n",
      " ['This is a product that we will use again as it was a quick way to create a drink that satisfied the need for a casual cup of refreshment.']\n",
      " ['I love this product, the taste is so rich and satisfying.<br />When your craving something sweet , this takes that edge off and only 80 calories!']\n",
      " ['The flavor is rich, sweet and you do not need to add anything to it. It has sugar and cream already in it...just pour and enjoy it as is!']\n",
      " [\"I love this coffee.  So far have only had the vanilla but going to try the others.  It is like having a cappuccino in a coffee house. Try it, you'll love it.\"]\n",
      " ['If you like flavored coffee these are a real treat!  They are a great afternoon pick me upper and the price is right!']\n",
      " [\"I couldn't even finish the cup of this. It was extremely sweet and I could feel a cavity coming on! I'll be offloading the rest of this box...\"]\n",
      " ['This is my all time favorite k cup, so far ;) we are about 2 weeks into our first keurig and have been trying all sorts of flavors.  this one is, by far, THE BEST!  used a french/vanilla creamer with it also, made it even better.']\n",
      " ['I bought this item for an occasional treat but still have to find the right setting use to make it have that perfect flavor. The largest \"Travel Mug\" setting leaves the coffee too weak and the smallest \"coffee cup\" setting is too much and even the middle size isn\\'t \"just right\" and sort of tastes like a \"lite\" cappaccino. I never thought I was hard to please but it seems like this has proven me wrong.<br />The price is pretty good so I can\\'t complain on that note, but I guess I\\'m going to continue to drink this item and let it grow on me. As a now-and-then cup of cappaccino it\\'s ok.<br />The 4 star rating is for the price and convenience of not traveling miles to get a cappaccino.']\n",
      " ['this product is hard to find for us in stores in ohio, most k cups are french vanilla coffee, not cappuccino, its delicious, will buy again for sure!']\n",
      " ['Tastes like melted plastic.  I will not buy this ever again nor would I recommend it to anyone else.  Ick!']\n",
      " [\"This is not cappuccino flavored coffee like the one from Gloria Jean's, this is semisweet yummy real cappuccino. (Tastes like the cappuccino from gas station machines) Perfect just the way it's brewed, no sugar or creamer needed.\"]\n",
      " ['I think half the cups were not filled or defective.<br />They seemed empty and the coffe came out like cream colored water. Yuck!']\n",
      " ['I love cappuccino from the gas station. It is sweet and a good pick me up. This tastes just like that! I love love love it. French vanilla and caramel yum yum yummy too. I highly recommend this item for those who love the sweet gas station cappuccinos. I like it sweet and creamy and that is what this is.']\n",
      " ['If you think nothing beats a great cup of cofee in the AM you need to try Grove City Square Cappuccino.Just a greaaat way to start the day.']\n",
      " [\"Unfortunately these flavored Cappuccino's don't live up to the old Gloria Jean Cappuccino. They are all sugar and artificial flavoring. However, if you are fine with tons of sugar, artificial sugar and artificial flavors then this would be a very good product for you.\"]\n",
      " ['I love this cappuccino.  I have tried many others and this one is now the only one I buy.  I wish I could find it in the stores around here but no not here.  I love to sit down at night with my jammies on and my favorite book or TV show and just relax with my cappuccino!<br />A perfect end to the day.']\n",
      " [\"My wife doesn't like standard coffee and has gotten used to the SBUX specialty drinks. While these cups aren't in the same league, they are still good with significantly less calories. Good taste, great price, good product.\"]\n",
      " ['French vanilla single serve cups by Grove Square for the Keurig K-cup brewers is my absolute favorite!<br />Every morning before I leave for the work-day drive, I brew a tall mug of the French vanilla with a cup of one of my favorite bold coffees. The cappuccino/bold coffee mix keeps me alert on my drive, and by the time I reach work, I am raring to get the job done. This is especially umm, umm good on these cool Fall mornings.<br />Pepper Miller<br />Greenville, SC']\n",
      " ['Great quality service and product every time !! Everyone should try Grove Square French Vanilla Cappuccino cups.  The option for the 3 pack 18 count best fits my lifestyle.']\n",
      " ['Terrible flavor.  Watery and weak. Does not compare to the supposedly similar Cafe Express brand of Chai Latte.  DO NOT ORDER *YOU CAN NOT RETURN OR EXCHANGE FOR A BETTER PRODUCT*.  You will not like this, that is why it is so inexpensive compared to regular coffee K-cups.']\n",
      " [\"I tried Grove Square Cappuccino when I was in Washington state and enjoyed it tremendously. After returning to my home in Montana, I found it was unavailable here. I, then, ordered from Amazon and haven't been disappointed with the cappuccino or with Amazon.com. Thanks for a great product and a great price.\"]\n",
      " ['The coffee taste is good but just too sweet for my liking. Also they seem to use instant coffee which can leave bad aftertaste.']\n",
      " ['It is a great tasting \"coffee\" but in fact it is more akin to a hot chocolate than a coffee.  The flavor is coffee (not chocolate-y), but  I noticed it didn\\'t give me the pep as my other Kcups, so I decided to open one of the Cappuccino Kcups and noticed that (unlike my coffee Kcups) this was only a powdery mix - NOT ground coffee placed over a filter - the standard innards.  If you are ok with the idea that this is a coffee equivalent of a hot chocolate powder mix, then this is a great tasting buy, with less pep than coffee.']\n",
      " ['First, it\\'s not coffee. It\\'s an instant powdered mix, which is completely disappointing. I was expecting flavored coffee, not instant mix in a small container. Kind of defeats the purpose doesn\\'t it?  I guess it\\'s my fault for not having read the package? But no where in the product description does it indicate this is \"Instant Coffee\".<br /><br />I would never buy this product again.  It smells wonderful, but tastes like what it is, and that\\'s simply not good for someone looking for a cup of coffee.']\n",
      " ['Received cappuccino K cups from Grove Square, they were in a mailer box not even in the original box , I was unable to see nutrional value of any of the three types of coffee , it is super sweet, I am very disappointed and am stuck with $45.00 of K-cups.']\n",
      " ['I had tried this Cappucino in a package of a variety of flavored coffees when I bought my Keurig coffeemaker<br />and really liked it.  I still enjoy it and loved getting the packages mailed from Amazon. I have always had<br />wonderful service anytime I have ordered anything from Amazon. G. A. Bryson']\n",
      " ['I typically love vanilla cappuccino, and have tried many brands and was excited to try this.  However I had to dump it out because of a Very Strong Artificial Sweetener taste. I also verified that low sugar or low calorie was not on the box.  So something happened in packaging the product, or a very bad recipe.  However I will not buy these again...']\n",
      " [\"I love this French Vanilla cappuccino!  It is exactly what I was looking for to make in my Keurig.  You see, I am NOT a coffee drinker so I am always on the look out for tea or other speacialty drinks to make in my Keurig.  This would be similar to the Cafe Escapes Cafe Mocha and Chai Latte.  It is a mix that fully emties when you run it through the Keuirg.  A word of warning to the die hard coffee drinkers...this is not your Starbucks cappuccino.  It's more like your gas station cappuccino, which was exactly what I was looking for.  Great taste even on the largest cup setting on the Keurig platinum.  My new favorite morning pleasure.\"]\n",
      " ['Ingredient: Partially Hydrogenated Vegetable Oil (may contain coconut, soybean, sunflower, palm and/or canola), Sugar, Corn Syrup Solids, Instant Coffee, Sodium Caseinate, Salt, Natural and Artificial Flavors, Cocoa (processed with alkali), Dipotassium Phosphate, Cornstarch, Mono- and Diglycerides, Silicon Dioxide, Soy Lecithin, Artificial Color, \"Sucralose\".']\n",
      " ['This stuff tastes like the \"coffee\" you get from those vending machines at interstate gas stations or 7-11s.  The first ingredient listed on the box is group of partially hydrogenated vegetable oils.  Doesn\\'t bode well for a supposed cappuccino.  That\\'s followed by multiple, seemingly random sweeteners, then instant coffee, a long list of other stuff that has no business associating itself with coffee, and then (inexplicably) sucralose, which gives it a strong artificially bitter aftertaste.  I took 2 sips about 45 min ago, and still can\\'t get the taste out of my mouth.  Definitely avoid.']\n",
      " [\"This was very different from what I originally expected it to be.  That being said, I found this to be probably the best k-cup I have ever had.  It is very creamy and has a great hazelnut flavor.  I enjoy a cappucino once in a while and I love hazelnut coffee.  I expected this to be more of  cappucino with a light hazelnut flavor.  That was not the case.  This is like a creamy coffee/hazelnut flavored hot cocoa without the cocoa.  I was expecting something completely different but ended up being pleasantly surprised.  This is a great after dinner or mid day pick-me-up and this will now hold a permanent row or two in my revolving k-cup counter top display. If you want a real cappucino, this isn't for you.  If you want a great tasting hot liquid sweet snack, get this.  I liked this so much, I will be ordering the French vanilla version to give that a try as soon as I complete this review. Also, you cant beat the price....less than $10 delivered to my door.  Wooooo Hooooo!\"]\n",
      " [\"This coffee is delicious. I would assume it's an instant blend, because the K-Cup is completely empty after usage. The caffeine content is low, so it's a great afternoon coffee that won't keep you up at night. If the price stays at 10 dollars with free shipping, it's a good deal. Once they raise the price though, I'm out of here.\"]\n",
      " [\"Sure they are more like instant coffee than freshly ground, and there may even be some artificial sweeteners in there, but the truth is, they're delicious. And for those of you who don't want to put these things in your body, feel free to send them to me. I'm not that picky. I'm a healthy eater all day long, 2 cups of fakely sweetened, fake coffee a day isn't going to kill me. And if it does, so be it, a life without taste is a waste!\"]\n",
      " [\"I was so excited to receive these K-cups and had one today. I wasn't very impressed. It tasted watered down and I had to add Stevia and sugar free creamer to make it taste half way decent to drink. I like a stronger tasting coffee and these just don't cut it. I'm giving both boxes to my daughter-in-law. I knew I should have ordered only one box to try first. Oh well...live and learn. I cancelled my subscribe and save too.\"]\n",
      " ['Grove Square Single Serve Cappuccino Cups, French Vanilla, K-Cups for Keurig Brewers, 24-Count<br /><br />I was concerned it would taste watered down, but I think this is delicious.  The caramel flavor in this brand is excellent, too.']\n",
      " [\"I purchased the Grove Square French Vanilla Cappuccino K-Cups not really expecting much for the price...Boy was I WRONG!!!! This cappucinno is absolutely delicious!!!! It tastes just like what I buy every morning at the gas station on my way to work...ONLY IT IS MUCH CHEAPER!!! It's also more convenient now that I can make it at home and not have to stop at the station to buy it! Makes my day a little smoother and I don't have to rush!<br />Yes, this K-cup is instant coffee, but so's the stuff I buy from the machine at the gas station! I love it! I love the price! I love the taste! I will make sure to keep this in stock at my house...especially if the price stays low!\"]\n",
      " [\"Threw the entire box away.  I thought I was buying Cappichino grade coffee not realizing it was a pre-mixed crappichino. Not only is it premixed but the main ingredients couldn't be more fake and gross. It's a k-cup full of preservatives......YUM.\"]\n",
      " ['This is a fairly weak Cappuccino and a little bland. Still shopping for a good one........It doesnt have much taste at all really. To me its very watery...']\n",
      " [\"This is the first time I ordered, I hadn't read the reviews, which I know I should have. The product was very very sweet, and I like sweet. I kept the coffee, BUT, personally this might be ok if I make it as an iced coffee for the summer.  I guess if you like extra sweet, this is the coffee for you.\"]\n",
      " ['Just love these and can pretend they are \"cocktails\". Most of my friends love them too.  However, I prefer them a little less sweet, so I runn it through the Keurig twice.  Tastes good to me and is cheaper.']\n",
      " [\"Love this coffee especially because I don't have to do anything to it! It has the perfect amount of cream and sugar which is great for me because I have more time to get ready in the morning. Some people say it's gross because it is instant coffee and uses hydrogenated oil but it's super great-- plus you're saving money on cream and sugar! Also, I agree with the person who said it tasted like gas station coffee, but we must have different gas stations because everybody (myself include) loves the cappucinos at my gas station!\"]\n",
      " [\"It has that super sweet fake marshmallow in cereal taste. It's not great for coffe, but kids would probably love it. I was hoping to actually taste the hazelnut. All you taste is sweetness. It's an overload of the taste buds in all the worst ways. Day one was okay, then progressively it gets worse and worse until now I feel like I have to write a review about it and I don't usually write reviews.\"]\n",
      " [\"Was not impressed with this product at all. In fact, it's just sitting in the pantry now. It might be possible to brew a cup of strong coffee, divide it two and then run cappuccino to add as a flavor.\"]\n",
      " ['I love Grove Square Cappuccino - especially the Caramel.  It is wonderful to find a K-cup in yummy flavors that is not too acidy on my stomach (like the Emeril Big Bold Easy my husband drinks).<br />This product is difficult to find in stores; our Wal-Mart was constantly running out because it is so popular, so I am happy to find it on Amazon.  This shipment was fast and the price is great.  Thanks!']\n",
      " ['Ordered on Sunday and arrived on Monday. WOW. We will purchase again and maybe try a different flavor next time.']\n",
      " [\"So I thought these were just regular cappuccino cups, when I got them, I saw the Hazelnut and thought oh boy....much to my surprise, they're very tasty!  I've always been a hazelnut fan, but wow!  They're very creamy and flavorful.  So this will be a re-order when I need to re-stock on my cups, very pleased!!\"]\n",
      " ['This cappuccino tastes as good as any I have ever bought from a coffee shop.  I love the french vanilla.']\n",
      " [\"My husband is particular about his coffee.  This has a good flavor and he loves it.  It's definitely not traditional coffee though.  This is instant and is like the cappuccino you get out of the machines at gas station rest-stops.  As long as you're not expecting real coffee, it's great!\"]\n",
      " [\"I love cappucchino & carmel. After reading the reviews I decided to go ahead and buy this. The only thing I wish I had done was buy a smaller box. It doesn't taste bad but it isn't so DELISH that I would be running back for more. I am not a real coffee drinker and before Mcdonalds switched over to the stronger mud tasting cap I LOVED theirs so I thought this would taste like it. It is not real sweet (as other reviewers have indicated). I didn't add anything to it but I will have to doctor it up in order to drink all three boxes. I did not taste any aftertaste either. For me it wasn't that bad but it wasn't that GOOD either. It was just ok. I would be willing to try a sample of the French Vanilla. It might taste better.\"]\n",
      " [\"This is not your Starbucks cappuccino, but your gas station cappuccino.  Tastes just like what comes out of the machine at the gas station- if you like those, you'll love these K-Cups.  They work great in the Keurig and the price is good.\"]\n",
      " [\"was very excited to find this product on here. buddy and i at work split the order because we were both hooked on it and couldn't find it at the store. very good tasting\"]\n",
      " ['Great cappuccino and great buy!  I have shopped the internet and Amazon has the best price!  Would definitly recommend this product.']\n",
      " ['These cups are a great choice if you would like something different than regular coffee.  It tastes and looks like General Foods International Coffees, rather than real coffee.  There is no coffee remaining in the pods when it is finished. It is a nice treat.']\n",
      " ['I love this coffee. It is wonderful, smoothe and just tastes great! I first tried it locally and loved it. Then, my store no longer planned to carry it so I bought all they had. When I found it on Amazon it was delightful. This is my coffee treat and the rest of the time it is hazelnut coffee, not capuccino.']\n",
      " ['for the price of this Cappuccino, I think it is very good, has a slight caramel taste, brews excellent in the Keurig. I will buy again this brand.']\n",
      " ['When I first got my kcup maker i went to walmart and found these kcups,For those who like a really nice creamy cappuccino hazelnut this is delicious. I would not recommend their reg coffee, but the hazel nut cappuccino is the best on the market nothing to add just make and enjoy but i recommend not to use more then 6oz.serving size to get the best flavor, using a larger amount will weaken the flavor very important!they also have vanilla cappuccino and carmel cappuccino which are both very good also.']\n",
      " [\"Best hazelnut cappuccino k-cups I've tasted ... these have just the right amount of sweetness, smooth and creamy with a subtle taste of hazelnut ... absolutely awesome!\"]\n",
      " ['I loved this and for a Weight Watcher is is so friendly, only 2 Points Plus. Have already ordered it it again and will continue to do so. <a href=\"http://www.amazon.com/gp/product/B005K4Q34S\">Grove Square Cappuccino Cups, French Vanilla, Single Serve Cup for Keurig K-Cup Brewers, 12-Count (Pack of 3)</a>']\n",
      " ['this capuccino is very smooth and tastes great.  use the lower water amount for a richer, fuller flavor  but i like it with 10 ounces of hot water.  great alternative to very expensive store bought  capuccino.  french vanilla is excellent also']\n",
      " ['This is an instant cappuccino similar to what I have bought in gas stations.  It makes a medium size cup.  It is very sweet and I like it for a change of pace.  Just be aware, this is not coffee shop cappuccino.']\n",
      " ['This is one of the most delicious coffees i have ever had. i have tried many different brands and this one get my thumbs up. If you love caramel you will love this coffee.']\n",
      " [\"Great tasting coffee, very convenient, no mess, Great when you don't have time, because it's quick and easy, Plus you don't waste coffee, in the morning before work, if you can not finish a pot of coffee.  I just wish they can come out with Irish Cream flavor, My Favorite Cappuccino..\"]\n",
      " ['I am not a coffee snob, but I find this strong is very strong in flavor.  I use the large cup selection on my maker and combine it with a cup of regular coffee.  I think it might be ok over ice.']\n",
      " [\"I like this cappuccino.  It of course is not like you would get at a coffee place it's more like the powdered stuff you can buy. For my preferance it is a little sweet so I mix it 1/2 with coffee but the tast is good and the price is't bad either.\"]\n",
      " [\"This is my favorite wake up coffee for in the morning. It's just too good.I ordered 4-24 count boxes just incase theres a flood in downtown milwaukee......i like to be prepared.\"]\n",
      " [\"Don't brew on high setting if you drink a breafast blend normally becuase you will find these flavored coffees kind of weak.\"]\n",
      " ['Packaged nicely but after drinking breakfast blends maybe this just seems to weak to really enjoy. They are probably better on the lowest water setting of your Kuerig.']\n",
      " ['These K cups are delicious.  A great pick-me-up any time of day.  A great gift for a friend<br />who enjoys cappuccino.  Think about a Keurig coffee maker and these k cups for fathers day.']\n",
      " ['The \"non coffee\" Grove Square K-cups are great. Very tasty, convenient, and at a good price. We especially like the sugar free hot cider but the Cappuccino is good too.']\n",
      " ['These Cappuccino cups were waaaayyy too sweet for me, but I rated them with 4 stars because they were delivered quickly and my boyfriend loves them I figured he would be the one drinking them anyway']\n",
      " ['I will be a repeat buyer of Grove Square French Vanilla Cappuccino. At 54 cents a cup it is worth every penny spent. It has a great French Vanilla flavor and is ready in less than two minutes. No complaints here.']\n",
      " [\"This is a deliscious drink.I have trouble keeping it in stock because all my friends and family go for it the moment they come into my house. Perhaps it wouldn't need tp be quite sp sweet. It is awesome.\"]\n",
      " [\"I bought these knowing they probably wouldn't be great quality, and I was right. They're not horrible, and going down they taste okay. But they leave this really unpleasant aftertaste in your mouth after each sip you take. Probably won't purchase again.\"]\n",
      " ['So glad these are available!! Not having to go out to get a french vanilla cappuccino is great! We love these!']\n",
      " [\"I'm not a big coffee drinker as I hate the bitterness.  These k-cups changed the way I think of coffee completely.  They are delicious!  My husband does miss the bitterness of regular coffee and I have some friends who think its a bit too sweet so they do a half and half mixture, but for me... perfection!\"]\n",
      " [\"I purchase a wide variety of k cups for the office staff. This is a favorite amount those who like sweet, flavored coffee. I know it's instant, but those who like it, like it a lot!\"]\n",
      " ['This is the best tasting cappuccino, ever! Just like the yummy gas station stuff that I love. I always look forward to drinking this every day=)']\n",
      " [\"Great Flavor with decent price, much better than spending fortune on a daily basis at starbucks!!!! I wish the price will be fixed and don't change every week.....\"]\n",
      " ['tastes like the convenient store stuff from the machine. Its probably mad eof crap but it tastes good and great price.']\n",
      " ['I ordered the Grove Square Cappuccino cups, Hazelnut.  The price was right, so I figured why not.  I prepared a cup & Had to run out, so I took it with me, I took a few sips & it was really yummy. I had to run in for a short meeting & left the cup in the car.  It was a cool day & when I got back to the car, my coffee was cold. I picked it up & took a sip, I was pleasantly surprise at the creamy cold taste, it was fabulous.  So now I drink it cold & hot. Very satisfied with the taste & creamines. So glad I tried it.  Thanks Amazon.<br /><br />Sylvia Lorenzano']\n",
      " [\"Excellent flavored coffee. Medium brew setting is perfect. I have non-coffee drinkers enjoying this particular brew. The price is right also. It is one of the least expensive brews on the market that don't disappoint the drinker.\"]\n",
      " [\"My wife and I really enjoy this coffee after a meal, as dessert. Unlike other Keurig pods we've had before, this coffee contains all of the cream, sugar, and flavor built in. We really have enjoyed this coffee.\"]\n",
      " ['this stuff is wonderful.  Nice and sweet.  The caramel is also great.. Much better than real coffee and cheaper too.']\n",
      " ['I ordered these for my husband, because he always stops by the local well known coffee shop and gets a french vanilla cappuccino. Well he LOVES the flavor and smell of these. He said \" No more buying out....infact it taste even better!\" I will be ordering more!!']\n",
      " [\"This is pretty good for it being a mix.  Had good flavor and it's a good on the go beverage.  Nothing needs to be added.\"]\n",
      " ['This is such a wonderful break from regular coffee.  We enjoy being able to \"switch it up\" from time to time -- it\\'s quick, convenient and yummy!']\n",
      " [\"Cappuccino in a K cup is a great idea. It's quick and easy and tastes great. It is just the right mixture and not overpowering.\"]\n",
      " ['I decided to try this as something different from coffee and it is really good...easy to use, of course, and cheaper than having to leave home to get a cappuccino!']\n",
      " [\"These cappuccino k cups are perfect! Before I had a Keurig machine I used to buy the General Foods International French vanilla cappuccino, it is really expensive and not nearly as good as this. I have not tried any other cappuccino k cups so I have no other k cup cappuccinos to compare it to but I drink this every day and love it! It's cheaper than my Husbands k cups coffee, cappuccino is never cheaper than coffee! I compare it to the Irving convenience store's cappuccino. It's a great daily treat!\"]\n",
      " ['Love these cappuccinos but because I live in Canada I will not be able to get them much longer. Why?']\n",
      " [\"A very enjoyable sweet treat; love the taste and the price. It's a lot less expensive than going to the convenience store in the mornings.\"]\n",
      " ['I absolutely LOVE this product. I order and reorder this product every time I need to spend a little more money to get my free shipping with amazon. This is always my go to product. Everyone I have had try this product really loves it and ask me for to give them the product info which I do. I want to help support this company by all means. Thank you for a great product.']\n",
      " ['I ordered three different flavors for a birthday gift to go along with the Keurig brewer.  I tried the caramel, hot chocolate, and hazelnut, and they were all excellent.  Rich in flavor and very easy to use.  I am going to buy a Keurig now.  The whole purchase was great.  I will be buying from them again.']\n",
      " ['These are great for your morning coffee without having to have any cream or sugar.These are delicious and easy to use in K Cup form.']\n",
      " [\"This is the best K-cups I have found.  You don't have to add milk or sugar.  It's all there.  Love it.\"]\n",
      " ['Great taste for me. Cup has sweetener and cream, coffee is ready to drink, if you like these both. I am not sure of calories, but I do need to count them']\n",
      " ['The box had been opened before and was taped with Scotch tape Several of the kcups were leaking into the box and had to be tossed That is the first time that has happened but I was very disappointed.']\n",
      " [\"I have been very happy with the Grove Square K-Cup products.  I really like the creamy Cappuccino French Vanilla flavor.  The French Vanilla is great when you want a coffee that's creamy with a light flavor.  Great Price, cost less then other K-Cups which is also a great selling point!  I also like Grove Square Dark Chocolate Hot Cocoa, Grove Square Caramel Apple Cider, and think the Grove Square Medium Roast is okay (it is an instant coffee, so it's lighter in flavor but still good).\"]\n",
      " [\"This cappuccino is fabulous and very reasonably priced! It's like instant dessert from your Keurig with a smooth caramel flavor! I've also ordered the vanilla and love it just as much.\"]\n",
      " ['Pure garbage do not even bother to buy this! Tastes like mud in a cup gross. To those who say it tastes like gas station cappuccino...I have no idea where you get yours but by my area they taste great and better than this crap of a kcup!']\n",
      " ['This is my new favorite coffee.  I have tried over 20 different k-Cup brands and flavors and this one beats them all.  It comes out of the coffee machine looking like chocolate milk and has a very great French Vanilla flavor.  I would highly recommend this flavor.']\n",
      " ['gf loves it  says taste  great  cheap enoiugh  would deffinatly buy again  if you drink coffee  enjoy this one  i hate  coffee']\n",
      " ['This is one of my favorite K Cups out now.Very good cappuccino,and the price is right.I highly recommend this to anybody!!!']\n",
      " [\"I really like this product and at such a low price. I am happy anytime I can buy k-cups for 50 cents or less per cup. Has good flavor and my only complaint would be if you use the biggest cup setting it's a little too weak so I use the middle setting.\"]\n",
      " [\"I make these on the small cup setting and they are yummy, but not a suitable replacement for a good cup of coffee.  I bought them for my 11 year old daughter and they work perfectly because you don't need to add any sugar or cream.\"]\n",
      " [\"Don't get me wrong, this is a good coffee. Only reason for the 4 stars; I am partial to the Hazelnut Cappuccino. We all have different tastes, you may love it, so I recommend you try it. Good pricing, worth a try. Remember, it you don't like it, I believe you can return it.\"]\n",
      " [\"These are not sold on Keurig website and this is the only place I will buy them, due to good pricing. Another coffee that gives me the caffeine I need PLUS it's so, so tasty. Like having dessert ... wonderful and delicious! Yes, redundant, but it's that good! Give it a try.\"]\n",
      " ['Love this cappuccino. Had a hard time finding it. So ordered in bulk :) Will continue ordering. Both my husband and I love it.']\n",
      " ['Every bit as good as from mt favorite coffee shop.  I will definitely order again!  The price was great too!']\n",
      " [\"Even brewing into my smallest cup, this blend is on the weak and watery side.  I'm not a fan but my husband seems to like it.  Go figure.\"]\n",
      " [\"This is the 2 nd time I've ordered this flavor. I love the taste of it. But if u want it sweeter put a little sugar (I use Truvia) & I also put one Carmel Macchiato single creamer. Don't forget to use the 6-8oz setting\"]\n",
      " ['My wife loves our local Road Ranger gas station cappuccino. Nothing else will do, until now. I no longer have to go out in the cold/rain as long as I keep these in stock.']\n",
      " ['Terrific value and it tastes great, the perfect blend of flavors and sweetness! I love it! I am not a big coffee fan, so finding a cappuccino for a reasonable price is exactly what I was looking for!']\n",
      " ['I will order more of this item asap! great stuff. I was hooked the first time that i tried it.']\n",
      " ['way too sweet by itself.<br /><br />however this and a bold coffee makes a pretty good mix.  just do 5oz of this then replace, and do a 5oz of a bold coffee of your choice in the same cup.  then stir.']\n",
      " ['Groveland French Vanilla Cappuccino was very good!  The product was delivered as described & quickly.<br />I would purchase this product again!']\n",
      " [\"Wow, these k cups are so yummy and perfect if you are on the go. They don't require cream and sweetener so just brew and go! The only thing I would like better is if they were sugar free using a sugar substitute and were lower fat or fat free. They do taste yummy though and for the price, you can go wrong!\"]\n",
      " [\"I thought Gloria Jean's cappuccino was good--but Grove Square cappuccino is much better!  It is smoother and creamier--and it costs less.  I'll be ordering more soon.\"]\n",
      " [\"I just received the Vanilla Cappuccino, this is GREAT!  This one has to be my favorite out of the hazlnut & carmel.  It's sweet, but not too sweet...you don't even have to add any creamer to it.  I will be back for MORE!\"]\n",
      " ['Nice price, fast shipping. A Keurig machine is not necessary to brew. I found the product to be very sweet so I add it to 12 ounces of hot water rather than the 8 ounces in the directions.']\n",
      " [\"I bought this coffee after reading multiple reviews that it was just like gas station cappuccino (which I LOVE). Turns out it really is! It has that sweet creamy vanilla taste that requires absolutely no creamers or sugar!I am so pleased that I don't have to go to my local gas station to enjoy this sweet treat anymore!\"]\n",
      " ['coffee goes down very smoothly. taste like very expeensivese coffee when the prices is clearly very affordable. Hope everyone tries it it is very affordable.']\n",
      " [\"I must admit up front that I don't really drink cappuccino. I'm a fan of stronger, black coffees and espressos. I purchased this for other family members and friends who visit. That said, I did taste it and it tastes, well, like cappuccino: ceamy, light, sweet. Almost like hot chocolate if hot chocolate were made of coffee.<br /><br />The price was very good with subscribe and save and still shipped pretty fast, I think it even arrived within 2 days, though as I recall when one uses subscribe and save, in exchange for that extra discount one loses the free 2-day shipping. In any case, it arrived very quickly and the price was 11.xx I think for a 24 pack which is ok for Keurigs on Amazon. I usually expect to pay under 50 cents a cup for my favorite coffees, and this didn't disappoint.<br /><br />There's not much else I can say about this... the cups themselves seemed to require a little bit of a harder push than usual to puncture the bottom in the machine - the first time around it didn't puncture, but closing the top harder the second time worked. I've seen this issue before with a box I got from Sam's Club.\"]\n",
      " ['I love this cappuccino for my Keurig!  It is the only product I use with it.  I just wish they would come out with more flavors, like White Chocolate Mocha, or something.']\n",
      " [\"I'm a vanilla coffee-aholic, and I love this product!!!  I usually use the medium or large setting on my Keurig for one cup, or one of each when I fill my thermos.  What I love about this product is that I don't have to add any additional creamer or milk or sugar, it's just perfect!\"]\n",
      " ['We were pleasantly surprised by the great price and even more delighted when we tasted the produce.  It is hard to imagine how they can put so much great flavor in such a little container.']\n",
      " ['Grove Square Cappuccino Cups were excellent. Tasted really good right from the Keurig brewer with nothing added.  wWould highly recommend.  RCCJR']\n",
      " ['This K-Cup coffee is very flavorful, it tastes great straight away. No need  for cream or sweetener. I will purchase more in the future.']\n",
      " ['You deserve this.....it is delicious,you,ll love your new coffee maker when you use this.Buy it Try it You,ll be back for more.']\n",
      " [\"This is absolutely as good as French vanilla cappuccino that is bought from machines in stores and a very good price as well.<br /><br />Can't keep this at home, my whole family drinks it.<br /><br />Wonderful products, great taste and great price!\"]\n",
      " [\"For 11 bucks a box, I was not expecting this to taste like gourmet Coffee shop coffee... lets be reasonable people, you get what you pay for .... for less than 50 cents a cup, you have to expect something less than what you'd get even at the gas station for a buck a cup... I thought this was on par, if not better, than some convenience store coffee drinks I've gotten in the past. I know a lot of people have issue with the ingredient list containing hydrogenated oils, or whatever, but this is exactly why you should buy something in person first before doing so online.  (Or else google the list of ingredients, which is what I would have done had little things like that concerned me) I took off one star because the sucralose seems to give it an slightly displeasing aftertaste, but thats true of all artificial sweeteners for me.\"]\n",
      " ['Having received a new Keurig brewer during the holidays, I was disappointed that the company no longer carries cappuccino cups. Voila! Amazon & Grove Square to the rescue. Good flavor and value. Signed up for automatic delivery, too.']\n",
      " ['I Bought This To Try Because It Was Cheap!<br />It Tastes As Good As The Coffee Shop I Visit.<br />So Good, That It Is Now On, My Subscribe and Save.<br />Do Not Want To Run Out!']\n",
      " [\"These are so tasty, it's similar to the kind of capuccino you might get from a gas station vending machine. I'm not a huge coffee drinker though, so these are more of a treat. It's nice to not have to add creamer to it when I'm in a hurry. I definitely recommend these unless you're a coffee snob. :)\"]\n",
      " ['Quick and Easy and so yummy. Add a few marshmallows on top and you have yourself a wonderful cappuccino...add a little creamer to jazz it up!']\n",
      " [\"Its been a long time since I've enjoyed my morning coffee. This has a great taste and very soothing.<br />It doesn't need anything added.  Make your cup and walk away, no sugar or milk needed.\"]\n",
      " ['Delicious!  A drink both my husband and I can both agree on.  I especially like that you brew and go, no creamer or sugar needed.']\n",
      " ['Was so excited to see Cappuccino Cups offered by Amazon....after one sip of this stuff I knew that something was wrong.  It would have been very helpful for there to have been a warning on the box that it contained sucrolose...which is a substance that I do not wish to put into my body.  Very disappointed in this product.']\n",
      " [\"I tried the Gloria Jean's cappuccino and was disappointed.  It was not bad, it just didnt taste like  or have the texture of cappuccino.<br /><br />This stuff does indeed taste like gas station instatnt cappuccino but I would not expect a real cappuccino to come out of an instant coffee machine (which is really what the Kuerig is).  That is just not realistic.<br /><br />This product actually does taste like cappuccino and has the foam.  Considering its coming out of a K cup, that is good enough to impress me.  When I want real cappuccino, I will break out whole beans and my frother.  When I want a quick cappuccino fix, I will use this.\"]\n",
      " ['I tried the French vanilla cappuccino and it tastes great, but it is a kcup filled with a powder not a ground coffe, I will definitely buy again.']\n",
      " [\"This taste more like French Vanilla Hot Cocoa than coffee, and I was pleasantly surprised! It still has enough coffee taste that you realize it does have some in it, but it's smooth and creamy like Hot Cocoa. I've become a quick fan, and like it so much that I'm gonna sign up for the subscribe & save to receive a box every two months. Since the coffee taste isn't too overpowering, it makes an amazing drink for a cold winter night. Perfect something to warm you up!<br /><br />P.S<br />Top it with some whip cream, DELICIOUS!\"]\n",
      " [\"I had to come back to edit my review after originally giving this product 5 stars.  Something has gone terribly wrong with this product.  I used to love it,  but now they are just terrible.  I don't know if they changed the formula or what the problem is, but there is a terrible after taste that never used to be there before.  I've heard other customers complain about it, but I had no idea what they were talking about.  I thought they were crazy.  Turns out they were right!  Not every cup, but at least 1/2 of the last shipment had cappuchino's cups that had a very bad after taste.  Why not all?  Can't tell you. When they taste bad they taste really bad and I found myself not even being able to finish.  I'm so dissapointed....\"]\n",
      " [\"I had read other reviews where this was not fancy cappuccino, but more like gas station cappuccino. I have to agree. That's what I wanted. I am very happy with the flavor and simplicity of popping into the Keurig. Can have it made without having to make a stop on my way in the morning.\"]\n",
      " [\"I tried this coffee,if you love teeth grinding sweetness, this one's for you.  Unfortunately, I found it too sweet for my taste.  Just so you know.\"]\n",
      " [\"I am not one of the super picky coffee people out there.  Before my favorite coffee was from Starbucks, the Caramel Machiato.  But I absolutely LOVE this coffee.  I don't really care that it is instant, because I think it tastes really good.  My favorite thing is that on the medium Keurig setting I do not have to do a thing to it to enjoy it.  No sugar, no cream, no nothing.  Just pop the K-cup in, hit the button and enjoy.  If you are not a really big coffee snob and like sweet flavored coffees you might love this one, I do.\"]\n",
      " ['I was so excited to see this product (Grove Square Hazelnut Cappuccino) for my beloved Keurig.  I usually brew flavored coffee into a mug of heated milk & a touch of sugar.  I thought this would be a step faster & a step up from my usual morning cup.  I was dismayed to read that the first ingredient is partially hydrogenated vegetable oil, but I figured I\\'d make the small nutritional sacrifice in the name of morning caffeine happiness.  Well, it turns out the taste is nothing like a true cappuccino, but almost identical to a convenience store (7/11) machine cappuccino.  If you love that flavor, you\\'ll love this k-cup.  I thought those instant-flavored coffees were GREAT when I was a college student!)<br /><br />Another complaint about this new k-cup is that the box suggests you run a hot water cycle (sans k-cup) after making the cappuccino.  I presume this is to rinse out any dairy or sugar product which could muck up your machine.  I\\'m glad for the tip, but wish I didn\\'t have to run down the water in my reservoir.<br /><br />I\\'d hate to throw this coffee out, so this morning I brewed a cup of this and then followed it with a plain coffee k-cup.  It isn\\'t as sweet and has more \"real\" coffee in it, but it still tastes very artificial.  FYI: In addition to the artificial dairy & sweeteners, the cappuccino uses instant coffee.)']\n",
      " [\"This coffee is so sweet that I could not take another sip. I am quite unhappy.  I don't know what to do with it now. I would not recommend to anyone.\"]\n",
      " [\"I got this to have at work and it's great because usually I need something sweet after lunch...and it is very sweet.  Even better is that I don't have to remember to bring milk or sugar or a spoon to work because it has everything in it!\"]\n",
      " ['I love the great taste of these K-Cups. I just reorder for the 3rd time and I am trying the other flavors.']\n",
      " ['This stuff is amazing.  We just got it a few days ago and my husband I only have a few pods left.  I so wish I had ordered at least 4 boxes when it was on sale.  Buy it, you will not be sorry!!']\n",
      " [\"Found this great coffee for Keurig coffee makers. I still can't believe Amazon is the only place you can find it. It tastes great and the price is great. I don't need anymore creamers because this coffee gives me exactly what I want. Nice and creamy which is delicious.<br /><br />Use the small cup because the bigger cup will water it down and it isn't too great that way.<br /><br />LOVE IT!!\"]\n",
      " ['This product was just what I was looking for.  For those complaining of the taste, YES it does taste like something that comes out of those machines in convenience stores!  But that is just what I was hoping for, and got.']\n",
      " ['This is not a drink or something I drink every day, But when I feel the need for a yummy treat I love it']\n",
      " ['I have been drinking this coffee for two months now, and I have signed up for subscription service. It tastes very much like a vanilla latte from Starbucks. This is now my favorite coffee.']\n",
      " ['I thought the flavor was decent, but that it just reminded my husband and I too much of something we would buy at our local gas station. This specific K-cup only makes a very small cup before turning into just dumping water, and therefore was never sufficient for my husband to drink. I should have read the reviews before purchasing, as it seems that others are having some similar feelings!']\n",
      " ['I love this item for keurig coffee makers. Its delicious and I would definately order from this seller again. I would like to try other flavors from the same seller.']\n",
      " [\"I love these! They are so cheap, but so tasty! My husband thinks they are way too sweet, but I love them! They don't have a huge coffe flavor, so they are a bit sweeter than an actual cappuccino. Regardless, they are very tasty and at this price, who can complain? Their hot chocolate is pretty good too.\"]\n",
      " ['Sucralose aka Splenda is an artificial sweetener.<br />I do not buy any artificially sweetened product knowingly.<br />Unfortunately I did not see this on the ingredient list.<br />Luckily I can taste it (yuck) and dumped it.<br /><br />The Chai Latte is another one that is artificially sweetened.']\n",
      " [\"These are oh so delicious! Ok, if you're looking for strong coffee don't get this. If you're looking for deliciousness that feels like dessert, then this is the k-cup for you. Seriously. I'll make one of these when I'm in the mood for dessert and it totally satisfies my sweet tooth. It's got the perfect balance of hazelnut and coffee taste. Not too much, not too little. And the best thing? The freakin price! It comes out to approx. 54 cents a k-cup! Delicious little bargain, that's what it is.\"]\n",
      " ['this is really good like others are saying just like the gas station ones. but alot cheaper I use two for a large togo cup<br />but again it is really good.']\n",
      " ['If you\\'re expecting a real cup of cappuccino you\\'ll be disappointed. This isn\\'t a creamy, frothy cappuccino, at best it\\'s the same as the powdered \"gas station\" cappuccino you can buy at, well, the gas station. If you read the ingredients you\\'ll see \"instant coffee\" listed, as well as artificial sweetners.<br /><br />I don\\'t really mind this kind of cappuccino-ish drink once in a while, but be prepared for a very sweet drink. In addition to the super sweet flavor it was the only kCup I\\'ve ever had explode, and the company wasn\\'t really interested in hearing about it.<br /><br />This flavor is something I definately won\\'t be purchasing again, and the ones I have left are my emergency stash for when I\\'m out of everything else and unable to go to the store.']\n",
      " ['Looking for great coffee at a great price?  This is it. K-cups are expensive but this coffee is great tasting at a great price when purchased from Amazon']\n",
      " [\"These k cups are awesome. They taste very similar to the French vanilla in machines at corporate chains, like 7-11.  We have be very pleased with the flavor. It's a winner.\"]\n",
      " ['This is a great coffee as long as you read the box and only use the 8oz setting on your coffee make. Otherwise it will taste watered down. Also it is an instant coffee so dont be surprised by it.']\n",
      " ['There\\'s only one word to describe this.............. Yummy!  You won\\'t be disappointed if you love latte type drinks.  It is a \"sweet\" drink.']\n",
      " ['Actually this is for my wife who ordered these K-cups for herself. She has already ststed she will reorder more. Loves the cappuccino, I lkie it too.']\n",
      " ['No cream or sugar added to this.  Nice and sweet and goes down smooth.  Set it up to receive automatically every month!']\n",
      " [\"We bought a pack of thee to try. The first cup my husband made me he made on the bigger than regular size and it tasted a little watered down. I tried it today and did it on the reg. size cup setting and it was perfect. I would suggest that if you want more to use a bigger cup, but do 2 KCups and brew it once each. Defintely will buy again! And it's not too sweet!\"]\n",
      " ['Tolerable taste, intolerable ingredients. It comes out looking more like milk than coffee, and tastes watered down. If you let it sit for more than a couple minutes, it starts to seperate. I would not recommend.']\n",
      " [\"I ordered the french vanilla cappuccino and it is the best!!! I'll never buy any other cappuccino. I love tim hortons french vanilla and im telling you this is just as good if not better!!!! highly recommend it!\"]\n",
      " ['Ive yet to try other cappuccino flavors, but this one is awesome..No need for sugar OR milk. Just fill your cup and go!']\n",
      " ['I have tried several different brands of French Vanilla Cappuccino. But when I tried Grove Square French Vanilla<br />Cappuccino it was the best I have ever tasted!']\n",
      " ['I really like the Grove Square Cappuccino - I hope they continue at good prices.  I will be getting more - I have all 3 flavors - maybe you can make some more flavors.']\n",
      " ['was very surprised by how great it tastes.  thought that maybe it would be watery tasting but its not :)']\n",
      " ['Very good and convenient. Also excellent price when I purchased them. I love my new Keurig and nothing could be easier than the K-Cups!']\n",
      " [\"what more can I say. I have reordered this product and am well satisfied. I use it at work in our new coffee pot, but don't have that kind of pot at home.\"]\n",
      " ['First off let me say what kind of coffee drinker I am. Before getting the Keurig, I drank mostly Folders medium blend. I don\\'t have anything against gas station coffee - in fact I drink a lot of it. I like the cappuccino that you can get at a Casey\\'s. I don\\'t like the vending machine coffees at all - too chalky and gritty.<br /><br />Now on to my thoughts on this coffee - reminds me a lot of what I can get at Casey\\'s - pretty sweet stuff. At Casey\\'s gas station I usually get 2/3 cappuccino and 1/3 coffee. This isn\\'t necessary to \"water-down\" with coffee. It is just right to me.']\n",
      " [\"Pretty unique.  There's no filter inside.  Just powder.  The whole container is empty after one dispense.  It has a bit of sweetener after taste to it.  Reading the package, it doesn't seem like they use any sweetener.  Taste good though.\"]\n",
      " [\"This k cup was just wonderful!! I was pleased with the flavor and the price is great. I've already tried two of the flavors. It's great to know that there's still some affordable k cups available.\"]\n",
      " [\"I'm not a big coffee drinker. When I do drink coffee, I use a lot of creamer. These are awesome! I love gas station cappuccino and this is exactly like it but much cheaper!! Fabulous!\"]\n",
      " [\"This is so delicious and very sweet. I typically put skim milk and sugar in my coffee but I really don't think you need it for this kind. I like to brew it on a small cup setting and make it into iced coffee. Tastes great. If you prefer sweet coffees like Caramel and mocha, this could be for you.\"]\n",
      " ['For crying out loud, it is instant coffee-flavored cappuccino.  If you just gotta have the star-place cappuccino at 4-5 bucks a cup, go for it.  Also, the instructions on the box state to run a cycle of hot water through the Keurig after the Grove Square, otherwise it will clog the machine; same goes for hot chocolate, and apple cider k-cups....JimMc']\n",
      " ['Great for instant coffee and perfect for mornings where you don\\'t have time to add cream and sugar. Cheaper than most k-cups too. They do lack the \"ummph\" of regular k-cups though.']\n",
      " ['This is the only Cappuiccino the wife wants in the home. Best of several types she tried . Ordering more to keep, Her happy']\n",
      " [\"Bought it for the wife, she loves it.  Great deal for k-cups.  I don't have first hand knowledge so sorry, nothing of substance in this review.\"]\n",
      " ['The coffee is wonderful with no bitter taste or after taste. I prefer a Cappucino style of coffee with all ingredients pre mixed. This is one of the best that I have tried and I know I will be re-ordering when I am done with my original purchase.']\n",
      " ['It wasn\\'t until my Keurig got \"backed up\" and only dispensed a half-cup that I realized these were instant and as such, required special cleaning. These are not the brew kind so after making a cup, you need to run 1-2 cups of water through the Keurig or the needle and bottom of the filter dispenser/spout (I have no idea what it is called) gets clogged. I clean my Keurig frequently, but these and the hot cocoas are really not worth the hassle of two cups of water after every cup I make. The cappuccino tins from like International Coffee or a packet of swiss miss, etc are much less fuss.<br /><br />As others posted, the taste is off as well. If you want to know what they taste like, go to your local gas station and find the \"caramel cappuccino\" dispenser and try that.']\n",
      " ['Thick delicious and creamy.  I foudn the hazlenut flavoring to be quite distinctive yet not over powering.  I will use the small cup size on this then a small cup of kona and its really yummy and strong :)']\n",
      " ['Love this cappuccino, it is so much better than buying it in a gas station. Very good and would recommend it to everyone.']\n",
      " ['I must concur with previous reviews stating that if you like \"convenience store caps\",you\\'ll probably be OK with this product.I used two 6oz passes through our Keurig,added an ounce of liquid French Vanilla creamer and then ran the mix through a Latte blender we have.Although a tad thin(next time-2oz of creamer),the end result compared very favorably with the local 7-11 caps,which my wife and I both love.As for previous remarks about sucralose;if I hadn\\'t already known it was there-I wouldn\\'t have known it was there(cannot speak to medical aversions,you\\'re kind of on your own there).Bottom line;at $.35/cup vs $1.50 & up,this does the trick!']\n",
      " ['These are so yummy! Must have for any Kuerig owners. I recommend trying this flavor and company! Mailed in good time too.']\n",
      " [\"I have never heard nor bought this brand before, but couldn't pass up the subscribe and save pricing for these k cups. They were delicious, and as previous poster stated, you don't even need to add anything to it!!!\"]\n",
      " ['I got this since I enjoy cappuccino. I like the fact that I can make these at home, and one cup at a time so that I can make them when I am actually ready for it and it is not sitting around getting cold or old. It has just the right amount of Hazelnut. Living in UpState New York, our mornings can be cold and hard to get up in the morning. This is great to help in the morning.']\n",
      " ['I love cappuccino, with this I can make each cup as needed. It has a great taste, it has just the right amount of caramel flavoring. It is not to strong, and not to weak. It is the perfect thing for those cold winter mornings to get you going.']\n",
      " ['This makes a nice little treat on a cold winter afternoon!  But be sure you use a small cup setting on your coffeemaker or you will end up with something that looks and tastes like cloudy water!']\n",
      " [\"Just what I expected it to be. It's like the powdered stuff they put in the machines at convenience stores. You can't expect real cappuccino from a Keurig.\"]\n",
      " ['I have reordered these twice. They are delish and I enjoy them on a daily basis. No additional milk or sugar is needed to enjoy this sweet treat']\n",
      " ['This is a really good tasting flavored K cup. it is sweet but not to sweet and is much better than some of the flavored k cups. I will be buying more when this is gone.']\n",
      " [\"I usually put creamer in my coffee, and I thought previous reviewers were probably nuts to think that a K-Cup coffee could produce something that didn't need sweetener.  Wrong!  This truly doesn't need any sweeteners/creamers.  It's sweet and creamy all its own!  Very good!<br /><br />EDITED: I love sweet coffee, but after three times of trying it I've decided this is WAY too sweet, and I wouldn't buy it again.  I changed my rating from 5 to 3 stars.\"]\n",
      " [\"Love the flavor of these cappuccino cups they are the right level of sweet for my particular taste<br /><br />That being said the number of damaged cups was un-acceptable it must have been something before boxing because the box the cups come in had no damage at all but 5 of the cups were smashed beyond recognition with the foil ripped and the sides of the some of the cups perforated that's over 20% damaged and useless!<br /><br />I really wish quality control had caught this and I could give it a higher review but with the expense of K cups already having to throw 20% out is not a good thing\"]\n",
      " ['I love the taste of this coffee. My husband says its the best coffee he has ever had. I save alot of money on cream because the cream is right in it. Yummy!']\n",
      " ['These K-cups are delicious. They taste so good and I save alot of money on cream products because the cream is right in the coffee. I plan on buying more soon.']\n",
      " ['My husband isn\\'t a big coffee drinker but loves \"gas station\" cappuccino.  He says these taste even better than what he\\'s used to.  Will definately by again!!']\n",
      " ['I really have fallen in love with my coffee maker because of products like this....Their coca is also pretty darn good.  I would recommend this product.']\n",
      " ['This coffee is good, it could be a little sweeter but it hits the spot if you like French Vanilla Cappuccino.']\n",
      " ['I bought this capuccino for my husband and he loves it so much, that I decided to try it. I dont like Hazelnut but I like this one alot no need to add sugar or anything great for on the go!']\n",
      " [\"I love my Keurig and I love this product as well.  I've never had a Cappuccino before if its anything like this K-Cup, I'd drink it all day.\"]\n",
      " [\"This product tastes okay, but is definitely quite sweet.  Maybe I missed something, but I couldn't find the calorie content prior to ordering and foolishly ordered any way.  One review I read said there is 60 calories, but it is 80 calories a cup per the packaging, I probably wouldn't have ordered.  This will be a one time per day drink...also has a bad aftertaste.  On a positive note, the pricing is reasonable...however with one a day, it is going to take me two months to go through this drink that I am not crazy about.\"]\n",
      " ['I expected a nice rich vanilla cappucino flavor, instead got a very weak taste. Very disappointing.<br />This is the second \"Grove Square\" product I tried, and both were unsatisfying.']\n",
      " [\"despite a lot of negative reviews, I still bought this product because of the great price. To my surprise I LOVED the cappuccino! I brew the small cup when using these K-cups because it's a little stronger, when you brew the larger cup size it's a little weak. Over all, loved the product and the price!!\"]\n",
      " [\"SO BEWARE its instant coffee NOT real coffee I was expecting a dark roast sort of brew with a hint of vanilla... My mistake for not reading others reviews. That said it is not bad its is instant though so think those machines at the gas station that you pick your flavor from- that's what it is. I would but again but for different reasons NOT a morning pick me up. its also loaded with sugar and fat so dieters beware/\"]\n",
      " [\"I didn't realize before I purchased this that it has sucralose in it. I really dislike the aftertaste, so much that I can't use the rest. If you don't mind that aftertaste, the flavor is otherwise ok.\"]\n",
      " ['I know this is not a real cappuccino but I think it tastes pretty good and is so easy in my Keurig, which was a Christmas gift from my kids.  It has been an adventure trying all the products out there in Kcups, some are hits and some are misses and for me this is a hit.']\n",
      " [\"When I drink this, it tastes like flavored hot water. I think the powdered stuff you add water to that you get in the grocery store tastes way better. Won't be ordering this again.\"]\n",
      " ['The cappuccinos taste alright. I think the powdered stuff where you just add hot water too tastes way better than this. I decided to get one of the Kerruig cups where you can use your own coffee or cappuccino and hope it will taste better. Will not be ordering this again.']\n",
      " ['this coffee matches or better than I can get at our local gas station.  and the cost is somewhat less for oz for oz and I do not have to make that extra stop to get coffee.']\n",
      " [\"I tried this yesterday for the first time.  It tasted OK to begin with, but there is an awful, chemically aftertaste.  I assume it's because of the artificial sweetener.  It took me a couple hours to get the gross taste out of the back of my throat.  Completely not worth it!\"]\n",
      " [\"Even for my hubby who likes just a little coffee with his cream and sugar (lol) this was perfect as is straigh from the Keurig machine!  I love how it tastes as well.  It is basically the powdered cappuccino mix in a k-cup. There is no filter inside it so you can't re-use them if you were going to use the K-Saver metal caps to re-use your k-cups.  Also you can't use them for more than one cup as you can some regular ground coffee k-cups.  Overall though - the flavor is excellent and well worth the 4 stars!\"]\n",
      " [\"This coffee was WAY too sweet for me, I used one and I'm giving the rest to a good home.  By way of reference, I normally put a teaspoon of flavored creamer and 1-2 packs of splenda in a cup of coffee, so I do like mine doctored.  This reminded me of those nasty international delight flavored coffees.  It also clogged the needle on my keurig which was a pain to clean.  Never again!\"]\n",
      " ['I have had my keurig for a couple of months and have tried many different kinds of coffies,ciders, cappuccino,etc...<br />So far, this is my favorite cappuccino. What makes it even better?  Amazon and subscribe and save!']\n",
      " ['Love this product, it is rich and creamy and taste like one you might buy from a high class coffee bar.']\n",
      " [\"Jennifer's review was spot on, I love this French Vanilla cappuccino! This is exactly what I was looking for, yes it's not your Starbucks cappuccino, it's more like what you get at mini-marts or service stations. I'm not a hard coffee drinker and this is just what I was looking for, Thank You, Jennifer.\"]\n",
      " ['My guys travel frequently and like the sweet, frothy convenience store cappuccino.  This is a great replacement at much lower cost per cup.  With 80 calories a serving, it\\'s easier on their waistlines too.  It\\'s not even close to coffee shop cappuccino, which I prefer and they loathe.  I admit, it is a nice frothy drink, but if you\\'re looking for \"real\" cappuccino, you will probably want to avoid this.']\n",
      " [\"It tastes kind of fake, like fake sugar, fake cream and is too sweet, the vanilla flavor isn't that great either. I won't be buying these again.\"]\n",
      " ['when buying these cups you never know what you are getting it could be a wast of money but this box was a good choice....love it']\n",
      " ['Very good price.  Use to could find it in big discount stores but hard to find.  I looked on Amazon and there it was.']\n",
      " [\"I was a bit hesitant to buy cappuccino K-cups.  After all, I had been using the cappuccino mix from Sams Club that provided a very good cappuccion.  It wasn't restaurant quality, but it was good.  Mix is soluable and doesn't need to be brewed.  The Sam's Club mix was cheaper, so why switch?  After the first sip, I was hooked.  This may not be the best cup of cappuccino that I ever had, but it is one of the best and far superior to many cappuccinos served at restaraunts and at 50 cents a mug, is a bargain considering the quality.  I recommend it without reservation.\"]\n",
      " ['This has a very smooth taste, nothing is overpowering in it. I would recommend it to to all my coffee drinking friends..']\n",
      " ['this is very good tasting and a treat for me. and if i do not want to plug in my keruig maker all i need is hot water']\n",
      " ['My son really enjoys this flavor. He would write a different review.<br />I thinks its very weak, even when selecting a small brew. Not as good as I thought it would be.']\n",
      " ['Excellent taste. This is the first time I ordered this particular product and am very pleased.  Would order again. I found the price to be more than fair compared to grocery store prices.']\n",
      " ['<a href=\"http://www.amazon.com/gp/product/B005K4Q1YA\">Grove Square Cappuccino Cups, French Vanilla, Single Serve Cup for Keurig K-Cup Brewers, 24-Count</a> Very good. No need to add sugar.']\n",
      " ['Shipped fast, tasted great, but could do without the hydrogenated oils that all K cup capps seem to have. Looking to try more flavors.']\n",
      " ['Loved this product, highly recommend it. If you like cappuccino you will love this. Also recommend the caramel flavor cappuccino also.']\n",
      " [\"The machine empties the k cup, it's dry contents.  Not all that good, watery even on the low setting of hot water. I won't get them again, yes they are worse than convenient store.<br /><br />Not worth my wait. Even at the price won't get them again.  That fake sugar after taste is not good, just like the reviewer said.  Had to try for myself, so probably will you but you won't like it either.<br /><br />Good luck still lookin for a replacement for the coffee cups.\"]\n",
      " ['Do not down play the rich flavor of the instants offered. They cost less and taste amazing.Better than hot cocoa,in my opinion.Wanna spend less try these \"Grove Square\" brand products.']\n",
      " [\"I'm a black coffee drinker, but once in a while I want cream and sugar with it.  That pretty much describes this K-cup.  Decent, pleasant taste in a convenient one-step process.\"]\n",
      " ['My kids loved the cappuccino the price was right but for me and I am a person with a sweet tooth.  For me it was way to sweet']\n",
      " [\"I bought my son a huge variety of Kcups to go with his new Keurig coffee maker. After tasting about 20 flavors so far, this is the only one that we didn't love. It's not disgusting, but it's just not too flavorful. It had an odd aftertaste to it. We also bought the Grove Square Caramel Cappuccino and I thought that flavor was 10x better.<br /><br />We'll use these up, but I probably won't purchase this flavor again.\"]\n",
      " [\"I recently bought a Keurig so I'm trying out different coffees.  I first found Grove Square Hazelnut Cappuccino in the grocery store.  Now I buy it in bulk at Amazon. I usually drink plain coffee, but sometimes, when I have the option, I'll choose hazelnut over other flavors.  I was so impressed with this cappuccino.  First, while brewing, the aroma was heavenly.  The first sip continued the experience.  It was quite creamy, and had a strong, but not overpowering, hazelnut taste. It was sort of like hazelnut hot chocolate.  This is the only flavor my husband drinks now and he has stopped drinking plain coffee altogether.  I hope they never stop making this.  I've tried the flavored hazelnut coffees, but prefer this cappuccino.  It's perfect for sipping on a cold, dreary day, or whenever you want that extra richness.\"]\n",
      " ['Grove Square offers great flavored coffee and cappuccino K-cups at a very good price, and they always deliver on time!']\n",
      " [\"Good price but this stuff is just too sweet for my liking. 80 calories a cup, 9 carbs, too much fat and sugar. The taste was good though so if you treat it more like a desert instead of an everyday morning coffee then you'll probably like it.\"]\n",
      " [\"Reminds me of the ones I get at the gas station, okay I'm no connoisseur but I know what I like.  These are just great!\"]\n",
      " [\"Tired of paying $5+ for a cup of cappuccino? This is what I'm using to get over that expensive drink habit, this and the French vanilla. Yes it is instant with milk and sugar but still very tasty!\"]\n",
      " ['i know that people have said these taste like the ones you get a gas stations but come on people what do you expect gourmet coffee.<br />very good for the price and i noticed they have gone up.']\n",
      " ['This kcup gets some odd reviews but I must say it is by far the best \"quickie\" I have had. I either make my own latte at home the old fasshioned way or I throw in one of these in the brewer when I am in a hurry. My hubby took them to the aid station and the soldiers devoured them like they were going out of style. I love the flavor nothing needs to be added to it. A dash of whip cream is a nice granish. But locally I can\\'t find them anywhere. Walmart had them but now they are NEVER in stock. I have written to keurig asking them to start stocking these they are worth the try... and if you don\\'t like it send them my way :P']\n",
      " ['This may not be \"real\" cappuccino, but I am not sure I know what that is.  This tastes good and I really enjoy a cup of it, especially on these chilly mornings.']\n",
      " [\"I am trying all types of products to use with my Keurig coffee maker and I thought the caramel cappuccino would be a good choice. It was so sweet I couldn't drink it, I had to throw it out. I have a sweet tooth and not much seems to sweet to me. I wasted my money on this and I will be throwing it out as well as the Grove Square Hazelnut Cappuccino that I bought! Waste of money unless you like super sweet!\"]\n",
      " [\"This items doesn't taste good at all and i was very unhappy to learn that they would not let me return the unopened boxes of this order.\"]\n",
      " [\"I'm an avid K cup user - coffee, tea, cocoa - and have my favorites and not-so-favorites, but dang... This one started off tasting okay, but actually gave me indigestion (burp!). There's a disturbing metallic, cloyingly sweet aftertaste in my mouth too. Your mileage may vary, but this is one K cup flavor I won't be revisiting.\"]\n",
      " ['One of my favorites from Grove Square! A great Cappuccino that has a wonderful flavor and need no creamer to make it taste better. I love this one and the other ones from Grove Square!']\n",
      " [\"Delicious! I ordered the french vanilla cappuccino because I was looking for something delicious that doesn't require the extra effort of adding cream and sugar. This is exactly that! I went through the 24 pack in 2-3 weeks and will definitely be ordering another box soon! I would recommend these for anyone that enjoys french vanilla flavor and normally adds cream and sugar to their coffee.\"]\n",
      " [\"There are 80 calories per cup of this coffee, 40 of those are from fat. The description says it is mildly sweet but I found it overwhelmingly sweet. There was little to no coffee taste, more like Cremora or Coffee Mate with fake sugar. I tried brewing one k cup of this coffee and then in the same cup added another k cup which was regular coffee in hopes of diluting the sweetness but even that way, it was still very sweet and whatever creamer they used was the dominant flavor by far.<br /><br />If you take a lot of cream and sugar in your coffee, you might like this coffee. I didn't like it at all.\"]\n",
      " ['If you are a coffee snob, you will not like this cappuccino.  However, for those of us easing into the world of coffee, this is a nice and sweet caffeinated beverage with only 80 calories.  It tastes just like the cappuccinos you get out of the machine at a gas station.  A nice treat!']\n",
      " ['Another review said this tastes like the \"garbage\" cappuccinos from the gas station. Well in my case, that is exactly what I wanted! These K-Cups are delicious. Creamy and taste just like the french vanilla capps from QuikTrip. I recommend them highly if that is the taste you are looking for.']\n",
      " [\"Normally I don't care for coffee at all, but I absolutely loved these!<br /><br />My sister got one of the Keurig coffee machines, and there were samples of the French Vanilla ones included in the box. She told me that she thought I would like them, so I gave it a shot.<br /><br />She was right! I absolutely loved the,, and after running out of the samples decided to order some from Amazon. After ordering those, I saw these Caramel flavored ones and knew I had to try them!<br /><br />I was so excited when they arrived that I didn't waste any time and instantly brewed one up and tried it. I liked it even better than the French Vanilla ones!<br /><br />For me, they were the perfect ammount of sweetness, and I didn't find there to be any weird artificial sweetner taste as some other reviwers have mentioned.<br /><br />Now I drink one of these every day. There is nothing I prefer more in the morning than one of these.<br /><br />Maybe these aren't for the hardcore coffee connoisseur, but for someone like me, they are awesome!<br /><br />I would highly recommend these to everyone. Especially people who normally don't like coffee. A+ and 5 stars in my book.\"]\n",
      " [\"My wife and I both enjoy this cappucccino!  If you enjoy a dark roast or coffee that is bitter and dark this is not for you. Its light and the taste is easy to drink.  My wife doesn't like a cup loaded with caffeine so this fit the bill for her.  I love that I can brew and go! No sugar or creamer needed unless you have a crazy sweet tooth.  I put a couple k cups to fit in a travel mug and I'm always sorry when its gone.  That means I will have to go back to the truely terrible coffee at work!\"]\n",
      " [\"My wife loves it.  It's too sweet for me, but I don't have to drink it.  Reasonable price.  Good shipping.<br /><br />Be careful or it can drip down and you'll find yourself growing something slimy and green.\"]\n",
      " [\"Normally I put 2 sugars and cream in my coffee. Not this stuff. It's perfect just as it is. VERY SWEET\"]\n",
      " ['This is one of my favorites...almost like the convenient store brand, which I get every day. Would recommend this ..also love, love the Cafe Escapes Chai Latte....Just love my K-Cups.']\n",
      " ['For the price it is a great drink. I will order it again.If you like cappuccino you will like this']\n",
      " ['I wasn`t sure about this instant type k-cups but it was a pleasant surprise I will be ordering more and my husband enjoyed it also']\n",
      " [\"This won't replace your Starbucks Caramel Mocha's and what-have-you, but if you get your morning flavored coffee at BP or QT, then this is a great replacement.\"]\n",
      " [\"I was disappointed with this product.  It's instant coffee, sugar, and powdered creamer/milk.  It doesn't taste much like coffee.  It's okay, but not great.<br /><br />Also, after using the k-cup, you have to run a water cycle on your brewer.\"]\n",
      " ['Perhaps I should have known when I read caramel but I found this item too sweet for my tastes. Nor do I remember reading that it is an instant not a brew product. A lot like International Coffee without the ability to adjust the flavor.<br />Taking it off my S&S list.']\n",
      " ['Found this weak and like the phony cappuccinos you buy at 7-11.  None my favorite that is for sure.<br />I ended up giving it away']\n",
      " [\"This Cappuccino is really good and if you like Hazelnut you will like this product.  It's a smooth flavorful drink and the price is excellent.\"]\n",
      " [\"These caramel cappuccinos are great - they taste great, they are a great pick-me-up and they are ready in seconds! Maybe they aren't like the cappuccino that you would get from a gourmet coffee shop, but you aren't spending gourmet time or money either! A very nice cappuccino for the price and the caramel flavoring is just right.\"]\n",
      " ['Found this item for $4 cheaper at Wal-Mart.  Was too late to cancel my order. One two three four five']\n",
      " ['We recieved the product on time and in excellent shape.  It tastes good and meets our expectations. Thanks for the excellent service.']\n",
      " [\"I enjoy all three of the Grove Square Cappuccino flavors as does my family. I have slowly stopped buying the regular coffee and have swapped over to this brand as I seem to have become addicted to the caramel as I can't get enough of its sweet flavor. At $7.98 a box at Walmart I can buy this and NOT have to buy those flavored creamers. I shake the cup prior to use and set the machine for 8 oz....YUM!\"]\n",
      " ['Every thing about the order went great, the cappuccino is very good. I will be ordering this again probably soon.']\n",
      " [\"First off, I didn't purchase this item for my use, but for my son's use in our Keurig. As for me, I prefer brewed coffee, but most importantly HE likes it.\"]\n",
      " ['This is instant cappuccino.  It is pretty tastey.  I like the cappuccino that is available at the gas stations, and this product is similar.  One caution is that it will clog up the opening on my Keurig.  (found that out the hard way)  Now I usually run through just a cup of hot water afterwards and that keeps it clean.']\n",
      " [\"I really like the taste of this cappuccino.  Some complained that it's a waste because the k-cup is empty after it is brewed.  Why is that important?  I enjoy it and so does my family and co-workers.\"]\n",
      " ['This makes wonderful ice coffee...I have shared it with friends and everyone loves it. I know there have been comments that it is instant coffee but who cares when you have something that tastes good, and is so much cheaper then going to a coffee bar and paying $5 for an iced cappuccino...']\n",
      " [\"LOVE THIS COFFEE! So delicious and love having the creamer and sugar right in there.  80 calories is a bit much but if I limit myself to 2 per day I'm ok with it.  Everyone in the house is loving this one and I ordered more immediately...it's currently on back-order but it's new so hopefully Amazon will stock up on it for me and I can get it faster in the future. Price is good too. Try it! You won't be disappointed.\"]\n",
      " [\"Great coffee, this is instant but other than that it is so good, I add no milk and no sugar, calories are high 80 I think but for one or two cups a day it's fine with me. Glad to see that info on the packaging. It came on time, the price was good and will buy again.\"]\n",
      " [\"This is so good, it's instant but I don't care, still good, Regular K-cups have left over grimes, this K-cup is empty.  So it is instant.  I do not add sugar or milk, calories are high 80 I think but for one or two cups a day is okay.  Very good.  Came on time, no problems\"]\n",
      " ['Initially I was a little bit skeptical about this product, but thought for the price that I should give it a try. I am happy that I did. It is a nice tasting cappuccino and is not too sweet. The taste is better with the smaller sized cups (6oz), it gets a bit watered down with the larger cup sizes. I will be buying this product again.']\n",
      " [\"ABSOLUTELY DELICIOUS!!!  CREAMY...NOT TOO SWEET...SUBTLE FRENCH VANILLA FLAVOR.....YUMMY. HAVE HAD A 24 CT BOX IN OUR OFFICE FOR A WEEK AND THEY'RE NEARLY GONE. EVERYBODY LOVES IT.\"]\n",
      " ['I have tried lots of k-cups and this is one of my favorites.  it is very creamy and smooth.  The Hazelnut flavor is subtle.']\n",
      " ['I ordered these K-cups on a preorder for $9.99.  They are becoming my favorite flavor.  I love, love this flavor.  It was<br />an excellent deal.  Grove Square has a great product.']\n",
      " [\"Great item IMO.  Flavor is better than GMCR's stuff.  I also like the fact that it is on Subscribe and Save and ships for free.\"]\n",
      " [\"I was hoping for a nice creamy cappuccino for the evenings or during the day where a strong brew wasn't needed.  Well, *some* coffee flavor would have been good.  This tastes like coffeemate plus sugar plus old coffee grounds.  Its flat, sweet, thin, and ends with something of a slightly bitter aftertaste, reminiscent of aspartame...  with nothing in between.  There's not even a filter inside the k-cup...  just mostly cheap creamer...\"]\n",
      " ['My bf loves this product. We are about to order more to restock our supply.  Wish I could find it here in the stores.']\n",
      " ['I buy this for my husband & also as an occasional treat for my older kids. Since we are a family of 6, the Keurig is not exactly economical. However, since I found these cappuccino k-cups, it makes it much easier to fit in our budget. And they love the flavor! The French Vanilla ones are great too!']\n",
      " ['The cappuchino is very sweet. I would recommend running a regular coffee through and make it a mocha. I would not recommend more than 8 cups, because that just makes it very weak.']\n",
      " ['This is just as good a I get in gas station. Love the ease of having it brewed in my house.']\n",
      " [\"Everyone's tastes are different and I didn't expect to like this after reading some of the reviews.  I was pleasantly surprised and glad I tried it. I prefer this French Vanilla over a couple of the other brands.  It's the only one I don't have to add sugar or creamer to and it's not too heavy on the vanilla for my taste.  I'm ordering enough to keep stocked up since it's my evening treat and a great price!\"]\n",
      " [\"This is really a great product. When I start my day with the Cappucino Carmel and being out on my patio, it's having a little bit of heaven here on earth. Thank you Amazon for making it affordable for me\"]\n",
      " ['I usually buy caramel coffee creamer to go in my cappuccino but with this product, it is creamy without it. Buying by bulk like this offers, saves me money too. I would recommend this product and I will be making another purchase soon.']\n",
      " ['This Cappuccino is wonderful!  It is hard to drink just one cup!  It the perfect caramel taste!  You must try!']\n",
      " [\"This is a good product for the money - especially if you like cappuccino better than coffee.  It is a little weak compared to other gas station cappuccino's but still tasteful.\"]\n",
      " ['The Grove Square cappuccino is like a \"comfort food\" to me.  It is much like oneI get from a local ice cream parlor, the drink is comforting and relaxing, good for releasing stress at a time when that is extremely high in my life.  A good way to start a busy day for extra pep, yet a good \"slow down\" in the late afternoon or early evening when I need to let go of \"life\" and rest.']\n",
      " ['Love the Hazelnut Cappucino tastes great. I love it when I am reading the paper in the morning. Well worth a try.']\n",
      " ['I am addicted!  As good as any you buy anywhere.  I have bought this several times and am never disappointed.']\n",
      " ['The flavor is absolutely wonderful.  The shipping was extremely fast.  The smaller cup sizes maintain the most flavor.  I would recommend this product to everyone.']\n",
      " [\"I bought the Keurig for my husband who really did not want it.  I don't drink coffee but love, love gadgets.  So order to enjoy my new GADGET I had to find something to make.  I found Grove Square Cappuccino by accident.  I add some whipped cream on the top and what I end up with is a heavenly dessert that has none of the bitter taste of coffee.  I also bought the French Vanilla version and decided I liked it so much that I am on a monthly plan.  For anyone who loves flavored drinks this is perfect.  And my hubby finally came around and uses the Keurig for his coffee.  He does not use this drink since it does not have a coffee taste, thank goodness.<br /><br />I have been watching negatives and positives.  It is all a matter of preference and taste.  I happen to love this coffee because it is sweet and does not taste like coffee.  I simply hate coffee and this is a way to enjoy the Keurig and share some time with my husband who does drink coffee.  As for the additives... welcome to this world of the 21st century!  It satifies my sweet tooth and keeps me from eating cake, cookies, pie and ice cream.  So Grove Square bring it on.\"]\n",
      " ['I really like this product and when it was on sale bought a lot of them. Will wait unil on sale and get more. Tastes like what you get at the gas station and kind of sweet.']\n",
      " [\"These K-cups are great tasting and I love that you don't have to add sugar and/or milk. Just watch out for the calories. Each cup is 80 calories, no free ride here!\"]\n",
      " ['i love this cappuccino, its like the stuff that you get from the gas station and i love that stuff. if you like gas station cappuccino then you will like this, i make it on the 10oz cup size and its perfect. i got the subscription its cheap and really good.']\n",
      " ['Wonderful!!!!  It was the best deal I have ever gotten on K-cups.  Cant wait and will definately purchase again very soon!']\n",
      " [\"If you have a K-Cup maker and you don't have a few of these on deck...you're missing out...seriously. If you threw some whipped cream in your mug, you'd swear these are Starbucks quality for like 1/10 the cost.\"]\n",
      " ['Perfect drink for beginning morning or before retiring for the evening...awesome flavor. I did not have to add any sugar or creamer. This will be my new coffee!!']\n",
      " [\"Just buy a can of instant coffee and stir it into hot water.<br />This is cheaper than the original packages but it does't have coffee.<br />This is not brewed coffee.<br />Literally leaves an empty cup after brewing.\"]\n",
      " [\"We are heavy users of our Keurig machine and frequently look for alternatives.  This cappuccino is not in the ballpark of a Starbucks' choice, but still quite tastey!\"]\n",
      " [\"The item description is deceiving. This is really isn't coffee it's more of a glorified hot cocoa.  Very dissapointed. Can't even drink it.\"]\n",
      " ['It was worse than gas station cappuccino. It tasted like a powder that became more and more watered down the larger the cup you chose to make. Not worth it.']\n",
      " [\"I'm on the fence with Grove Square's Cappuccino Cups - French Vanilla.<br /><br />On one hand, for the price at least, they're great. Sadly on the other hand, they're way too sweet for an every morning drink. The first time I tried it, I had already added cream and sugar before I ever took a sip. That was a bad idea.<br /><br />I'd buy it again in a lesser Qty, but 54 of these is going to last me a long time. They aren't bad at all, I just wasn't expecting such a sweet drink.\"]\n",
      " ['I bought this for my granddaughter because she will drink a cappuccino from most any where. When she was not using them, she used 2, I asked her what was wrong. Her only comment was try one. I did. Holy cow, it is almost kinda of coffer-vanilla flavored sugar water. Really NOT worth the money. Only reason for one star is that you cant give no stars.']\n",
      " ['This \"cappuccino\" doesn\\'t taste good at all! DO NOT BUY, and will never buy again. I would not recommend this product to anyone.']\n",
      " ['I did not like this at all, worse than the gas station cappiccino, which I do like. The grove square french vanilla is just nasty really and it leaves a bad after taste. oh and you have to run a hot water cycle after using it to clean the machine, nothing lefted in the k-cup either, well just a little bit of water to leak from the k-cup when throwing away. I will not buy this again at any price.<br />The only reason for the one star rating was because the shipping and packaging of the products was nicely done, free super saving shipping is great. I just wish the contents of said packaging had been on par. anyone know of a good cappuccino for the keurig?']\n",
      " ['I bought this for my daughter and she was very excited to taste it but was very disappointed to find it to be INSTANT cappuccino. It tasted watered down even at the suggested cup setting. We honestly could have got a container of this same stuff at the local dollar store for a lot cheaper and then we could have added more of the powder when needed. Definitely not worth the money.']\n",
      " ['This stuff tastes great.  However, it is not really coffee.  It is a flavored drink on the order of hot cocoa.  It has a lot of calories (80 per cup) and sugar.  It also clogged up my Keurig big time.']\n",
      " [\"This is one of the best cappuccino's around! I wish they would come out with more flavors! Great price also...you can't beat the price for 24 kcups! Keep up the good work!\"]\n",
      " ['I was browsing on Amazon and saw that they had these french vanilla cappuccinos on here I already get the carmel ones (yummy) so decided to give these a try well tried them and loved them!! I am drinking one as a type!! Yummy!']\n",
      " ['Any product with hydrogenated vegetable oils as the first ingredient isn\\'t worth buying.  This stuff has been banned in NY for a reason - it is poison for the human body. See the Wikipedia article on trans fats for more information.  Here is a clip : \"Because of these facts and concerns, the NAS has concluded there is no safe level of trans fat consumption. There is no adequate level, recommended daily amount or tolerable upper limit for trans fats. This is because any incremental increase in trans fat intake increases the risk of coronary heart disease.[2] \"']\n",
      " ['A friend of mine gave me several of these Grove Square Cappuccino French Vanilla k cups!! Just loved them, but could not find them available in any local store. She told me she got them from Amazon.com. We fix it with a little bit of cream whip on top! Tastes just like you bought it from a coffee shop. Have ordered more, so I never run out. You will not be sorry if your purchase this item. I did order and try the Hazelnut, liked it but not as much as this.']\n",
      " [\"I can taste the sugar substitute in this quite strongly, but not enough to disgust me. I've tasted better, but seeing as it's not made by a barista and only takes 5 seconds to produce, I'd say it's not bad. I was able to drink the whole cup, and that's good enough for me. However, if the fake sugar makes you sick, I'd stay away from this. Let's just say it's not organic or homemade, which it's not claiming to be.\"]\n",
      " ['I was excited to find a reasonably priced K-cup coffee.  That is until I purchased it and tried it.  This is instant coffee -it is dishonest to call it a K-Cup.  You expect real coffee whey you purchase a K-cup.  Save yourself the cost - if you really want instant coffee, buy yourself a jar of instant coffee and grab a spoon.']\n",
      " ['The cappuccino was very tasty-lots of sugar, lots of maybe cream, very little coffee, instant! It does not stay hot in your cup like the ground coffee.']\n",
      " [\"I would not ever buy this again. Sickenly sweet and very artificial tasting. I'm getting rid of this box by mixing it with a regular coffee K cup.\"]\n",
      " [\"Sickenly sweet and artificial tasting. I'm getting rid of this box by mixing it with a regular K cup.I would not ever buy it again.\"]\n",
      " ['Was basically just instant coffee and VERY sweet....I was hoping for one more like the Tassimo Cappuccino pods but no such luck. Will def not buy again.']\n",
      " ['This is just plain instant coffee, not even the decent kind.  The K-cups come out empty after brewing, there is just powder in them- just like the gas station cappuccino machine.  Except the gas station charges less.  Very disappointed.']\n",
      " [\"These cappucino k-cups are truly awful. I pre-ordered this one as well as the french vanilla one and they are both horrible. The consistency, taste, and smell are exactly like the cappucino you get out of those machines at the gas station. Don't bother, there are way better k-cups out there...the green mountain espresso one and the gloria jean cappucino ones are much better. Yes you have to mix your own milk in, but you can get creative and get a cheap foamer to use with different flavored creamers. Way better.\"]\n",
      " [\"I bought thinking it was capuccino but it is way too sweet for my taste. And diabetics should'nt have that much sugar. No more for me.\"]\n",
      " [\"Don't buy this coffee if you want regular coffee.  It is NOT, I repeat NOT just coffee that sort of has a hint of flavor, or smells better than it tastes.  It's sweet and creamy, don't have to add a thing to it.  Great on a cold day, or just a special treat for yourself.  Has a delicate caramel flavor and good aroma.  I've been looking for something like this since I discovered the Chai Tea Latte (which is my all time favorite).\"]\n",
      " ['Like many others, I too was looking for the gas station coffee taste, as I find gas station coffee to be the sweetest and tastiest for an amateur coffee drinker like me. If you prefer the strong, exotic, even authentic taste, this is not the coffee for you. But if you are looking for coffee that is sweet, and tasty without having to do much, this is it.']\n",
      " [\"This company is scamming everyone.  They put instant coffee in a k-cup and pass it off as real brewed coffee.  I purchased their Dark roast to try it out.<br />The first thing I noticed was how lite the k-cup felt.  If you shake it, it sounds like a little snarl drum.  As it brews, you get a real dark thick mixture of water and coffee, and then only water.  When it was done I opened the k-cup.  No coffee grounds, No filter, Nothing inside, completely empty.  The coffee is only for 8 oz. cups, any larger and it is watered down coffee.  Even at 8 oz., the coffee didn't taste good. (that's my personal opinion on the taste)  Overall:  You're getting low quality instant coffee at fresh brewed prices.  Shame on Grove Square.\"]\n",
      " ['The worst coffee beverage I\\'ve ever had. Grove square also has \"coffee\" which you wouldn\\'t serve to your worst enemy. The taste is worse than Pakastani gas station brew, it\\'s more like Nescafe that\\'s been left to burn in a pot for hours. If you think this review is an exaggeration and you have money to waste, try it out, and then proceed to throw $10 in the trash can. Keurig should seriously consider removing all of Grove square\\'s products.']\n",
      " ['I bought this item for a christmas gift for my grandaughter and so we haveent used it as of yet but the speed in delivery and cost was great']\n",
      " ['Very excited to order these....but what a disgusting rip-off. I echo the sentiments of those who compared this to the stuff you get at truck stops- overly sweet and a bit oily....plus it is simply powdered mix in your k-cup....if you want this taste (probably a bit better) for like 25% of the cost buy some instant mix at your grocery store and run your Keuring with no k cup and stir.']\n",
      " ['Not pleased with the flavor. They leave an aspartame taste in your mouth. I would not recommend these. i would say try a sampler before buying a whole box.']\n",
      " ['This product was hard to find in our local grocery store. We enjoy the taste of French Vanilla, and at a great price.']\n",
      " [\"If you're looking to buy some French Vanilla coffee, look no further! Having tried several k-cup flavors, I have to say this French Vanilla is in a league of it's own. It is amazing, so rich and creamy. I have made it both on the medium and small settings on my Keurig and both are very good, the small so creamy and thick, almost like a dessert. AND it is the least expensive of all the cups I've tried, being only 50c per cup, with the next lowest being 67c. I can't wait to try the Grove Square caramel flavor.\"]\n",
      " ['No complaints coffee tasted good and it comes out to less that .50 a cup.<br />I personally think it is a bargain.']\n",
      " ['This product is very good. Out of everything cappuccino french vanilla is the only thing hot that i drink. I bought this not knowing what it would taste like and my husband and i love it. We even add a creamer to it even though its great without it. Its hard to find the right kind and brand but this one was perfect.']\n",
      " ['Just what I was looking for, a rich and creamy coffee with a smooth taste. No creamer needed. Would love to have it in more flavors but caramel is definetly yummy!']\n",
      " ['I was wondering if these would be any good and I am glad I tried them. Easy to make and taste like your in a morning cafe on a chilli morning. I am addicted to these they are a new part of my morning must']\n",
      " [\"Great tasting product. Doesn't really have a 'foam' on the top, but the flavor is excellent. Works very well with the keurig brewer.\"]\n",
      " ['I quickly became a fan of this product after trying lots of K-cups.  I signed up to get a shipment each month from<br />Amazon  and have now increased my order as I am drinking it more than once a day.  Great product!']\n",
      " [\"I am hooked on this cappuccino - it's a great pick me up in the afternoon without giving me a caffeine rush. The package of 3 boxes was a great price and they didn't take long to get here.\"]\n",
      " ['I wondered if I should to subscribe to the same flavored product month, after month.  I mean, at some point we would want something different...right?  However, not only is it still on of my favorites, it has also become a go to flavor for my co-workers.  This is subscription worthy flavor, and I have enjoyed every flavor from Grove Square I have tried so far.  (Just remember to shake the K-cup right before brewing!!!)']\n",
      " [\"Love Love Love this K-Cup. Amazon is the only place I can find it. Wish I could find it at a store near me. This is my favorite flavor. I have made it into a Frapp as well and it's just yummy! :D\"]\n",
      " ['Good single cup cappuccino. Subscribe and save was really convient and price was real good.Could not find a competeing cappuccino product in the area for the price and convience.']\n",
      " ['I enjoy these daily for my morning cup of coffee. Doesnt have a powdery taste and doesnt require any sugar added.']\n",
      " ['If you like a lot of cream and sugar in your coffee, you will prob like this.  I personally do not...  Fake super sweet yucky flavor.<br />Instant coffee with a lot of \"bad for you\" stuff.']\n",
      " ['<a href=\"http://www.amazon.com/gp/product/B005K4Q37U\">Grove Square Cappuccino Cups, Hazelnut, Single Serve Cup for Keurig K-Cup Brewers, 24-Count</a><a href=\"http://www.amazon.com/gp/product/B005K4Q37U\">Grove Square Cappuccino Cups, Hazelnut, Single Serve Cup for Keurig K-Cup Brewers, 24-Count</a> Yummy!']\n",
      " ['This k cup has an artificial sweetener taste. I agree with the poster that said it tastes like something you can buy at a gas station cappuccino machine. I will not be buying this again.']\n",
      " [\"Really great taste!  Smooth, pleasant, and a nice change from the traditional coffee k-cups when you're looking for something a bit different.  I wouldn't want them all the time, but as a treat, they're awesome!\"]\n",
      " ['It wasn\\'t until my It got \"backed up\" and only dispensed a half-cup that I realized these were instant and as such, required special cleaning. These are not the brew kind so after making a cup, you need to run 1-2 cups of water through the It or the needle and bottom of the filter dispenser/spout (I have no idea what it is called) gets clogged. I clean my It frequently, but these and the hot cocoas are really not worth the hassle of two cups of water after every cup I make. The cappuccino tins from like International Coffee or a packet of swiss miss, etc are much less fuss.']\n",
      " [\"I would like to start of by saying this tastes wonderful, BUT and this is a big one I wish that on all the packaging it would state that the product contains Sucralose (Splenda) and I am allergic to it and Have just had a VERY SCARY allergic reaction to it, My throat started to close up and and I had to take a benadryl and waiting for it to start really working its magic (and hoping it does so I won't have to go to the er). Had I known that this product had Sucralose (splenda) in it I wouldn't have bought it. Grove Square PLEASE put it on your boxes, so that all of us that are allergic can stay away from it, Amazon Please post that this has Splenda in it so people know it.<br />I gave this 2 stars because it has a good taste aside form the after taste of the splenda, I wish I could have given it more stars<br /><br />Thank you for listening\"]\n",
      " ['As the title says, I trashed it after a SIP. I made my wife trying that, she had a sip and said \"Yuck\". Hope this helps you not buying this stuff.']\n",
      " [\"Dont like this stuff. Good for a dessert, not for a morning coffee. It's like the powdery stuff you can buy at gas stations.\"]\n",
      " ['I found this when I was shopping at Walmart and decided to give it a try.  I do have to say that it does smell good being \"brewed\".  I was very disappointed to find out that it tastes like the crap that you get at a convenient store.  Once you have Real Cappuccino you really can\\'t ever drink that CRAPuccino at convenient stores.  I know I won\\'t ever buy any of their \"cappuccino\" again, but I will give their hot chocolate and apple cider a try in hopes that they are drinkable.']\n",
      " ['Why do some reviewers seem to expect Italian coffee house products in each and every product made for K-Cups?  This is a Very Nice Cappuccino / French Vanilla flavored drink.  It is well above what you find in some gas stations - and not as good as in some others.  Just because you get it in a gas station does not make it bad - go to Italy and find out.  This makes a very acceptable cup using the middle or lowest setting.  Remember - less is stronger.<br /><br />60 cal (40 fat)  --  4.5g fat sat  --  9 carb  --  5g sugar  --  0g fiber']\n",
      " ['My wife and I enjoy this coffee. It is not to sweet nor does it have an over<br />bearing coffee taste, or after taste.']\n",
      " ['The ingredient tab on the product page doesn\\'t show what is in this cappuccino.  The very first ingredient when I got my order and reviewed it was trans fat, and not just a little.  This stuff will clog your arteries.  I wouldn\\'t have purchased this had the product info been shown.  I didn\\'t know they still used this stuff.  New York outlawed the stuff and the FDA explicitly makes manufactures show this ingredient.  Shame on Amazon for not displaying this.  I did order addition K-cup coffee. I\"ll return them.']\n",
      " ['This is the worst I have ever tasted, makes the vending Machine types taste wonderful. If you want milky flavored water with lots of sweetner then this is for you.']\n",
      " ['Yes, this is an instant coffee.  It dissolves as the hot water runs through the K-Cup.  But it is so refreshing and fast when you need a pick-me-up cup of coffee.  The flavor is wonderful.  My husband and I also like the hazelnut and caramel flavors.  You can\\'t beat this price, especially with \"Subscribe and Save\".  I have found Grove Square at HEB in Texas, but it is more expensive than the price here.  I\\'m not very picky about it being a perfectly brewed coffee with deep, rich taste.  I just want something that is hot and tasty.  Try it out and if you don\\'t like it, share it with a friend or family member who will be glad to have some free, good coffee.  A box of 18 K-Cups makes a great hostess gift.  By the way, the order is for 3 boxes of 18, a total of 54 cups of coffee.  I wasn\\'t too clear on that when I ordered the first time.  Why pay $3 for a cup at Starbucks when this is just as good, convenient at home, and tastes great?']\n",
      " [\"I purchased these at walmart but they were so bad I wanted to come review them so you guys online can be warned.  I brewed myself a cup and it was so bad I couldn't even drink it, i had to throw it out.  First off, I want to say that I'm not a cappuccino snob, I enjoy a great cappuccino at a coffee shop but I also regularly drink the powdered flavored kind that you just mix with water.  I didn't have the highest of standards for this drink to begun with but it was bad, t doesn't have very much flavor the flavor that it does have is not good, it's watery (I brewed it on the small cup setting) and it has a bad aftertaste that I just couldn't get over.  These are also pretty expensive for what you get and you are much better off in my opinion to just go to get a mix with water types.\"]\n",
      " [\"Indeed, this nonsense product parading around like it's real cappuccino is right up there with that swill you get out of the gas station machine.  High in calories, low in quality, you get what you pay for.  I had to take and mix one of these with a cup of regular coffee to make it drinkable.  Granted, I've only had 2 cups of it but I'm going to give the rest of the box away.  Save yourself the disappointment and the money and avoid this garbage.\"]\n",
      " [\"This is too sweet to be cofffee and not strong enough to be Cappuccino. It's way too sweet; this coming from a guy who typically adds cream and 2 splenda's to his coffee.\"]\n",
      " [\"Didn't like the flavor or the taste at all...nothing close to any cappuccino I ever had. Totally disappointed and now I am not sure what to do with remaining 52 cups!<br />Don't waste money by buying bulk, try one first if you could get it.\"]\n",
      " ['I could not wait for this to come. This was not bad at all inspite all the bad reviews that I saw. Next time I make this I will use the 8oz button instead of the 12oz it was a tad watery the instructions said use 8oz setting.']\n",
      " [\"This is not a typical K-Cup, this is a powder. If you are hunting for a new coffee, this is not it. Imagine those cheap bags of hot chocolate in a more expensive K-Cup, and that's essentially what this is. Got it for $9 and I still feel disappointed. Doesn't taste bad, but nothing impressive. Do yourself a favor and skip this one.\"]\n",
      " [\"These are pretty cheap, so we weren't sure what we were going to get. I feel like these are pretty weak, they are alot like the gas station cappuccinos out of the machine but not as strong. I do like that it is only 80 calories, so it's nice to have as a low calorie treat when dieting.\"]\n",
      " ['I Thought I was order mocha not hazelnut!  Do not care for hazelnut and because it is a groccery Item you can not return it so be very careful on ordering!  The french vanilla is very good and I am sure if you like hazelnut it is also very good!']\n",
      " ['When I made my first cup I added cream and sugar as I was not sure what to expect.  It was like drinking sugar!  I then began drinking it k-cup only.  Still sweet.  I have been finishing my order, but will not order again.']\n",
      " ['This product has gone over and<br />I had to pass on where I got it from<br />several of us have now pitched in to buy<br />more for the office as it has flown out with<br />clients as well as staff']\n",
      " ['I purchased this product and did not realize, until reading the ingredient list on the side of the box, that it contained hydrogenated oils. I was unable to return the k cups due to amazon policy so I had to throw the items in the trash.']\n",
      " [\"Good taste. Just be sure you don't use too much water. Will be ordering this again as soon as I can.\"]\n",
      " ['I love this product.  easy to use and a great taste...the package are easy to read and use.  The taste is smooth and rich.']\n",
      " ['LOVE this product!  Wish it would come in a fat free version!  Delivery was great and it smells GREAT! YUMMY, delicious and my hubby enjoys it too!']\n",
      " ['Absolutely awesome, I love it!!  It is very flavorful and creamy.  It makes the perfect cup of warm and cozy comfort!!']\n",
      " [\"One of my coworkers bought a giant K-Cup variety pack, and this variety was in there. Man, it's delicious. It's as good as those French Vanilla cappuccinos you might get from a gas station in the middle of the night when driving down I-5, but you can get it in your own kitchen.<br /><br />Does it have much coffee in there? It's hard to say. The box claims that there is some instant coffee inside, but it certainly doesn't taste like it. It simply tastes like sweet delicious vanilla.\"]\n",
      " ['I am enjoying the cappuccino coffee very much<br /><br />I like to put whipped cream on top when I serve it to friends<br /><br />has a very nice taste<br />you can also put a little choc syrup on top of cream']\n",
      " ['I thank that the French  vanilla cappuccino  is the greates thing that I have ever tasted  It is even better then wawa']\n",
      " [\"I had been waiting for a while for a Cappuccino on the Keurig and I happened to find this one at the store. It's like drinking an angel wrapped in a unicorn. In other words, my new favorite Keurig drink! If you're not a coffee snob and you like French Vanilla and Cappuccino, try this product!\"]\n",
      " ['I was extremely excited when I purchased this product.  Taste is great and I don\"t need to add any extra flavor...just brew and drink.  The price is great!']\n",
      " [\"Yessiree- this is the same sweet coffee-esque sugar buzz that you'll find at most convenience stores and gas stations. Is it a chemical abomination? You bet! Does it taste great with a day-old buttered roll in a wax-paper sleeve? Absolutely! Here is the real thing that fogs your windows and leaves a vanilla aroma in its aftermath. It is sickeningly sweet and guaranteed to snap you out of a hangover when followed with a day-old roll or bagel with cream cheese. Nothing short of an American classic and friend of the open road.<br /><br />It's not just about the sugar. They actually put 30mg of caffeine into this concoction of--well, you really don't need to know.<br /><br />It's cheaper than the $1.75 at the gas station (around $.45 a paper cup).<br /><br />It's not actually coffee-- but it hits the spot when you're down and out and need something more for breakfast than a Baby Ruth Bar.<br /><br />Go ahead- you know that you want this, uh...whatever it is. Mmmmm! Now THAT'S what I'm talking about!\"]\n",
      " [\"I really was wary about ordering this since I's picky about cappuccino but it's great. I like my cuppuccino a bit sweeter so I add 2 Sweet and Low packets per cup.  I'm hooked now on this Grove Square brand. It's great!  Very smooth tasting and good finish.\"]\n",
      " [\"My favorite thing about this K-cup Cappuccino is that it does NOT taste artificial!!!!  I purchased a personalized variety pack of K-cups on amazon and this cup was included.<br /><br />I would highly recommend this to anyone who is sensitive to the artificial flavoring of many K-cups.  This tastes smooth, creamy, and sweet (bc of the caramel).  It tastes like it could have come straight from the coffee shop, really!<br /><br />You don't have to add any cream or anything because it is already included in the cup.  The only complaint that I can imagine others might have is its level of sweetness, if they don't like sweet cappuccinos, but then don't purchase one that is caramel flavored right?\"]\n",
      " ['I am very pleased with this product.. The cappuccino flavor is delicious.. The best cappuccino flavor I have purshased anywhere for my k-cup machine..']\n",
      " [\"$0.42 for a cup of coffee- sure beats buying at Starbucks or another coffee joint. And this tastes better than most of the flavored K-Cups I've tried.\"]\n",
      " [\"I finally found a coffee that I can say I love!  I may never go to Starbuck's again!  This coffe is just strong enough, not too bitter.  Also has a smooth and sweet taste from the french vanilla.  And, the best part is each cup is only 80 calories!  I will definitely order this brand again.  I'm usually a hot chocolate or mocha coffee drinker, but this will be my coffee of choice and I will always have on hand to brew a fresh cup.\"]\n",
      " ['<a href=\"http://www.amazon.com/gp/product/B005K4Q33Y\">Grove Square Cappuccino Cups, Caramel,Single Serve Cup for Keurig K-Cup Brewers, 18-Count (Pack of 3)</a><br />Forget Starbucks, this smooth flavor makes every cup special.<br />Hazel nut is my second choice.<a href=\"http://www.amazon.com/gp/product/B005K4Q37U\">Grove Square Cappuccino Cups, Hazelnut, Single Serve Cup for Keurig K-Cup Brewers, 24-Count</a><br />Have a unique flavor in mind, try the Vanilla with you favorite blend of flavor syrups, regular or sugar free.<br /><a href=\"http://www.amazon.com/gp/product/B005K4Q4LK\">Grove Square Cappuccino Cups, French Vanilla, Single Serve Cup for Keurig K-Cup Brewers, 18-Count (Pack of 3)</a>']\n",
      " ['Besides Timothy\\'s, \"Grove Square Caramel Cappuccino Single Serve Cups\" is another favorite K-Cup coffee to drink if your looking to stock up.. Taste fantastic, is just the right strength to get you going when you need to but not so strong where it gives you the shakes.. Highly recomend \"Grove Square Caramel Cappuccino Single Serve Cups\" if your looking for a new K-Cup to try...']\n",
      " [\"An excellent product. Too bad it's not readily available in the stores. Walmart used to carry it, but I'm told the Grove Square rep is not responsive. Seems foolish to me.\"]\n",
      " ['While Mocha Nut Fudge coffee is still my favorite, and hazelnut the coffee I most often drink,  This is the best tasting cocoa-type think I have yet had.  I find myself drinking the hazelnut, then making this in the same cup with some of the hazelnut still in there, as well as just drinking it by itself.<br />After trying several cocoas and cappuccinos, I was skipping the kcups and just using the machine to make hot water and using the far cheaper instant cocoa packets.  But after a freind had me try the caramel cappuccino, I ordered boxes of my own, and I am still happy with the taste after a month of it.']\n",
      " [\"This product is wonderful hot on a cold day, but if you really want to taste something amazing try this product over ice. On a hot or cold day, hot or cold it doesn't matter as is product has a great taste.\"]\n",
      " ['Delicious!  This is the way I start my morning every day!  Perfect for a quick pick-me-up or when you are rushing out the door.']\n",
      " [\"I savor this drink as I relax each evening. It's rich and just sweet enough to keep me feeling completely satisfied!\"]\n",
      " [\"French Vanilla Cappucino has a very good taste and really enjoy drinking it, very addictive, can't just drink one cup.  highly recommend this flavor\"]\n",
      " ['I bought a box of Grove Square \"medium roast\" for $10.00. I thought, what a great price for K-Cup coffee.<br />Ya right! When I opened the box I thought that the cups were very light. Of course their light, they are filled with instant coffee!<br />For the amount of \"instant\" coffee that I got for $10 I could have bought 2 jars at the same price and got 100 times the same type of coffee.<br />I expect REAL coffee when I pay around 50c a cup.']\n",
      " [\"I had a cup of this at a friend's home, and he asked me if I liked it. I told him frankly that it wasn't great; it tasted too much like instant coffee. He said that it WAS instant! Conclusion: It is anathema to use a K-Cup brewer to make INSTANT anything. And at 50 cents (minimum) per cup, it's got to be the height of misplaced convenience. There are wonderful flavored coffee K-Cup varieties out there -- try them.\"]\n",
      " [\"Great coffee, it's is instant because the cup is empty when it's done brewing, but I don't care, it is so good, I add no milk or sugar.  I bought all three flavors and like this one the best.\"]\n",
      " ['I found that Grove Square French Vanilla Cappuchino did not have any pleasant French vanilla or coffee smell. The taste was somewhat medicinal with a bitter aftertaste. Not returnable at Amazon since it is opened and after exchanging emails with the company, Sturm Foods, Inc.,  I learned they do not refund customers based on \"personal taste\". I would suggest staying with a brand you know and love and avoid this \"bargain\" item.']\n",
      " [\"Whoever designed and/or created this product has never had a real cappuccino. Even the ones from McDonald's rank as gourmet compared to this vile substance. Unless you are a fan of flavored laxatives,which is what this reminded me of, save your cash and just either buy an over priced cappuccino from a trendy cookie-cutter coffee vendor, McDonald's or a gas station because any of them have better tasting product than this. I literally took a sip and spewed it out in the sink. It was foul. Seriously, don't buy it.\"]\n",
      " ['so smooth tasting.  Good price for this.  good quality. I enjoy this in the morning to start my day.  Or sometimes later in the day to just enjoy the smooth soothing taste of a cappicino.']\n",
      " [\"I tried this at mymoms and it was super tasty ....signed up to get them every 3 months do I don't run out!!!!!\"]\n",
      " ['This cappuccino was very good with a sweet,mild coffee flavor. I will buy it again and would recommend this to my friends.']\n",
      " ['Absolutely love the K-Cup, very smooth tasting, lots of flavor.  So easy to get the cappuccino flavor at home by just popping one of these into your Keurig machine instead of running out of the house and grabbing one.']\n",
      " [\"This was quite yum! I don't know that I would drink this every day. It was really quite sweet... but sure is a yummy afternoon dessert pick me up.\"]\n",
      " ['These cups are excellent.  They are my favorite cups.  I recommend them to anyone who likes this sort of thing.']\n",
      " ['Everyone in my family loved these Cappuccino Cups.  I will be buying more of them when this order is gone.']\n",
      " ['Have had a hard time finding this coffee in the supermarket and I am thrilled that I can now order it online.  Its a tasty cappuccino and I enjoy it.']\n",
      " ['K-Cups that taste good.  I was supprised at how good this coffee tastes.  I like it and so do others in the house.']\n",
      " ['I love my Kuerig and especially love the variety of drinks that I am able to make with it. Product was just as stated and arrived in a timely manner.']\n",
      " ['This is the best Cappuccino that you can get for your Keurig!!!  We love it!!  If you like the taste of a cappuccino out but can never get that taste at home, this will solve your problem.  I think you will be very pleased with this purchase.']\n",
      " ['Considering it arrived in three days...amazing...and my father in law loves this...he was so pleased to have his favorite Keurig cup arrive ....and it tastes great too!']\n",
      " [\"Had not been able to find this cappuccino since I moved 3 mos. ago.  Finally got on Amazon and found it. LOVE this flavor and my friends love to sit around the table & talk while we're enjoying it. It gets my day started off right!\"]\n",
      " ['I have never tried Hazelnut Cappuccino before, so I BOUGHT SOME, (it is great), try some and you will like it as much as I DO, GREAT FLAVOR, AND IN COMES IN A SMALL K-CUP, WITH YOU DO NOT HAVE TO MES- ARROUND, WITH COFFEE GROUNDS, AND IT BREWS QUICK WITH THE KURIG COFFEE MAKER.<br /><br />TRY IT AND YOU WILL LIKE IT. I RECCOMMEND THIS TO EVERYONE. Jim in Ohio']\n",
      " ['After trying several different k-cups, this is the one that is a keeper.  In fact, they are so good that I set them up on the subscription auto delivery program.']\n",
      " [\"I was disappointed to see that this product contains Sucralose.  It also contains sugar so why the need for an artificial sweetener too?  I now have 54 kcups of a product that I really don't care to put in my body.<br />Some people are sensitive to artificial sweeteners, like my daughter who immediately went to the bathroom after drinking a cup, so the should definitely be listed.\"]\n",
      " ['<a href=\"http://www.amazon.com/gp/product/B005K4Q1YA\">Grove Square Single Serve Cappuccino Cups, French Vanilla, K-Cups for Keurig Brewers, 24-Count</a> My husband purchased this because he knows that I like (another brand) Cappuccino. Disappointed and upset are only two words that I can use to describe the experience. It was extremely sweet and already lightened (very light) and what I consider an instant coffee !! No where did it say that it is instant or artificially lightened. I called the company and they said it did not have to be labeled \"instant\" coffee. I don\\'t think he even wanted to listen to me. I told him that I probably would not buy another of their products, especially after reading other reviews......and I would forwarn people about the product!']\n",
      " [\"The only reason this gets one star is because you have to give it atleast that much.  This is not anything like a K-cup.  It is instant coffee in a K-cup wrapper.  There is a supposed guarantee on the box but I have called the number many times and can never get anyone to call me back.  I usually won't bother trying to get my money back on this kind of thing but I have made an exception due to the horrid product.  In the company's defense, there are probably so many people calling to tell them about this wretched product, they may have not had time to get back to me.\"]\n",
      " ['Horrible flavor, horrible taste. I would like my money back.<br /><br />I was so excited when I saw the product and as soon as the package was delivered made a cup of hazelnut cappuccino... what a huge disappointment.']\n",
      " [\"I got this and wanted to try it out and the price was right!  Wow - the taste is sub-par and does taste like something you would find at a gas station dispenser!<br /><br />When I was reading the nutrition facts I noticed that it had 80 calories per serving (not a big deal), I then scanned down and saw that it has 23% of your daily saturated fat!!  Wow!  When I read through the ingredient list the first ones are: Partially hydrogenated vegetable oil, sugar, corn syrup solids, and then instant coffee and some others.  I'm not health nut both those things don't sound that healthy to me and I can see where the saturated fat is coming from!\"]\n",
      " ['This is NOT coffee!<br />It was also not what I expected.<br />No where in the description does it say that it contains hydrogenated oils!<br />I brewed one cup - it looked and smelled like dirty dish water.<br />I threw the entire box out.<br />I want my money back :(']\n",
      " [\"Not fresh brewed coffee, feel bad~!!Cream and sugar added!!Too sweet. I prefer pure coffee than this one. If I want instant coffee powder, what's the point to buy one cup?\"]\n",
      " ['This looks like it would be yummy, but it has a strong taste of artificial sweetener!!!!  Very hard to drink.  Not worth the money!']\n",
      " ['These have wonderful flavor until it hits the last note. The aftertaste is so poor it ruins the entire drink. As my daughter put it \" I keep drinking it because it is so good but then it tastes so bad.\" It has the same bitter aftertaste as drinking a diet soda just a bit stronger.']\n",
      " [\"I absolutely love these, and so does my husband!  We have one every morning, and at 60 calories, that isn't bad at all!  Please keep them in subscribe and save!\"]\n",
      " [\"If you drink coffee... don't buy this crap, watery flavored who knows what!  I don't think it is coffee at all...  Maybe a hot drink for teens graduating from hot chocolate, this stuff is really sweet too.  Seriously a waste of money!\"]\n",
      " ['These are pretty good for what I wanted they taste like the stuff you get at WaWa but that was what I was aiming for. If I want a premium cappacino I have and espresso machine. It tastes the best using the 8oz. size in my opinion.']\n",
      " [\"Yes, this has instant coffee in it and is ready to drink. If you have ever gotten one of those instant cappuccino drinks from a gas station you pretty much know what this is going to taste like. (you know, the one you have to hold the button and make sure you release in enough time so your drink doesn't overflow!) I enjoy it for what it is, because sometimes I just have a craving for those cheap cappuccino drinks. A few things to note:<br /><br />- Make sure you don't brew more than 8 ounces with one cup, it will be diluted. The stuff is powder mix, it doesn't brew like regular coffee grounds<br />- Please pay attention to ingredients if you are health-conscious (See below for nutrition info & ingredients)<br />- It can leave residue in your keurig/brewer so try to run a round of hot water right after brewing<br />- The box indicates that each serving contains 20-30mg caffeine<br /><br />Nutrition Info for 1 cup:<br />80 calories, 4.5 grams fat (all saturated), 170mg sodium (7%), 9g carbs (5g sugar), 0g protein<br /><br />Ingredients:<br />Partially hydrogenated vegetable oil, sugar, corn syrup solids, instant coffee, sodium caseinate, salt, cocoa, natural & artificial flavors, dipotassium phosphate, cornstarch, mono- & diglycerides, solicon dioxide, soy lecithin, artificial color, sucralose\"]\n",
      " ['I never review products, good or bad, but this \"coffee\" is so bad I had to.<br /><br />This is not the typical k-cup coffee. This is an instant coffee similar to Nescafe or SB Via but tastes horrible.<br />The sugar/splenda mix makes this way too sweet. Mixing it half and half with black coffee makes it drinkable.<br /><br />This is basically just adding hot water to instant coffee. There isn\\'t a filter or coffee grounds in the cup.']\n",
      " ['Love the french vanilla cappuccino kcup. It does not have the coffee taste. It taste more like the cappuccino from a gas station. Will be ordering some more soon!!!']\n",
      " ['I absolutely love this cappuccino! I had my doubts, but they were proved wrong! I myself have a sweet tooth and I was worried that this product would taste too much like coffee and not enough like a cappuccino. But thankfully, I was worng and it had the right blend of both. I had 2 cups the first day I bought it! Shared it with my family, they loved it too!']\n",
      " ['Thank you to the reviewer that said this was like the coffee from the gas station machines.  I love that coffee!  I must say though, it is less sweet than the gas station machine coffee.']\n",
      " [\"Dear Coffee snobs, if you want real cappucino, you bought the wrong coffee maker. Considering that you did, be happy with this selection, as its actually VERY Tasty compared to any of the other Cappucino K Cup knock offs. Its the only one I'll buy.\"]\n",
      " [\"I am not a huge coffee drinker, so for me the best cappuccino is one that doesn't have a strong coffee taste. . .I actually prefer the gas station variety over the 'real deal'.  If that's what you like, then this is the perfect fit!  I love it, my husband loves it as well, and he was quite skeptical!  We purchased an actual cappuccino maker several years ago and hated the strong coffee taste, so the machine went back to the store.  He refused to believe me, that this mix was what we were looking for, until I made him a cup!  He's surprised and happy to have a cheaper way to make a favorite drink at home w/out having to stop on the way to work!\"]\n",
      " ['I love this k cup.  Added whip cream and it is heavenly.  Thanks Grove Square for making this great k cup.  Nice aroma and great taste.  My bf also likes the French Vanilla.']\n",
      " ['Well first dont purchase this item if your looking for coffee. To me it taste just like the cappuccino I was getting from the convenient store every morning. I love it!! Typically have 2 to 3 cups a day! Give it a shot :)']\n",
      " ['This coffee tastes worst than any gas station coffee. It leaves a horrible after taste in your mouth before you even finish drinking one cup.']\n",
      " ['I highly recommend passing on this stuff--super saccharine taste plus the additional \"benefit\" of that awful artificial sweetener after taste.  Now what am I going to do with the remaining 23 cups?']\n",
      " ['Oh my goodness, this was bought for us as a housewarming present for our new Kuerig machine.. I ended up having to stab open the K-cups and put half a teaspoon into the bottom of a regular coffee for it to seem anything like a cappucino and for it to be even remotely drinkable.. I feel like energy drinks would give me less of a sugar high than one of these!!']\n",
      " ['way to sweet..taste like hot sugar water..has no coffee back ground taste..sorry that i bought it..nothing like what you get in a coffe shop..waste of money']\n",
      " [\"This coffee arrived fast but when I went to shake the cup it was a big hard ball... they were all like that, I guess they are old and almost expired...This item is non returnable so I am just out the money. Don't buy from this seller.\"]\n",
      " ['I bought this item, but would not buy it again.  I have bought this in other brands that were better. This has an after taste, a little like plastic. I was very dissappointed.']\n",
      " ['I am incredibly disappointed in this French Vanilla Cappuccino. It is too watered-down for my taste, even on the smaller cup setting. I most certainly will be finding a different brand.']\n",
      " [\"The Grove Square Capuccino Cups are just great.  A real treat!  Some of the flavored K-cups are just that - flavored coffee - and you need to add your own cream or milk and sweeteners.  But this is all ready the minute it stops brewing!  To me - the entire concept of the Keurig is to have your favorite beverage ready instantly.  If you have to fill little cups and add your own filters or add your own cream and sugar and flavoring - it isn't quick and instant - and you might as well go back to brewing an enitire pot of coffee or use the espresso machine.  K-cups for the Keurig makes it instant - and with this Vanilla Cappuccino - its ready right away - no need to add another thing.  AND - this is the ONLY place we've found that carries this product.  I've looked at every store in our area that carries K-cups and no one carries this.  Also - the price is great.  Especially this time around.  This is the 3rd time I've placed an order for these and the price was the best ever - $8.47 I think - for 24.  Great price!  Usually they are are betwween $10.47 and $12.  My only regret - I wish Grove Square would also make a Mocha K-cup.  That is another of our favorite coffee drinks.\"]\n",
      " [\"I have never tasted something so awfull in my life! I like gas station cappuccino, I have no problem w/it. But, this cappuccino has something wrong w/it. It's disgusting and I'm sure I won't be able to return it!\"]\n",
      " ['I recently bought a Keurig coffee maker and needed some more k-cups and went right away on Amazon.com where I know I will get the best bargains.I am very happy with my purchase thank you']\n",
      " ['Conveniently, ingredients not listed but for  tiny photo. If you enjoy artificial flavor,corn syrup, vegetable  oil (which??) and INSTANT coffee, this may be just the ticket<br />I bought as gift. Too embarrassed to give . I do not k cup. so  to the trash it goes.<br /> Amazon. please get some info up on non returnable items.']\n",
      " [\"These are quite yummy!  They don't quite rank up there with a coffee that you get at a coffee house.....but they are 1/3rd the calories and way less expensive.  Excellent product.\"]\n",
      " [\"The most delicious coffee in a long time.  It is sweet so you don't need to add any sweetener (unless you are a sweet freak).  And, since I am a diabetic, I had concerns but it doesn't seem to bump my sugar readings up.  Very good product.  And a great price at Amazon.\"]\n",
      " [\"I looked in all the stores around me and couldn't find a cappuccino that i really liked or that even tasted good. I came across this cappuccino on here and it was affordable and you get a lot in the box..... so i decided to try it. It is amazing sooooo good....i actually like it better than i do the gas station cappuccinos!! So happy that i found it on here and am finding myself wanting it every day. A+ from me!!! =)\"]\n",
      " [\"Easily my favorite of all the cappuccinos.  I really enjoy this one.  They are sweet though, so if you don't have a sweet tooth, this may be too much for you.\"]\n",
      " [\"I was so excited to find this product, but I was very disappointed. It's has a plastic taste. It doesn't even deserve one star.\"]\n",
      " ['I should have trusted the other reviews and stayed away from this. Some reviewers compare this to gas station machine cappuccino but I have had way better \"cappuccinos\" from gas station machines than this.<br /><br />Edit (10/9/2012) : I now see a ton of 5 star reviews in the last month or two for this trash! The surprise is that all of them are \"Amazon Verified Purchase\" and most of them are the only review the purchaser has written. If this isn\\'t a case of cooked up reviews, I don\\'t know what is!!']\n",
      " ['Very disappointed in the taste ... nothing like it is described. Tastes very watery with some sugar added to it. Bummed I wasted my $$$.']\n",
      " ['Horrible product! Tried one and had to throw the other 23 out! What a waste of money!! If I could rate it a minus star, I would.']\n",
      " ['I\\'ll keep the box I opened but too bad Amazon won\\'t refund the other 2 boxes. This is truly a cappuccino powder mix stuffed into k-cups.  Caramel sweetness is overwhelming.  Can\\'t taste any \"espresso\" or coffee.  My first time buying this Grove Square brand and this flavor.  Won\\'t make same mistake again.  Will buy only 1 box to try next time.  Disappointed.']\n",
      " [\"In order to get the fastest coffee on earth, I'm willing to sacrifice the lack of aromarather bland flavor and\"]\n",
      " [\"First off i am not sure what people expect. This Fr Vanilla Cap has a great taste, creamy texture and needs nothing added to it.<br />But AGAIN, i read the product info and it stated (sugar/sucralose blend)<br /><br />I use SPLENDA brand sucralose anyway in my coffee. If you do not like the artificial sweetener, then do not order this product. But do not vote it down because you didn't read the info and/or sucralose leaves an after-taste.<br />I have no after-taste from it and therefore I enjoy this product very much.<br /><br />I use this in the B60 Keurig on the middle setting (8oz if i remember correctly)<br />My Pros:<br />-Good price<br />-Creamy texture<br />-Tastes great<br /><br />Will buy again<br />For people with the dopey comments:<br />Let me add: IT IS MACHINE-MADE cappuccino! What do you think a cheap Keurig is? Gourmet coffee?\"]\n",
      " [\"It tastes like a decent powdered cappuccino because that's exactly what it is. I noticed the used k-cup was very light compared to the other ones I had brewed, I opened the top and it was empty. There's no actual coffee in this, just instant. I think it's an okay value for the price, but I wouldn't purchase it again.\"]\n",
      " [\"Really good. Robust and sweet enough that you don't need sugar or milk.  The brewing is easy and quick for a busy career person.\"]\n",
      " [\"This is good!  No, you probably don't want to use the largest setting because it will water it down, but I like this.  It's creamy and sweet and just the thing after a hard day at work.  It's probably not on my diet, though.  :)\"]\n",
      " ['This product just a repackaged instant coffee sold a higher price.  I could get the same results adding a bulk mix to hot water.  I did not buy a Keurig Machine to make instant coffee.']\n",
      " ['I received a sample of this with a variety pack and I love it.  I am not a big coffee drinker, prefering the lighter flavors.  This has nice vanilla flavor and coffee flavor in a creamy drink.  This makes a very tasty treat on a rainy afternoon.']\n",
      " [\"This is my favorite K-Cup flavor.  I like my coffee sweet and creamy and this is perfect.  I don't have to add sugar or creamer.  It's all in there.  Remember those General Foods International Coffees?  Well, that's what it tastes like.\"]\n",
      " ['If you are looking for the taste of French Vanilla Cappucino that comes out of those machines, particularly at gas stations, then look no further.']\n",
      " ['I have purchased and used 3 boxes of the Hazelnut cappuccino and look forward to a cup or two each day!  Wonderful flavor and reasonable in price.']\n",
      " ['Yummy, great tasting and very convenient.  Only drawback is you must clean your machine at least once a week to keep it from clogging, just like with hot chocolate.']\n",
      " ['For an enjoyable change from a coffee routine, I thought I would try this cappuccino.  What also caught my attention was \"Hazelnut\"..a favorite flavor for me.<br />This product delivers very enjoyable, full flavored as hoped for.']]\n",
      "[[\"I wanted to love this. I was even prepared for it to be somewhat like a cheap Circle K Cappuccino. Unfortunately, the product itself is really greasy. You actually see grease in the cup. It is 80 calories per serving and the taste it really really powder tasting, like powdered milk.  I wasn't expecting a Starbucks Cap out of the K-Cup, but I was expecting a little more than this.<br /><br />I read the reviews and they were sort of mixed, so I chose to try it, but I won't buy these again. They will sit on the top cupboard shelf till i am desperate I guess or throw them away. Three boxes of them... EESSSH<br /><br />I also now realize these aren't eligible for return... so that sucks. Oh well, buyer beware, right!\"], ['Grove Square Cappuccino Cups were excellent. Tasted really good right from the Keurig brewer with nothing added.  wWould highly recommend.  RCCJR'], [\"I bought the Grove Square hazelnut cappuccino k-cups, not expecting too much.  What a pleasant surprise when I tasted that cup of coffee, it surprised even me, a harsh critic of cappuccino.  It can be compared to the expensive cappuccino that I buy at the specialty coffee shops around town.  Hey, send me some more, I've got guests coming and want to impress them.\"], [\"I love my Keurig, and I love most of the Keurig coffees.  This is instant coffee with instant milk and far too much sugar.  I don't know anyone I dislike enough to dump the rest of the box on.\"], [\"It's a powdered drink. No filter in k-cup.<br />Just buy it in bulk and mix it with hot water....<br /><br />Nothing else to say here. Wont be buying it again.\"], ['Not enough coffee flavor and definitely to sweet.  It had good flavor, but I am just not used to the amount of sugar it had in it and I add a half cup of regular coffee to it to tone it down.  I wish I had realized that it contained sugar and cream, if I had I think I would have chosen something different and been a lot happier with the purchase.  Kids should love this coffee drink though....'], [\"don't bother! bet you couldn't tell the difference between this and hot water if your eyes were closed. well, maybe the water would have a taste!\"], [\"Never tasted this coffee before, I felt much too sweet even for dessert.  I would not order again. But then that is only my opinion.  My friend's husband loves it.<br />I gave them to him.\"], ['While the overall idea behind the product is laudable, they blew it by using sucralose instead of pure trustworthy cane sugar. The sweetener leaves an aftertaste that to me, tastes disgusting and ruins what would have otherwise been an enjoyable and flavorful cup of cappuccino. Will not be ordering this product again (or anything else sweetened with sugar-free alternatives).'], ['I bought a keurig and bought these to try. Well, my friends and family cleaned me out at Christmas and I had to reorder. People were asking to take them home for the next morning. They are sweet and satisfying. No additional milk or sugar needed.'], [\"My husband and I LOVE this French Vanilla Cappuccino.  Sooo glad I didn't listen to some of the reviews and took the plunge and bought it.\"], ['First of all, let me say that I LIKE the stuff from WaWa or other machines, so that is what I was looking for.  I did not want some fancy cappuccino, but something comparable to the stuff I pay $1.50 for in the mornings.  Well, this stuff was very good.  VERY comparable to the machine cappuccino, sweet, smooth, good flavor.  For under $10 a box it comes to around .40 a cup which is great compared to the $1.30+ at the store.  I definitely would recommend it.'], ['This is an instant product that\\'s mostly cream and sugar.  Yes I can taste the hazelnut, but smell it more than taste it.  A small cup is way too sweet and the larger cup is weak.  It\\'s so sticky sweet that I run a large cup of water through my maker to make sure it doesn\\'t clog my machine up.  If you like the instant stuff you get from a machine at a convenience store then this is for you.<br /><br /><a href=\"http://www.amazon.com/gp/product/B005K4Q37U\">Grove Square Cappuccino Cups, Hazelnut, Single Serve Cup for Keurig K-Cup Brewers, 24-Count</a>'], [\"I also bought this product and I can tell you that I received my shipment in a timely manner and it was worth it!! This cappuccino tastes delicious with no additions like milk, cream or sugar. Just brew it by itself and enjoy the perfect combination of a great cappuccino. Absolutely worth the price and I saved a ton of $$$ by not purchasing from starbuck's..\"], [\"This has to be the worst tasting coffee I have ever had in a k-cup. I buy a lot of k-cups this is the by far the worst. Don't waste your money on this product.\"], ['I must say I got more than I expected in a cup of this cappuccino.  It is rich and creamy and the flavor is great!'], [\"I first tried this at my mom and dad's house (in the Vanilla flavor) and was hooked.  Then, after checking out the stats, I was even more hooked and ordered the Caramel right away.  I do a low sugar or sugar free diet and this fits perfectly into my diet as a treat.  With only 80 calories, 4.5 grams of fat and 5 sugars, it's a win/win situation for me.  I do brew it with 10 oz of water instead of 8, otherwise it's just a little too sweet for me.  All in all, I'm very happy with this product and will order more when I run out.\"], ['Great product. Thanks! These have a wonderful flavor when you brew a cup of coffee. I like getting K-Cups from Amazon and trying new flavors.'], [\"Normally I don't care for coffee at all, but I absolutely loved these!<br /><br />My sister got one of the Keurig coffee machines, and there were samples of these included in the box. She told me that she thought I would like them, so I gave it a shot.<br /><br />She was right! I absolutely loved these, and after running out of the samples decided to order some from Amazon.<br /><br />For me, they were the perfect ammount of sweetness, and I didn't find there to be any weird artificial sweetner taste as some other reviwers have mentioned.<br /><br />Now I drink one of these every day. The only thing I prefer over these are the Caramel flavored ones (also from Grove Square).<br /><br />I would highly recommend these to everyone. Especially people who normally don't like coffee. A+ and 5 stars in my book!\"], [\"I love these cappuccino's.  I'm addicted to them and have one every morning with my Tully's dark roast coffee.  Delicious.\"], [\"I love these k cups!! One of my favorites! I am someone who likes very light coffee which ends up making the coffee cold very fast and with these you don't need to add anything so it's great!!\"], ['This is so delicious, just like gas station cappuccino machines, which I love!  I will definitely be reordering and trying other flavors.'], [\"I loved this Caramel Cappuccino. It reminds me of the taste of Tim Horton's Iced Cappuccino with the caramel flavoring. I made it hot and it was delicious. Then I made it with ice and it was even better!<br /><br />I was a little hesitant to buy this flavor because I saw a negative review and it came in a 36 count package. I didn't want to have to throw out that many Kcups if it was awful. I was pleasantly surprised.<br /><br />We just started using our Keurig a few days ago so we're still testing out all of the good flavors. I've got this on my list of Kcups to stock up on in the future! The Grove Square Caramel Cappuccino is our second favorite flavor at the moment; our favorite is the Celestial Seasonings Sweet Southern Tea.<br /><br />Note: This cappuccino is very sweet. We love sweet drinks so this is great for us. I think it's perfect. However, if you don't like sweet drinks, you may not care for this.\"], ['one word  OUTSTANDING!!!!!!!! for both Hot chocolate and cappuccino<br />they arrived  very quickly and was an excellent value  I look forward<br />to ordering again.'], ['These are only for people would want a little coffee with their cream and sugar. Will not purchase these again and Sorry I bought them.'], ['this is a great product for your Keurig brewer, has a rich taste and I look forward to my nightly cup of this delightful beverage'], [\"i tried this coffee when it was $ll for 24 k cups delicious. so i bought two more boxes and didn't sign up for monthly delivery, now i can't find where to sign up. and the price jumped to $28.99 for 24 cups. that's $1.20 per cup too pricey for this or any other kcup.\"], [\"I was very happy with the taste of this cappuccino!  Unlike the coffee's which i find to be a little strong for my liking this item was perfect! With the coffee i always use the large cup option and add a ton of cream & sugar to make it where it isnt sooo strong.  But the cappuccino is good even in the small cup option! It taste very much like what you buy at a good convenient store from one of their cappuccino machines!  Looking forward to when this becomes available again so I can order more.  You will really want to order this 3 pack instead of a single pack!\"], [\"I do enjoy Hazelnut flavored creamers as well as french vanilla creamers in my coffee, I know the flavors aren't exact but  since I enjoyed them in coffee I might like them in cappuccino as well.  I love the french vanilla flavored variety they sell, so much so I've had to purchase additional (early) shipments from subscribe-n-save.  Unfortunately the hazelnut isn't so great, and not b/c it's 'convenient store' cappuccino either.  I prefer that over 'real' stuff.  It smells wonderful, but just something in the flavor that's lacking and it leaves a weird after taste.  Just wish I didn't buy the 36 count.  Definately buy the French Vanilla variety if you are trying to choose between the two.\"], [\"My wife loves it. It's too sweet for me, but I don't have to drink it. Reasonable price. Good shipping.<br /><br />Be careful or it can drip down and you'll find yourself growing something slimy and green out of sight.\"], ['I bought the French Vanilla Cappuccino for my wife...she absolutely loved it.  It actually has a nice froth on top when you make it...'], [\"I buy this for my grandson, he loves it.  Started buying it because of the good price, but I see it is creeping up.  Can't continue if it goes any higher.\"], ['This cappucino is so good that all the employees at my office are drinking this now and want me to order more! And I was going to try to keep it all to myself!'], ['This is exactly what I expected, its the same thing you get out of connivence store machines . For about 50 cents a cup I think its worth it and I ordered 2 more.'], [\"yes, this is flavored coffee already...but, it's a great base for some spiked refreshment.  i like Carolans or Baileys, but Saint Brendans works well too.  be sure you use a tall cup so you have room for the extra spirits. what could possibly go wrong with that! i'm signing up for a subscription with free shipping.\"], ['I am increasing my monthly order for this product.  We tried it iced and it is delicious, but also love it hot.'], ['We are not a coffee people in the least which made it strange when my husband and I decided to get a Keurig machine. However, we both love that cheap gas station \"cappuccino.\" This is PERFECT. I\\'ll be reordering again SOON.'], [\"I am not a Vanilla Cappuccino lover, but this is pretty good! My husband & friends love it. It is great for the price & like I told my DH~~~It's for sure better than a gas station cup of cappuccino & a lot cheaper.\"], [\"We love this product.  It's a smooth and flavorful Cappuccino.  Had never heard of Grove Square before, but the price was great and I'm really glad we gave it a try\"], ['I\\'m currently deployed and the taste of \"home\" in this Cappuccino was more than I bargained for!  Finally a hot cup of Cappuccino that not only tasted great but gave me that little kick in the morning to get moving! Thanks Grove Square!!'], [\"I Bought This Cappuccino Because of The Price.<br />My Wife and Son Went Through The 24 Pack in 2 Weeks.<br />I Have Other K-Cup Coffee's, This Is Their Favorite.<br />We Now Have it On Automatic Ship(Don't Want To Run Out)\"], [\"Like others said, if you like the ones that come out of the dispensers at the mini marts & gas stations then you should like this. I use the 10oz setting on my brewer so it doesn't water it down too much (it's a powdered mix like the hot chocolates). Also my wife is not a coffee drinker but liked this.<br /><br />Placed order when it was out of stock, but only took about week to arrive via prime.\"], ['B005K4Q1YA  This is just plain nasty tasting. Had to cancel subscription. The artificial sweetener is very overbearing and made the weak coffee taste like apple peelings.'], ['We were pleasantly surprised by how delicious this single serve Cappuccino was!!  It is perfect and tasty without any additional sweetener or creamer!'], ['For a former coffee shop owner, I\\'d like to think I have some discriminating taste when it comes to \"fast food\" coffee. I was quite happy with the quick version of a vanilla cappuccino, although I\\'d consider it more of a latte. I do like it even better if you brew the smaller cup of espresso through the machine.'], [\"I am really surprised that this products gets such a bad rap some times.  It is not coffee, it is a coffee DRINK, and it is darn good.  If you ever go to the grocery store and purchase a cappuccino drink that is ready to go and you just have to add hot water, this is<br />similar, and it is good!!!  You could add a little whipped milk on the top if you want, but you don't have to!!  I am very happy with this product!!!\"], ['This entire line of products are crap!  They are not real coffee, but instant.  Do not waste your money.  You can get a better product at ANY dollar store.'], ['First of all, tasted pretty good.  BUT, contacted a few Keurig K-Cup authorized on-line  sellers and was told by all that Grove Square are NOT approved by Keurig and using them will void the warranty on your brewer. Was told they are a \"pirated\" product.  Upon inspection, I discovered that the content are powdered milk, sugar, artificial flavors and INSTANT COFFEE!  Not even real coffee. Not sure if I\\'ll buy again but does taste like Cafe Vienna instant coffee products with the convenience of Keurig. All authorized on-line sellers cannot carry them due to contracts with Keurig. Guess, buy at your own risk.'], [\"This is the first coffee I tried when I got my Keurig.  I was so disappointed in the flavor; tasted like plastic (like drinking bottled water that was left in a hot car).  I thought maybe I hadn't cleaned the Keurig enough so I put through more water and brewed another cup...same horrible taste.  I would not recommend this brand to anyone.\"], ['This coffe is terrible, too sweet and it does not taste like Cappuccino at all. Save yourself some money and buy real coffee like the San Francisco Bay Fog Chaser for your Keurig. <a href=\"http://www.amazon.com/gp/product/B005K4Q1YA\">Grove Square Cappuccino Cups, French Vanilla, Single Serve Cup for Keurig K-Cup Brewers, 24 Count</a>'], ['This is a great product and was happy to find it online at a great price. I had originally bought it at Wal-Mart and was sad to see I could no longer purchase it there. There were great prices through Amazon and will definitely be purchasing more. The flavor is great!'], [\"I admit to being a little skeptical because I don't really like sweet pretend-coffee drinks, but this was really good.  I would definitely recommend it if you like Capp.  You don't need to add milk or sweetner.\"], ['But the truth is that I think it is bad for me.  Nothing is real in it.  I figure I will do better not adding it to my diet.  I reluctantly am cancelling my subscription to it.'], [\"I ordered Grove Square K-cups - the cappuccino variety, for my Keurig BREWER.  As with all of the other K-cup coffees I've purchased, I expected it to be filled with coffee for my Keurig to BREW.  Unfortunately, it is filled with instant coffee and flavored with creamer and sweetners.  It tastes HORRIBLE.  I'm pitching the rest -it's not even worth donating to our church.  If I'd wanted Sanka, I would not have purchased an expensive coffee brewer - the microwave would have been good enough!  What I WANT is a cup of freshly brewed coffee.  The product description did not disclose the fact that it is fake coffee.  If a real cup of freshly brewed coffee is what you want from your Keurig brewer, DO NOT BUY THIS PRODUCT!\"], ['I just tried this product for the first time this morning and was eager to do so. Boy, was I disappointed and disgusted! I tried with all my might to get through a fourth of the cup but I simply could not do it. This so-called cappuccino tasted greasy and overly sweet at the same time. I did not even know that was possible for a caffeine product. I would have rather had gas station cappuccino than this garbage. I wish there were a way for me to return the 22 K-Cups that are left but, sadly, they will just end up in the trash. What a waste of my hard-earned money.'], ['I have tried several coffee k-cups. From Starbucks to Moonlight coffee...virtually every kcup<br />This coffee tastes more like chemicals. No wonder the price is so low.<br /><br />Do not buy this Coffee -- sorry to say !!!  The worst coffee i ever bought and the biggest mistake i did that I bought several ones.... If anyone needs the chemical coffee , i am willing to sell it out for 50% less price'], [\"Imagine yourself craving coffee. But you're on... a big ferry boat. With a single coffee vending machine. The kind that you wouldn't venture near if you had any choice in the matter. But you need a hot beverage, or the caffiene, or something warm to hold, whatever. So you bite. The paper cup shoots out of some recess in the machine, and a close approximation of coffee pours into said cup, with the familiar, but suspect aroma of vanilla in the air. Then you taste it - and yup, it's exactly as vending machine icky as you hoped it wouldn't be. You taste the artificial, and you learn to settle for it. Because you're stuck on a boat.<br /><br />Well, Grove Square Capuccino Cups, French Vanilla - are just a little better than that. A smidgen better, not much more.<br /><br />So if you aren't stuck on a ferry boat (or train station, or gas station, or local DMV waiting area or someplace equally dismal), and if you actually do have a choice, I would urge you to at least try before you buy. So you aren't stuck with 23 k-cups that make you cringe :)\"], ['I was really excited to get this product, as an alternative to straight coffee, for my keurig. Sadly, not only am I disappointed that it is not frothy, as the picture on the box shows, but 1/4 of the box are defective k-cups. The edges of the foil on top are not sealed, so the cups contents have leaked and the machine does not function properly if you still try to use them. I feel that I definitely wasted my money.'], ['I was really disappointed with this instant coffee. YES. Instant coffee. They should have added stronger coffee and less creamer/sugar. Too mild and sweet for me.'], [\"Very poor taste.  So sweet that it makes you sick.  This stuff is awful.  Weak coffee...all you can taste is the sugar.  Can't imagine anyone would actually like this stuff.\"], ['Should have read more about the contents before ordering. I agree that more than Keurigs it tastes like the instant coffee that you get at rest stops. Really disappointed.'], ['There was only one bad review, so I decided to ignore it because most of the reviews were favorable. What a mistake. It is really watery and the taste is not the same of the convenient stores. Waste of money. I will not recommend this product.'], ['Defeats the purpose of K-cups. It just instant coffee, and much more expensive than normal instant coffee. Either get instant coffee cheaper, K-cups that have real coffee in them for more money or just brew regular coffee.'], ['I purchased this even after a few other reviewers mentioned that there is a fake sweetener taste thinking it would be ok but the taste is really overwhelming. If you are ok with drinking diet soda you will be ok with these. If not I would stay away. I keep trying to feed these to guest but with very poor luck :-).'], [\"In two words...awful and artificial.  I didn't find any place I could find out what the ingredients were in this until after I got it and it tasted so weird.  I know, I should have checked it out first, but I didn't even suspect artificial ingredients would be a concern.  Anyway, it is non returnable but Amazon did refund my money for this because to us, it is not fit for consumption.\"], [\"Read the label carefully, it's instant coffee, not the ground coffee as the other brands, no filter inside, and had partially hydrogenated oil in it, I returned it as hydrogenated oil is harmful and the coffee itself is kind of gas station quality.\"], ['This coffee beat our expectations. We bought it thinking we would try it out because of the cheap price, but found that the coffee is very good and hope to buy more at this amazing value!'], ['I tried this and was disappointed. No coffee taste and artificial milk and sweetners. It does not really taste like a cup of cappuchino that you get in a store or restaurant---It is really an artificial made up blend ----stay away or try it at your own risk.'], ['I love these K-cups they are wonderful.  I have bought hazelnut, French Vanilla, Caramel and Caramel Apple Cider.  I love<br />each one.  They are absolutely terrific.'], ['I Have been ordering this k cup cappucino drink for awhile now and have never had a problem! Love it tastes good!'], ['Great price.  Really love the the flavor.  No need to add anything to this cappuccino to enhance the flavor. Really enjoyable anytime drink. This is a house hold favorite.'], [\"It's silly to call this a Cappuccino. There is no coffee flavor whatsoever. I have even tried making this 1/2 and 1/2 with strong coffee. Still can't tolerate it.\"], ['Thought it was coffee k cups we were purchasing but it is powdered drink mix. Read carefully before buying this brand.'], ['This is a product that we will use again as it was a quick way to create a drink that satisfied the need for a casual cup of refreshment.'], ['I love this product, the taste is so rich and satisfying.<br />When your craving something sweet , this takes that edge off and only 80 calories!'], ['The flavor is rich, sweet and you do not need to add anything to it. It has sugar and cream already in it...just pour and enjoy it as is!'], [\"I love this coffee.  So far have only had the vanilla but going to try the others.  It is like having a cappuccino in a coffee house. Try it, you'll love it.\"], ['If you like flavored coffee these are a real treat!  They are a great afternoon pick me upper and the price is right!'], [\"I couldn't even finish the cup of this. It was extremely sweet and I could feel a cavity coming on! I'll be offloading the rest of this box...\"], ['This is my all time favorite k cup, so far ;) we are about 2 weeks into our first keurig and have been trying all sorts of flavors.  this one is, by far, THE BEST!  used a french/vanilla creamer with it also, made it even better.'], ['I bought this item for an occasional treat but still have to find the right setting use to make it have that perfect flavor. The largest \"Travel Mug\" setting leaves the coffee too weak and the smallest \"coffee cup\" setting is too much and even the middle size isn\\'t \"just right\" and sort of tastes like a \"lite\" cappaccino. I never thought I was hard to please but it seems like this has proven me wrong.<br />The price is pretty good so I can\\'t complain on that note, but I guess I\\'m going to continue to drink this item and let it grow on me. As a now-and-then cup of cappaccino it\\'s ok.<br />The 4 star rating is for the price and convenience of not traveling miles to get a cappaccino.'], ['this product is hard to find for us in stores in ohio, most k cups are french vanilla coffee, not cappuccino, its delicious, will buy again for sure!'], ['Tastes like melted plastic.  I will not buy this ever again nor would I recommend it to anyone else.  Ick!'], [\"This is not cappuccino flavored coffee like the one from Gloria Jean's, this is semisweet yummy real cappuccino. (Tastes like the cappuccino from gas station machines) Perfect just the way it's brewed, no sugar or creamer needed.\"], ['I think half the cups were not filled or defective.<br />They seemed empty and the coffe came out like cream colored water. Yuck!'], ['I love cappuccino from the gas station. It is sweet and a good pick me up. This tastes just like that! I love love love it. French vanilla and caramel yum yum yummy too. I highly recommend this item for those who love the sweet gas station cappuccinos. I like it sweet and creamy and that is what this is.'], ['If you think nothing beats a great cup of cofee in the AM you need to try Grove City Square Cappuccino.Just a greaaat way to start the day.'], [\"Unfortunately these flavored Cappuccino's don't live up to the old Gloria Jean Cappuccino. They are all sugar and artificial flavoring. However, if you are fine with tons of sugar, artificial sugar and artificial flavors then this would be a very good product for you.\"], ['I love this cappuccino.  I have tried many others and this one is now the only one I buy.  I wish I could find it in the stores around here but no not here.  I love to sit down at night with my jammies on and my favorite book or TV show and just relax with my cappuccino!<br />A perfect end to the day.'], [\"My wife doesn't like standard coffee and has gotten used to the SBUX specialty drinks. While these cups aren't in the same league, they are still good with significantly less calories. Good taste, great price, good product.\"], ['French vanilla single serve cups by Grove Square for the Keurig K-cup brewers is my absolute favorite!<br />Every morning before I leave for the work-day drive, I brew a tall mug of the French vanilla with a cup of one of my favorite bold coffees. The cappuccino/bold coffee mix keeps me alert on my drive, and by the time I reach work, I am raring to get the job done. This is especially umm, umm good on these cool Fall mornings.<br />Pepper Miller<br />Greenville, SC'], ['Great quality service and product every time !! Everyone should try Grove Square French Vanilla Cappuccino cups.  The option for the 3 pack 18 count best fits my lifestyle.'], ['Terrible flavor.  Watery and weak. Does not compare to the supposedly similar Cafe Express brand of Chai Latte.  DO NOT ORDER *YOU CAN NOT RETURN OR EXCHANGE FOR A BETTER PRODUCT*.  You will not like this, that is why it is so inexpensive compared to regular coffee K-cups.'], [\"I tried Grove Square Cappuccino when I was in Washington state and enjoyed it tremendously. After returning to my home in Montana, I found it was unavailable here. I, then, ordered from Amazon and haven't been disappointed with the cappuccino or with Amazon.com. Thanks for a great product and a great price.\"], ['The coffee taste is good but just too sweet for my liking. Also they seem to use instant coffee which can leave bad aftertaste.'], ['It is a great tasting \"coffee\" but in fact it is more akin to a hot chocolate than a coffee.  The flavor is coffee (not chocolate-y), but  I noticed it didn\\'t give me the pep as my other Kcups, so I decided to open one of the Cappuccino Kcups and noticed that (unlike my coffee Kcups) this was only a powdery mix - NOT ground coffee placed over a filter - the standard innards.  If you are ok with the idea that this is a coffee equivalent of a hot chocolate powder mix, then this is a great tasting buy, with less pep than coffee.'], ['First, it\\'s not coffee. It\\'s an instant powdered mix, which is completely disappointing. I was expecting flavored coffee, not instant mix in a small container. Kind of defeats the purpose doesn\\'t it?  I guess it\\'s my fault for not having read the package? But no where in the product description does it indicate this is \"Instant Coffee\".<br /><br />I would never buy this product again.  It smells wonderful, but tastes like what it is, and that\\'s simply not good for someone looking for a cup of coffee.'], ['Received cappuccino K cups from Grove Square, they were in a mailer box not even in the original box , I was unable to see nutrional value of any of the three types of coffee , it is super sweet, I am very disappointed and am stuck with $45.00 of K-cups.'], ['I had tried this Cappucino in a package of a variety of flavored coffees when I bought my Keurig coffeemaker<br />and really liked it.  I still enjoy it and loved getting the packages mailed from Amazon. I have always had<br />wonderful service anytime I have ordered anything from Amazon. G. A. Bryson'], ['I typically love vanilla cappuccino, and have tried many brands and was excited to try this.  However I had to dump it out because of a Very Strong Artificial Sweetener taste. I also verified that low sugar or low calorie was not on the box.  So something happened in packaging the product, or a very bad recipe.  However I will not buy these again...'], [\"I love this French Vanilla cappuccino!  It is exactly what I was looking for to make in my Keurig.  You see, I am NOT a coffee drinker so I am always on the look out for tea or other speacialty drinks to make in my Keurig.  This would be similar to the Cafe Escapes Cafe Mocha and Chai Latte.  It is a mix that fully emties when you run it through the Keuirg.  A word of warning to the die hard coffee drinkers...this is not your Starbucks cappuccino.  It's more like your gas station cappuccino, which was exactly what I was looking for.  Great taste even on the largest cup setting on the Keurig platinum.  My new favorite morning pleasure.\"], ['Ingredient: Partially Hydrogenated Vegetable Oil (may contain coconut, soybean, sunflower, palm and/or canola), Sugar, Corn Syrup Solids, Instant Coffee, Sodium Caseinate, Salt, Natural and Artificial Flavors, Cocoa (processed with alkali), Dipotassium Phosphate, Cornstarch, Mono- and Diglycerides, Silicon Dioxide, Soy Lecithin, Artificial Color, \"Sucralose\".'], ['This stuff tastes like the \"coffee\" you get from those vending machines at interstate gas stations or 7-11s.  The first ingredient listed on the box is group of partially hydrogenated vegetable oils.  Doesn\\'t bode well for a supposed cappuccino.  That\\'s followed by multiple, seemingly random sweeteners, then instant coffee, a long list of other stuff that has no business associating itself with coffee, and then (inexplicably) sucralose, which gives it a strong artificially bitter aftertaste.  I took 2 sips about 45 min ago, and still can\\'t get the taste out of my mouth.  Definitely avoid.'], [\"This was very different from what I originally expected it to be.  That being said, I found this to be probably the best k-cup I have ever had.  It is very creamy and has a great hazelnut flavor.  I enjoy a cappucino once in a while and I love hazelnut coffee.  I expected this to be more of  cappucino with a light hazelnut flavor.  That was not the case.  This is like a creamy coffee/hazelnut flavored hot cocoa without the cocoa.  I was expecting something completely different but ended up being pleasantly surprised.  This is a great after dinner or mid day pick-me-up and this will now hold a permanent row or two in my revolving k-cup counter top display. If you want a real cappucino, this isn't for you.  If you want a great tasting hot liquid sweet snack, get this.  I liked this so much, I will be ordering the French vanilla version to give that a try as soon as I complete this review. Also, you cant beat the price....less than $10 delivered to my door.  Wooooo Hooooo!\"], [\"This coffee is delicious. I would assume it's an instant blend, because the K-Cup is completely empty after usage. The caffeine content is low, so it's a great afternoon coffee that won't keep you up at night. If the price stays at 10 dollars with free shipping, it's a good deal. Once they raise the price though, I'm out of here.\"], [\"Sure they are more like instant coffee than freshly ground, and there may even be some artificial sweeteners in there, but the truth is, they're delicious. And for those of you who don't want to put these things in your body, feel free to send them to me. I'm not that picky. I'm a healthy eater all day long, 2 cups of fakely sweetened, fake coffee a day isn't going to kill me. And if it does, so be it, a life without taste is a waste!\"], [\"I was so excited to receive these K-cups and had one today. I wasn't very impressed. It tasted watered down and I had to add Stevia and sugar free creamer to make it taste half way decent to drink. I like a stronger tasting coffee and these just don't cut it. I'm giving both boxes to my daughter-in-law. I knew I should have ordered only one box to try first. Oh well...live and learn. I cancelled my subscribe and save too.\"], ['Grove Square Single Serve Cappuccino Cups, French Vanilla, K-Cups for Keurig Brewers, 24-Count<br /><br />I was concerned it would taste watered down, but I think this is delicious.  The caramel flavor in this brand is excellent, too.'], [\"I purchased the Grove Square French Vanilla Cappuccino K-Cups not really expecting much for the price...Boy was I WRONG!!!! This cappucinno is absolutely delicious!!!! It tastes just like what I buy every morning at the gas station on my way to work...ONLY IT IS MUCH CHEAPER!!! It's also more convenient now that I can make it at home and not have to stop at the station to buy it! Makes my day a little smoother and I don't have to rush!<br />Yes, this K-cup is instant coffee, but so's the stuff I buy from the machine at the gas station! I love it! I love the price! I love the taste! I will make sure to keep this in stock at my house...especially if the price stays low!\"], [\"Threw the entire box away.  I thought I was buying Cappichino grade coffee not realizing it was a pre-mixed crappichino. Not only is it premixed but the main ingredients couldn't be more fake and gross. It's a k-cup full of preservatives......YUM.\"], ['This is a fairly weak Cappuccino and a little bland. Still shopping for a good one........It doesnt have much taste at all really. To me its very watery...'], [\"This is the first time I ordered, I hadn't read the reviews, which I know I should have. The product was very very sweet, and I like sweet. I kept the coffee, BUT, personally this might be ok if I make it as an iced coffee for the summer.  I guess if you like extra sweet, this is the coffee for you.\"], ['Just love these and can pretend they are \"cocktails\". Most of my friends love them too.  However, I prefer them a little less sweet, so I runn it through the Keurig twice.  Tastes good to me and is cheaper.'], [\"Love this coffee especially because I don't have to do anything to it! It has the perfect amount of cream and sugar which is great for me because I have more time to get ready in the morning. Some people say it's gross because it is instant coffee and uses hydrogenated oil but it's super great-- plus you're saving money on cream and sugar! Also, I agree with the person who said it tasted like gas station coffee, but we must have different gas stations because everybody (myself include) loves the cappucinos at my gas station!\"], [\"It has that super sweet fake marshmallow in cereal taste. It's not great for coffe, but kids would probably love it. I was hoping to actually taste the hazelnut. All you taste is sweetness. It's an overload of the taste buds in all the worst ways. Day one was okay, then progressively it gets worse and worse until now I feel like I have to write a review about it and I don't usually write reviews.\"], [\"Was not impressed with this product at all. In fact, it's just sitting in the pantry now. It might be possible to brew a cup of strong coffee, divide it two and then run cappuccino to add as a flavor.\"], ['I love Grove Square Cappuccino - especially the Caramel.  It is wonderful to find a K-cup in yummy flavors that is not too acidy on my stomach (like the Emeril Big Bold Easy my husband drinks).<br />This product is difficult to find in stores; our Wal-Mart was constantly running out because it is so popular, so I am happy to find it on Amazon.  This shipment was fast and the price is great.  Thanks!'], ['Ordered on Sunday and arrived on Monday. WOW. We will purchase again and maybe try a different flavor next time.'], [\"So I thought these were just regular cappuccino cups, when I got them, I saw the Hazelnut and thought oh boy....much to my surprise, they're very tasty!  I've always been a hazelnut fan, but wow!  They're very creamy and flavorful.  So this will be a re-order when I need to re-stock on my cups, very pleased!!\"], ['This cappuccino tastes as good as any I have ever bought from a coffee shop.  I love the french vanilla.'], [\"My husband is particular about his coffee.  This has a good flavor and he loves it.  It's definitely not traditional coffee though.  This is instant and is like the cappuccino you get out of the machines at gas station rest-stops.  As long as you're not expecting real coffee, it's great!\"], [\"I love cappucchino & carmel. After reading the reviews I decided to go ahead and buy this. The only thing I wish I had done was buy a smaller box. It doesn't taste bad but it isn't so DELISH that I would be running back for more. I am not a real coffee drinker and before Mcdonalds switched over to the stronger mud tasting cap I LOVED theirs so I thought this would taste like it. It is not real sweet (as other reviewers have indicated). I didn't add anything to it but I will have to doctor it up in order to drink all three boxes. I did not taste any aftertaste either. For me it wasn't that bad but it wasn't that GOOD either. It was just ok. I would be willing to try a sample of the French Vanilla. It might taste better.\"], [\"This is not your Starbucks cappuccino, but your gas station cappuccino.  Tastes just like what comes out of the machine at the gas station- if you like those, you'll love these K-Cups.  They work great in the Keurig and the price is good.\"], [\"was very excited to find this product on here. buddy and i at work split the order because we were both hooked on it and couldn't find it at the store. very good tasting\"], ['Great cappuccino and great buy!  I have shopped the internet and Amazon has the best price!  Would definitly recommend this product.'], ['These cups are a great choice if you would like something different than regular coffee.  It tastes and looks like General Foods International Coffees, rather than real coffee.  There is no coffee remaining in the pods when it is finished. It is a nice treat.'], ['I love this coffee. It is wonderful, smoothe and just tastes great! I first tried it locally and loved it. Then, my store no longer planned to carry it so I bought all they had. When I found it on Amazon it was delightful. This is my coffee treat and the rest of the time it is hazelnut coffee, not capuccino.'], ['for the price of this Cappuccino, I think it is very good, has a slight caramel taste, brews excellent in the Keurig. I will buy again this brand.'], ['When I first got my kcup maker i went to walmart and found these kcups,For those who like a really nice creamy cappuccino hazelnut this is delicious. I would not recommend their reg coffee, but the hazel nut cappuccino is the best on the market nothing to add just make and enjoy but i recommend not to use more then 6oz.serving size to get the best flavor, using a larger amount will weaken the flavor very important!they also have vanilla cappuccino and carmel cappuccino which are both very good also.'], [\"Best hazelnut cappuccino k-cups I've tasted ... these have just the right amount of sweetness, smooth and creamy with a subtle taste of hazelnut ... absolutely awesome!\"], ['I loved this and for a Weight Watcher is is so friendly, only 2 Points Plus. Have already ordered it it again and will continue to do so. <a href=\"http://www.amazon.com/gp/product/B005K4Q34S\">Grove Square Cappuccino Cups, French Vanilla, Single Serve Cup for Keurig K-Cup Brewers, 12-Count (Pack of 3)</a>'], ['this capuccino is very smooth and tastes great.  use the lower water amount for a richer, fuller flavor  but i like it with 10 ounces of hot water.  great alternative to very expensive store bought  capuccino.  french vanilla is excellent also'], ['This is an instant cappuccino similar to what I have bought in gas stations.  It makes a medium size cup.  It is very sweet and I like it for a change of pace.  Just be aware, this is not coffee shop cappuccino.'], ['This is one of the most delicious coffees i have ever had. i have tried many different brands and this one get my thumbs up. If you love caramel you will love this coffee.'], [\"Great tasting coffee, very convenient, no mess, Great when you don't have time, because it's quick and easy, Plus you don't waste coffee, in the morning before work, if you can not finish a pot of coffee.  I just wish they can come out with Irish Cream flavor, My Favorite Cappuccino..\"], ['I am not a coffee snob, but I find this strong is very strong in flavor.  I use the large cup selection on my maker and combine it with a cup of regular coffee.  I think it might be ok over ice.'], [\"I like this cappuccino.  It of course is not like you would get at a coffee place it's more like the powdered stuff you can buy. For my preferance it is a little sweet so I mix it 1/2 with coffee but the tast is good and the price is't bad either.\"], [\"This is my favorite wake up coffee for in the morning. It's just too good.I ordered 4-24 count boxes just incase theres a flood in downtown milwaukee......i like to be prepared.\"], [\"Don't brew on high setting if you drink a breafast blend normally becuase you will find these flavored coffees kind of weak.\"], ['Packaged nicely but after drinking breakfast blends maybe this just seems to weak to really enjoy. They are probably better on the lowest water setting of your Kuerig.'], ['These K cups are delicious.  A great pick-me-up any time of day.  A great gift for a friend<br />who enjoys cappuccino.  Think about a Keurig coffee maker and these k cups for fathers day.'], ['The \"non coffee\" Grove Square K-cups are great. Very tasty, convenient, and at a good price. We especially like the sugar free hot cider but the Cappuccino is good too.'], ['These Cappuccino cups were waaaayyy too sweet for me, but I rated them with 4 stars because they were delivered quickly and my boyfriend loves them I figured he would be the one drinking them anyway'], ['I will be a repeat buyer of Grove Square French Vanilla Cappuccino. At 54 cents a cup it is worth every penny spent. It has a great French Vanilla flavor and is ready in less than two minutes. No complaints here.'], [\"This is a deliscious drink.I have trouble keeping it in stock because all my friends and family go for it the moment they come into my house. Perhaps it wouldn't need tp be quite sp sweet. It is awesome.\"], [\"I bought these knowing they probably wouldn't be great quality, and I was right. They're not horrible, and going down they taste okay. But they leave this really unpleasant aftertaste in your mouth after each sip you take. Probably won't purchase again.\"], ['So glad these are available!! Not having to go out to get a french vanilla cappuccino is great! We love these!'], [\"I'm not a big coffee drinker as I hate the bitterness.  These k-cups changed the way I think of coffee completely.  They are delicious!  My husband does miss the bitterness of regular coffee and I have some friends who think its a bit too sweet so they do a half and half mixture, but for me... perfection!\"], [\"I purchase a wide variety of k cups for the office staff. This is a favorite amount those who like sweet, flavored coffee. I know it's instant, but those who like it, like it a lot!\"], ['This is the best tasting cappuccino, ever! Just like the yummy gas station stuff that I love. I always look forward to drinking this every day=)'], [\"Great Flavor with decent price, much better than spending fortune on a daily basis at starbucks!!!! I wish the price will be fixed and don't change every week.....\"], ['tastes like the convenient store stuff from the machine. Its probably mad eof crap but it tastes good and great price.'], ['I ordered the Grove Square Cappuccino cups, Hazelnut.  The price was right, so I figured why not.  I prepared a cup & Had to run out, so I took it with me, I took a few sips & it was really yummy. I had to run in for a short meeting & left the cup in the car.  It was a cool day & when I got back to the car, my coffee was cold. I picked it up & took a sip, I was pleasantly surprise at the creamy cold taste, it was fabulous.  So now I drink it cold & hot. Very satisfied with the taste & creamines. So glad I tried it.  Thanks Amazon.<br /><br />Sylvia Lorenzano'], [\"Excellent flavored coffee. Medium brew setting is perfect. I have non-coffee drinkers enjoying this particular brew. The price is right also. It is one of the least expensive brews on the market that don't disappoint the drinker.\"], [\"My wife and I really enjoy this coffee after a meal, as dessert. Unlike other Keurig pods we've had before, this coffee contains all of the cream, sugar, and flavor built in. We really have enjoyed this coffee.\"], ['this stuff is wonderful.  Nice and sweet.  The caramel is also great.. Much better than real coffee and cheaper too.'], ['I ordered these for my husband, because he always stops by the local well known coffee shop and gets a french vanilla cappuccino. Well he LOVES the flavor and smell of these. He said \" No more buying out....infact it taste even better!\" I will be ordering more!!'], [\"This is pretty good for it being a mix.  Had good flavor and it's a good on the go beverage.  Nothing needs to be added.\"], ['This is such a wonderful break from regular coffee.  We enjoy being able to \"switch it up\" from time to time -- it\\'s quick, convenient and yummy!'], [\"Cappuccino in a K cup is a great idea. It's quick and easy and tastes great. It is just the right mixture and not overpowering.\"], ['I decided to try this as something different from coffee and it is really good...easy to use, of course, and cheaper than having to leave home to get a cappuccino!'], [\"These cappuccino k cups are perfect! Before I had a Keurig machine I used to buy the General Foods International French vanilla cappuccino, it is really expensive and not nearly as good as this. I have not tried any other cappuccino k cups so I have no other k cup cappuccinos to compare it to but I drink this every day and love it! It's cheaper than my Husbands k cups coffee, cappuccino is never cheaper than coffee! I compare it to the Irving convenience store's cappuccino. It's a great daily treat!\"], ['Love these cappuccinos but because I live in Canada I will not be able to get them much longer. Why?'], [\"A very enjoyable sweet treat; love the taste and the price. It's a lot less expensive than going to the convenience store in the mornings.\"], ['I absolutely LOVE this product. I order and reorder this product every time I need to spend a little more money to get my free shipping with amazon. This is always my go to product. Everyone I have had try this product really loves it and ask me for to give them the product info which I do. I want to help support this company by all means. Thank you for a great product.'], ['I ordered three different flavors for a birthday gift to go along with the Keurig brewer.  I tried the caramel, hot chocolate, and hazelnut, and they were all excellent.  Rich in flavor and very easy to use.  I am going to buy a Keurig now.  The whole purchase was great.  I will be buying from them again.'], ['These are great for your morning coffee without having to have any cream or sugar.These are delicious and easy to use in K Cup form.'], [\"This is the best K-cups I have found.  You don't have to add milk or sugar.  It's all there.  Love it.\"], ['Great taste for me. Cup has sweetener and cream, coffee is ready to drink, if you like these both. I am not sure of calories, but I do need to count them'], ['The box had been opened before and was taped with Scotch tape Several of the kcups were leaking into the box and had to be tossed That is the first time that has happened but I was very disappointed.'], [\"I have been very happy with the Grove Square K-Cup products.  I really like the creamy Cappuccino French Vanilla flavor.  The French Vanilla is great when you want a coffee that's creamy with a light flavor.  Great Price, cost less then other K-Cups which is also a great selling point!  I also like Grove Square Dark Chocolate Hot Cocoa, Grove Square Caramel Apple Cider, and think the Grove Square Medium Roast is okay (it is an instant coffee, so it's lighter in flavor but still good).\"], [\"This cappuccino is fabulous and very reasonably priced! It's like instant dessert from your Keurig with a smooth caramel flavor! I've also ordered the vanilla and love it just as much.\"], ['Pure garbage do not even bother to buy this! Tastes like mud in a cup gross. To those who say it tastes like gas station cappuccino...I have no idea where you get yours but by my area they taste great and better than this crap of a kcup!'], ['This is my new favorite coffee.  I have tried over 20 different k-Cup brands and flavors and this one beats them all.  It comes out of the coffee machine looking like chocolate milk and has a very great French Vanilla flavor.  I would highly recommend this flavor.'], ['gf loves it  says taste  great  cheap enoiugh  would deffinatly buy again  if you drink coffee  enjoy this one  i hate  coffee'], ['This is one of my favorite K Cups out now.Very good cappuccino,and the price is right.I highly recommend this to anybody!!!'], [\"I really like this product and at such a low price. I am happy anytime I can buy k-cups for 50 cents or less per cup. Has good flavor and my only complaint would be if you use the biggest cup setting it's a little too weak so I use the middle setting.\"], [\"I make these on the small cup setting and they are yummy, but not a suitable replacement for a good cup of coffee.  I bought them for my 11 year old daughter and they work perfectly because you don't need to add any sugar or cream.\"], [\"Don't get me wrong, this is a good coffee. Only reason for the 4 stars; I am partial to the Hazelnut Cappuccino. We all have different tastes, you may love it, so I recommend you try it. Good pricing, worth a try. Remember, it you don't like it, I believe you can return it.\"], [\"These are not sold on Keurig website and this is the only place I will buy them, due to good pricing. Another coffee that gives me the caffeine I need PLUS it's so, so tasty. Like having dessert ... wonderful and delicious! Yes, redundant, but it's that good! Give it a try.\"], ['Love this cappuccino. Had a hard time finding it. So ordered in bulk :) Will continue ordering. Both my husband and I love it.'], ['Every bit as good as from mt favorite coffee shop.  I will definitely order again!  The price was great too!'], [\"Even brewing into my smallest cup, this blend is on the weak and watery side.  I'm not a fan but my husband seems to like it.  Go figure.\"], [\"This is the 2 nd time I've ordered this flavor. I love the taste of it. But if u want it sweeter put a little sugar (I use Truvia) & I also put one Carmel Macchiato single creamer. Don't forget to use the 6-8oz setting\"], ['My wife loves our local Road Ranger gas station cappuccino. Nothing else will do, until now. I no longer have to go out in the cold/rain as long as I keep these in stock.'], ['Terrific value and it tastes great, the perfect blend of flavors and sweetness! I love it! I am not a big coffee fan, so finding a cappuccino for a reasonable price is exactly what I was looking for!'], ['I will order more of this item asap! great stuff. I was hooked the first time that i tried it.'], ['way too sweet by itself.<br /><br />however this and a bold coffee makes a pretty good mix.  just do 5oz of this then replace, and do a 5oz of a bold coffee of your choice in the same cup.  then stir.'], ['Groveland French Vanilla Cappuccino was very good!  The product was delivered as described & quickly.<br />I would purchase this product again!'], [\"Wow, these k cups are so yummy and perfect if you are on the go. They don't require cream and sweetener so just brew and go! The only thing I would like better is if they were sugar free using a sugar substitute and were lower fat or fat free. They do taste yummy though and for the price, you can go wrong!\"], [\"I thought Gloria Jean's cappuccino was good--but Grove Square cappuccino is much better!  It is smoother and creamier--and it costs less.  I'll be ordering more soon.\"], [\"I just received the Vanilla Cappuccino, this is GREAT!  This one has to be my favorite out of the hazlnut & carmel.  It's sweet, but not too sweet...you don't even have to add any creamer to it.  I will be back for MORE!\"], ['Nice price, fast shipping. A Keurig machine is not necessary to brew. I found the product to be very sweet so I add it to 12 ounces of hot water rather than the 8 ounces in the directions.'], [\"I bought this coffee after reading multiple reviews that it was just like gas station cappuccino (which I LOVE). Turns out it really is! It has that sweet creamy vanilla taste that requires absolutely no creamers or sugar!I am so pleased that I don't have to go to my local gas station to enjoy this sweet treat anymore!\"], ['coffee goes down very smoothly. taste like very expeensivese coffee when the prices is clearly very affordable. Hope everyone tries it it is very affordable.'], [\"I must admit up front that I don't really drink cappuccino. I'm a fan of stronger, black coffees and espressos. I purchased this for other family members and friends who visit. That said, I did taste it and it tastes, well, like cappuccino: ceamy, light, sweet. Almost like hot chocolate if hot chocolate were made of coffee.<br /><br />The price was very good with subscribe and save and still shipped pretty fast, I think it even arrived within 2 days, though as I recall when one uses subscribe and save, in exchange for that extra discount one loses the free 2-day shipping. In any case, it arrived very quickly and the price was 11.xx I think for a 24 pack which is ok for Keurigs on Amazon. I usually expect to pay under 50 cents a cup for my favorite coffees, and this didn't disappoint.<br /><br />There's not much else I can say about this... the cups themselves seemed to require a little bit of a harder push than usual to puncture the bottom in the machine - the first time around it didn't puncture, but closing the top harder the second time worked. I've seen this issue before with a box I got from Sam's Club.\"], ['I love this cappuccino for my Keurig!  It is the only product I use with it.  I just wish they would come out with more flavors, like White Chocolate Mocha, or something.'], [\"I'm a vanilla coffee-aholic, and I love this product!!!  I usually use the medium or large setting on my Keurig for one cup, or one of each when I fill my thermos.  What I love about this product is that I don't have to add any additional creamer or milk or sugar, it's just perfect!\"], ['We were pleasantly surprised by the great price and even more delighted when we tasted the produce.  It is hard to imagine how they can put so much great flavor in such a little container.'], ['Grove Square Cappuccino Cups were excellent. Tasted really good right from the Keurig brewer with nothing added.  wWould highly recommend.  RCCJR'], ['This K-Cup coffee is very flavorful, it tastes great straight away. No need  for cream or sweetener. I will purchase more in the future.'], ['You deserve this.....it is delicious,you,ll love your new coffee maker when you use this.Buy it Try it You,ll be back for more.'], [\"This is absolutely as good as French vanilla cappuccino that is bought from machines in stores and a very good price as well.<br /><br />Can't keep this at home, my whole family drinks it.<br /><br />Wonderful products, great taste and great price!\"], [\"For 11 bucks a box, I was not expecting this to taste like gourmet Coffee shop coffee... lets be reasonable people, you get what you pay for .... for less than 50 cents a cup, you have to expect something less than what you'd get even at the gas station for a buck a cup... I thought this was on par, if not better, than some convenience store coffee drinks I've gotten in the past. I know a lot of people have issue with the ingredient list containing hydrogenated oils, or whatever, but this is exactly why you should buy something in person first before doing so online.  (Or else google the list of ingredients, which is what I would have done had little things like that concerned me) I took off one star because the sucralose seems to give it an slightly displeasing aftertaste, but thats true of all artificial sweeteners for me.\"], ['Having received a new Keurig brewer during the holidays, I was disappointed that the company no longer carries cappuccino cups. Voila! Amazon & Grove Square to the rescue. Good flavor and value. Signed up for automatic delivery, too.'], ['I Bought This To Try Because It Was Cheap!<br />It Tastes As Good As The Coffee Shop I Visit.<br />So Good, That It Is Now On, My Subscribe and Save.<br />Do Not Want To Run Out!'], [\"These are so tasty, it's similar to the kind of capuccino you might get from a gas station vending machine. I'm not a huge coffee drinker though, so these are more of a treat. It's nice to not have to add creamer to it when I'm in a hurry. I definitely recommend these unless you're a coffee snob. :)\"], ['Quick and Easy and so yummy. Add a few marshmallows on top and you have yourself a wonderful cappuccino...add a little creamer to jazz it up!'], [\"Its been a long time since I've enjoyed my morning coffee. This has a great taste and very soothing.<br />It doesn't need anything added.  Make your cup and walk away, no sugar or milk needed.\"], ['Delicious!  A drink both my husband and I can both agree on.  I especially like that you brew and go, no creamer or sugar needed.'], ['Was so excited to see Cappuccino Cups offered by Amazon....after one sip of this stuff I knew that something was wrong.  It would have been very helpful for there to have been a warning on the box that it contained sucrolose...which is a substance that I do not wish to put into my body.  Very disappointed in this product.'], [\"I tried the Gloria Jean's cappuccino and was disappointed.  It was not bad, it just didnt taste like  or have the texture of cappuccino.<br /><br />This stuff does indeed taste like gas station instatnt cappuccino but I would not expect a real cappuccino to come out of an instant coffee machine (which is really what the Kuerig is).  That is just not realistic.<br /><br />This product actually does taste like cappuccino and has the foam.  Considering its coming out of a K cup, that is good enough to impress me.  When I want real cappuccino, I will break out whole beans and my frother.  When I want a quick cappuccino fix, I will use this.\"], ['I tried the French vanilla cappuccino and it tastes great, but it is a kcup filled with a powder not a ground coffe, I will definitely buy again.'], [\"This taste more like French Vanilla Hot Cocoa than coffee, and I was pleasantly surprised! It still has enough coffee taste that you realize it does have some in it, but it's smooth and creamy like Hot Cocoa. I've become a quick fan, and like it so much that I'm gonna sign up for the subscribe & save to receive a box every two months. Since the coffee taste isn't too overpowering, it makes an amazing drink for a cold winter night. Perfect something to warm you up!<br /><br />P.S<br />Top it with some whip cream, DELICIOUS!\"], [\"I had to come back to edit my review after originally giving this product 5 stars.  Something has gone terribly wrong with this product.  I used to love it,  but now they are just terrible.  I don't know if they changed the formula or what the problem is, but there is a terrible after taste that never used to be there before.  I've heard other customers complain about it, but I had no idea what they were talking about.  I thought they were crazy.  Turns out they were right!  Not every cup, but at least 1/2 of the last shipment had cappuchino's cups that had a very bad after taste.  Why not all?  Can't tell you. When they taste bad they taste really bad and I found myself not even being able to finish.  I'm so dissapointed....\"], [\"I had read other reviews where this was not fancy cappuccino, but more like gas station cappuccino. I have to agree. That's what I wanted. I am very happy with the flavor and simplicity of popping into the Keurig. Can have it made without having to make a stop on my way in the morning.\"], [\"I tried this coffee,if you love teeth grinding sweetness, this one's for you.  Unfortunately, I found it too sweet for my taste.  Just so you know.\"], [\"I am not one of the super picky coffee people out there.  Before my favorite coffee was from Starbucks, the Caramel Machiato.  But I absolutely LOVE this coffee.  I don't really care that it is instant, because I think it tastes really good.  My favorite thing is that on the medium Keurig setting I do not have to do a thing to it to enjoy it.  No sugar, no cream, no nothing.  Just pop the K-cup in, hit the button and enjoy.  If you are not a really big coffee snob and like sweet flavored coffees you might love this one, I do.\"], ['I was so excited to see this product (Grove Square Hazelnut Cappuccino) for my beloved Keurig.  I usually brew flavored coffee into a mug of heated milk & a touch of sugar.  I thought this would be a step faster & a step up from my usual morning cup.  I was dismayed to read that the first ingredient is partially hydrogenated vegetable oil, but I figured I\\'d make the small nutritional sacrifice in the name of morning caffeine happiness.  Well, it turns out the taste is nothing like a true cappuccino, but almost identical to a convenience store (7/11) machine cappuccino.  If you love that flavor, you\\'ll love this k-cup.  I thought those instant-flavored coffees were GREAT when I was a college student!)<br /><br />Another complaint about this new k-cup is that the box suggests you run a hot water cycle (sans k-cup) after making the cappuccino.  I presume this is to rinse out any dairy or sugar product which could muck up your machine.  I\\'m glad for the tip, but wish I didn\\'t have to run down the water in my reservoir.<br /><br />I\\'d hate to throw this coffee out, so this morning I brewed a cup of this and then followed it with a plain coffee k-cup.  It isn\\'t as sweet and has more \"real\" coffee in it, but it still tastes very artificial.  FYI: In addition to the artificial dairy & sweeteners, the cappuccino uses instant coffee.)'], [\"This coffee is so sweet that I could not take another sip. I am quite unhappy.  I don't know what to do with it now. I would not recommend to anyone.\"], [\"I got this to have at work and it's great because usually I need something sweet after lunch...and it is very sweet.  Even better is that I don't have to remember to bring milk or sugar or a spoon to work because it has everything in it!\"], ['I love the great taste of these K-Cups. I just reorder for the 3rd time and I am trying the other flavors.'], ['This stuff is amazing.  We just got it a few days ago and my husband I only have a few pods left.  I so wish I had ordered at least 4 boxes when it was on sale.  Buy it, you will not be sorry!!'], [\"Found this great coffee for Keurig coffee makers. I still can't believe Amazon is the only place you can find it. It tastes great and the price is great. I don't need anymore creamers because this coffee gives me exactly what I want. Nice and creamy which is delicious.<br /><br />Use the small cup because the bigger cup will water it down and it isn't too great that way.<br /><br />LOVE IT!!\"], ['This product was just what I was looking for.  For those complaining of the taste, YES it does taste like something that comes out of those machines in convenience stores!  But that is just what I was hoping for, and got.'], ['This is not a drink or something I drink every day, But when I feel the need for a yummy treat I love it'], ['I have been drinking this coffee for two months now, and I have signed up for subscription service. It tastes very much like a vanilla latte from Starbucks. This is now my favorite coffee.'], ['I thought the flavor was decent, but that it just reminded my husband and I too much of something we would buy at our local gas station. This specific K-cup only makes a very small cup before turning into just dumping water, and therefore was never sufficient for my husband to drink. I should have read the reviews before purchasing, as it seems that others are having some similar feelings!'], ['I love this item for keurig coffee makers. Its delicious and I would definately order from this seller again. I would like to try other flavors from the same seller.'], [\"I love these! They are so cheap, but so tasty! My husband thinks they are way too sweet, but I love them! They don't have a huge coffe flavor, so they are a bit sweeter than an actual cappuccino. Regardless, they are very tasty and at this price, who can complain? Their hot chocolate is pretty good too.\"], ['Sucralose aka Splenda is an artificial sweetener.<br />I do not buy any artificially sweetened product knowingly.<br />Unfortunately I did not see this on the ingredient list.<br />Luckily I can taste it (yuck) and dumped it.<br /><br />The Chai Latte is another one that is artificially sweetened.'], [\"These are oh so delicious! Ok, if you're looking for strong coffee don't get this. If you're looking for deliciousness that feels like dessert, then this is the k-cup for you. Seriously. I'll make one of these when I'm in the mood for dessert and it totally satisfies my sweet tooth. It's got the perfect balance of hazelnut and coffee taste. Not too much, not too little. And the best thing? The freakin price! It comes out to approx. 54 cents a k-cup! Delicious little bargain, that's what it is.\"], ['this is really good like others are saying just like the gas station ones. but alot cheaper I use two for a large togo cup<br />but again it is really good.'], ['If you\\'re expecting a real cup of cappuccino you\\'ll be disappointed. This isn\\'t a creamy, frothy cappuccino, at best it\\'s the same as the powdered \"gas station\" cappuccino you can buy at, well, the gas station. If you read the ingredients you\\'ll see \"instant coffee\" listed, as well as artificial sweetners.<br /><br />I don\\'t really mind this kind of cappuccino-ish drink once in a while, but be prepared for a very sweet drink. In addition to the super sweet flavor it was the only kCup I\\'ve ever had explode, and the company wasn\\'t really interested in hearing about it.<br /><br />This flavor is something I definately won\\'t be purchasing again, and the ones I have left are my emergency stash for when I\\'m out of everything else and unable to go to the store.'], ['Looking for great coffee at a great price?  This is it. K-cups are expensive but this coffee is great tasting at a great price when purchased from Amazon'], [\"These k cups are awesome. They taste very similar to the French vanilla in machines at corporate chains, like 7-11.  We have be very pleased with the flavor. It's a winner.\"], ['This is a great coffee as long as you read the box and only use the 8oz setting on your coffee make. Otherwise it will taste watered down. Also it is an instant coffee so dont be surprised by it.'], ['There\\'s only one word to describe this.............. Yummy!  You won\\'t be disappointed if you love latte type drinks.  It is a \"sweet\" drink.'], ['Actually this is for my wife who ordered these K-cups for herself. She has already ststed she will reorder more. Loves the cappuccino, I lkie it too.'], ['No cream or sugar added to this.  Nice and sweet and goes down smooth.  Set it up to receive automatically every month!'], [\"We bought a pack of thee to try. The first cup my husband made me he made on the bigger than regular size and it tasted a little watered down. I tried it today and did it on the reg. size cup setting and it was perfect. I would suggest that if you want more to use a bigger cup, but do 2 KCups and brew it once each. Defintely will buy again! And it's not too sweet!\"], ['Tolerable taste, intolerable ingredients. It comes out looking more like milk than coffee, and tastes watered down. If you let it sit for more than a couple minutes, it starts to seperate. I would not recommend.'], [\"I ordered the french vanilla cappuccino and it is the best!!! I'll never buy any other cappuccino. I love tim hortons french vanilla and im telling you this is just as good if not better!!!! highly recommend it!\"], ['Ive yet to try other cappuccino flavors, but this one is awesome..No need for sugar OR milk. Just fill your cup and go!'], ['I have tried several different brands of French Vanilla Cappuccino. But when I tried Grove Square French Vanilla<br />Cappuccino it was the best I have ever tasted!'], ['I really like the Grove Square Cappuccino - I hope they continue at good prices.  I will be getting more - I have all 3 flavors - maybe you can make some more flavors.'], ['was very surprised by how great it tastes.  thought that maybe it would be watery tasting but its not :)'], ['Very good and convenient. Also excellent price when I purchased them. I love my new Keurig and nothing could be easier than the K-Cups!'], [\"what more can I say. I have reordered this product and am well satisfied. I use it at work in our new coffee pot, but don't have that kind of pot at home.\"], ['First off let me say what kind of coffee drinker I am. Before getting the Keurig, I drank mostly Folders medium blend. I don\\'t have anything against gas station coffee - in fact I drink a lot of it. I like the cappuccino that you can get at a Casey\\'s. I don\\'t like the vending machine coffees at all - too chalky and gritty.<br /><br />Now on to my thoughts on this coffee - reminds me a lot of what I can get at Casey\\'s - pretty sweet stuff. At Casey\\'s gas station I usually get 2/3 cappuccino and 1/3 coffee. This isn\\'t necessary to \"water-down\" with coffee. It is just right to me.'], [\"Pretty unique.  There's no filter inside.  Just powder.  The whole container is empty after one dispense.  It has a bit of sweetener after taste to it.  Reading the package, it doesn't seem like they use any sweetener.  Taste good though.\"], [\"This k cup was just wonderful!! I was pleased with the flavor and the price is great. I've already tried two of the flavors. It's great to know that there's still some affordable k cups available.\"], [\"I'm not a big coffee drinker. When I do drink coffee, I use a lot of creamer. These are awesome! I love gas station cappuccino and this is exactly like it but much cheaper!! Fabulous!\"], [\"This is so delicious and very sweet. I typically put skim milk and sugar in my coffee but I really don't think you need it for this kind. I like to brew it on a small cup setting and make it into iced coffee. Tastes great. If you prefer sweet coffees like Caramel and mocha, this could be for you.\"], ['For crying out loud, it is instant coffee-flavored cappuccino.  If you just gotta have the star-place cappuccino at 4-5 bucks a cup, go for it.  Also, the instructions on the box state to run a cycle of hot water through the Keurig after the Grove Square, otherwise it will clog the machine; same goes for hot chocolate, and apple cider k-cups....JimMc'], ['Great for instant coffee and perfect for mornings where you don\\'t have time to add cream and sugar. Cheaper than most k-cups too. They do lack the \"ummph\" of regular k-cups though.'], ['This is the only Cappuiccino the wife wants in the home. Best of several types she tried . Ordering more to keep, Her happy'], [\"Bought it for the wife, she loves it.  Great deal for k-cups.  I don't have first hand knowledge so sorry, nothing of substance in this review.\"], ['The coffee is wonderful with no bitter taste or after taste. I prefer a Cappucino style of coffee with all ingredients pre mixed. This is one of the best that I have tried and I know I will be re-ordering when I am done with my original purchase.'], ['It wasn\\'t until my Keurig got \"backed up\" and only dispensed a half-cup that I realized these were instant and as such, required special cleaning. These are not the brew kind so after making a cup, you need to run 1-2 cups of water through the Keurig or the needle and bottom of the filter dispenser/spout (I have no idea what it is called) gets clogged. I clean my Keurig frequently, but these and the hot cocoas are really not worth the hassle of two cups of water after every cup I make. The cappuccino tins from like International Coffee or a packet of swiss miss, etc are much less fuss.<br /><br />As others posted, the taste is off as well. If you want to know what they taste like, go to your local gas station and find the \"caramel cappuccino\" dispenser and try that.'], ['Thick delicious and creamy.  I foudn the hazlenut flavoring to be quite distinctive yet not over powering.  I will use the small cup size on this then a small cup of kona and its really yummy and strong :)'], ['Love this cappuccino, it is so much better than buying it in a gas station. Very good and would recommend it to everyone.'], ['I must concur with previous reviews stating that if you like \"convenience store caps\",you\\'ll probably be OK with this product.I used two 6oz passes through our Keurig,added an ounce of liquid French Vanilla creamer and then ran the mix through a Latte blender we have.Although a tad thin(next time-2oz of creamer),the end result compared very favorably with the local 7-11 caps,which my wife and I both love.As for previous remarks about sucralose;if I hadn\\'t already known it was there-I wouldn\\'t have known it was there(cannot speak to medical aversions,you\\'re kind of on your own there).Bottom line;at $.35/cup vs $1.50 & up,this does the trick!'], ['These are so yummy! Must have for any Kuerig owners. I recommend trying this flavor and company! Mailed in good time too.'], [\"I have never heard nor bought this brand before, but couldn't pass up the subscribe and save pricing for these k cups. They were delicious, and as previous poster stated, you don't even need to add anything to it!!!\"], ['I got this since I enjoy cappuccino. I like the fact that I can make these at home, and one cup at a time so that I can make them when I am actually ready for it and it is not sitting around getting cold or old. It has just the right amount of Hazelnut. Living in UpState New York, our mornings can be cold and hard to get up in the morning. This is great to help in the morning.'], ['I love cappuccino, with this I can make each cup as needed. It has a great taste, it has just the right amount of caramel flavoring. It is not to strong, and not to weak. It is the perfect thing for those cold winter mornings to get you going.'], ['This makes a nice little treat on a cold winter afternoon!  But be sure you use a small cup setting on your coffeemaker or you will end up with something that looks and tastes like cloudy water!'], [\"Just what I expected it to be. It's like the powdered stuff they put in the machines at convenience stores. You can't expect real cappuccino from a Keurig.\"], ['I have reordered these twice. They are delish and I enjoy them on a daily basis. No additional milk or sugar is needed to enjoy this sweet treat'], ['This is a really good tasting flavored K cup. it is sweet but not to sweet and is much better than some of the flavored k cups. I will be buying more when this is gone.'], [\"I usually put creamer in my coffee, and I thought previous reviewers were probably nuts to think that a K-Cup coffee could produce something that didn't need sweetener.  Wrong!  This truly doesn't need any sweeteners/creamers.  It's sweet and creamy all its own!  Very good!<br /><br />EDITED: I love sweet coffee, but after three times of trying it I've decided this is WAY too sweet, and I wouldn't buy it again.  I changed my rating from 5 to 3 stars.\"], [\"Love the flavor of these cappuccino cups they are the right level of sweet for my particular taste<br /><br />That being said the number of damaged cups was un-acceptable it must have been something before boxing because the box the cups come in had no damage at all but 5 of the cups were smashed beyond recognition with the foil ripped and the sides of the some of the cups perforated that's over 20% damaged and useless!<br /><br />I really wish quality control had caught this and I could give it a higher review but with the expense of K cups already having to throw 20% out is not a good thing\"], ['I love the taste of this coffee. My husband says its the best coffee he has ever had. I save alot of money on cream because the cream is right in it. Yummy!'], ['These K-cups are delicious. They taste so good and I save alot of money on cream products because the cream is right in the coffee. I plan on buying more soon.'], ['My husband isn\\'t a big coffee drinker but loves \"gas station\" cappuccino.  He says these taste even better than what he\\'s used to.  Will definately by again!!'], ['I really have fallen in love with my coffee maker because of products like this....Their coca is also pretty darn good.  I would recommend this product.'], ['This coffee is good, it could be a little sweeter but it hits the spot if you like French Vanilla Cappuccino.'], ['I bought this capuccino for my husband and he loves it so much, that I decided to try it. I dont like Hazelnut but I like this one alot no need to add sugar or anything great for on the go!'], [\"I love my Keurig and I love this product as well.  I've never had a Cappuccino before if its anything like this K-Cup, I'd drink it all day.\"], [\"This product tastes okay, but is definitely quite sweet.  Maybe I missed something, but I couldn't find the calorie content prior to ordering and foolishly ordered any way.  One review I read said there is 60 calories, but it is 80 calories a cup per the packaging, I probably wouldn't have ordered.  This will be a one time per day drink...also has a bad aftertaste.  On a positive note, the pricing is reasonable...however with one a day, it is going to take me two months to go through this drink that I am not crazy about.\"], ['I expected a nice rich vanilla cappucino flavor, instead got a very weak taste. Very disappointing.<br />This is the second \"Grove Square\" product I tried, and both were unsatisfying.'], [\"despite a lot of negative reviews, I still bought this product because of the great price. To my surprise I LOVED the cappuccino! I brew the small cup when using these K-cups because it's a little stronger, when you brew the larger cup size it's a little weak. Over all, loved the product and the price!!\"], [\"SO BEWARE its instant coffee NOT real coffee I was expecting a dark roast sort of brew with a hint of vanilla... My mistake for not reading others reviews. That said it is not bad its is instant though so think those machines at the gas station that you pick your flavor from- that's what it is. I would but again but for different reasons NOT a morning pick me up. its also loaded with sugar and fat so dieters beware/\"], [\"I didn't realize before I purchased this that it has sucralose in it. I really dislike the aftertaste, so much that I can't use the rest. If you don't mind that aftertaste, the flavor is otherwise ok.\"], ['I know this is not a real cappuccino but I think it tastes pretty good and is so easy in my Keurig, which was a Christmas gift from my kids.  It has been an adventure trying all the products out there in Kcups, some are hits and some are misses and for me this is a hit.'], [\"When I drink this, it tastes like flavored hot water. I think the powdered stuff you add water to that you get in the grocery store tastes way better. Won't be ordering this again.\"], ['The cappuccinos taste alright. I think the powdered stuff where you just add hot water too tastes way better than this. I decided to get one of the Kerruig cups where you can use your own coffee or cappuccino and hope it will taste better. Will not be ordering this again.'], ['this coffee matches or better than I can get at our local gas station.  and the cost is somewhat less for oz for oz and I do not have to make that extra stop to get coffee.'], [\"I tried this yesterday for the first time.  It tasted OK to begin with, but there is an awful, chemically aftertaste.  I assume it's because of the artificial sweetener.  It took me a couple hours to get the gross taste out of the back of my throat.  Completely not worth it!\"], [\"Even for my hubby who likes just a little coffee with his cream and sugar (lol) this was perfect as is straigh from the Keurig machine!  I love how it tastes as well.  It is basically the powdered cappuccino mix in a k-cup. There is no filter inside it so you can't re-use them if you were going to use the K-Saver metal caps to re-use your k-cups.  Also you can't use them for more than one cup as you can some regular ground coffee k-cups.  Overall though - the flavor is excellent and well worth the 4 stars!\"], [\"This coffee was WAY too sweet for me, I used one and I'm giving the rest to a good home.  By way of reference, I normally put a teaspoon of flavored creamer and 1-2 packs of splenda in a cup of coffee, so I do like mine doctored.  This reminded me of those nasty international delight flavored coffees.  It also clogged the needle on my keurig which was a pain to clean.  Never again!\"], ['I have had my keurig for a couple of months and have tried many different kinds of coffies,ciders, cappuccino,etc...<br />So far, this is my favorite cappuccino. What makes it even better?  Amazon and subscribe and save!'], ['Love this product, it is rich and creamy and taste like one you might buy from a high class coffee bar.'], [\"Jennifer's review was spot on, I love this French Vanilla cappuccino! This is exactly what I was looking for, yes it's not your Starbucks cappuccino, it's more like what you get at mini-marts or service stations. I'm not a hard coffee drinker and this is just what I was looking for, Thank You, Jennifer.\"], ['My guys travel frequently and like the sweet, frothy convenience store cappuccino.  This is a great replacement at much lower cost per cup.  With 80 calories a serving, it\\'s easier on their waistlines too.  It\\'s not even close to coffee shop cappuccino, which I prefer and they loathe.  I admit, it is a nice frothy drink, but if you\\'re looking for \"real\" cappuccino, you will probably want to avoid this.'], [\"It tastes kind of fake, like fake sugar, fake cream and is too sweet, the vanilla flavor isn't that great either. I won't be buying these again.\"], ['when buying these cups you never know what you are getting it could be a wast of money but this box was a good choice....love it'], ['Very good price.  Use to could find it in big discount stores but hard to find.  I looked on Amazon and there it was.'], [\"I was a bit hesitant to buy cappuccino K-cups.  After all, I had been using the cappuccino mix from Sams Club that provided a very good cappuccion.  It wasn't restaurant quality, but it was good.  Mix is soluable and doesn't need to be brewed.  The Sam's Club mix was cheaper, so why switch?  After the first sip, I was hooked.  This may not be the best cup of cappuccino that I ever had, but it is one of the best and far superior to many cappuccinos served at restaraunts and at 50 cents a mug, is a bargain considering the quality.  I recommend it without reservation.\"], ['This has a very smooth taste, nothing is overpowering in it. I would recommend it to to all my coffee drinking friends..'], ['this is very good tasting and a treat for me. and if i do not want to plug in my keruig maker all i need is hot water'], ['My son really enjoys this flavor. He would write a different review.<br />I thinks its very weak, even when selecting a small brew. Not as good as I thought it would be.'], ['Excellent taste. This is the first time I ordered this particular product and am very pleased.  Would order again. I found the price to be more than fair compared to grocery store prices.'], ['<a href=\"http://www.amazon.com/gp/product/B005K4Q1YA\">Grove Square Cappuccino Cups, French Vanilla, Single Serve Cup for Keurig K-Cup Brewers, 24-Count</a> Very good. No need to add sugar.'], ['Shipped fast, tasted great, but could do without the hydrogenated oils that all K cup capps seem to have. Looking to try more flavors.'], ['Loved this product, highly recommend it. If you like cappuccino you will love this. Also recommend the caramel flavor cappuccino also.'], [\"The machine empties the k cup, it's dry contents.  Not all that good, watery even on the low setting of hot water. I won't get them again, yes they are worse than convenient store.<br /><br />Not worth my wait. Even at the price won't get them again.  That fake sugar after taste is not good, just like the reviewer said.  Had to try for myself, so probably will you but you won't like it either.<br /><br />Good luck still lookin for a replacement for the coffee cups.\"], ['Do not down play the rich flavor of the instants offered. They cost less and taste amazing.Better than hot cocoa,in my opinion.Wanna spend less try these \"Grove Square\" brand products.'], [\"I'm a black coffee drinker, but once in a while I want cream and sugar with it.  That pretty much describes this K-cup.  Decent, pleasant taste in a convenient one-step process.\"], ['My kids loved the cappuccino the price was right but for me and I am a person with a sweet tooth.  For me it was way to sweet'], [\"I bought my son a huge variety of Kcups to go with his new Keurig coffee maker. After tasting about 20 flavors so far, this is the only one that we didn't love. It's not disgusting, but it's just not too flavorful. It had an odd aftertaste to it. We also bought the Grove Square Caramel Cappuccino and I thought that flavor was 10x better.<br /><br />We'll use these up, but I probably won't purchase this flavor again.\"], [\"I recently bought a Keurig so I'm trying out different coffees.  I first found Grove Square Hazelnut Cappuccino in the grocery store.  Now I buy it in bulk at Amazon. I usually drink plain coffee, but sometimes, when I have the option, I'll choose hazelnut over other flavors.  I was so impressed with this cappuccino.  First, while brewing, the aroma was heavenly.  The first sip continued the experience.  It was quite creamy, and had a strong, but not overpowering, hazelnut taste. It was sort of like hazelnut hot chocolate.  This is the only flavor my husband drinks now and he has stopped drinking plain coffee altogether.  I hope they never stop making this.  I've tried the flavored hazelnut coffees, but prefer this cappuccino.  It's perfect for sipping on a cold, dreary day, or whenever you want that extra richness.\"], ['Grove Square offers great flavored coffee and cappuccino K-cups at a very good price, and they always deliver on time!'], [\"Good price but this stuff is just too sweet for my liking. 80 calories a cup, 9 carbs, too much fat and sugar. The taste was good though so if you treat it more like a desert instead of an everyday morning coffee then you'll probably like it.\"], [\"Reminds me of the ones I get at the gas station, okay I'm no connoisseur but I know what I like.  These are just great!\"], [\"Tired of paying $5+ for a cup of cappuccino? This is what I'm using to get over that expensive drink habit, this and the French vanilla. Yes it is instant with milk and sugar but still very tasty!\"], ['i know that people have said these taste like the ones you get a gas stations but come on people what do you expect gourmet coffee.<br />very good for the price and i noticed they have gone up.'], ['This kcup gets some odd reviews but I must say it is by far the best \"quickie\" I have had. I either make my own latte at home the old fasshioned way or I throw in one of these in the brewer when I am in a hurry. My hubby took them to the aid station and the soldiers devoured them like they were going out of style. I love the flavor nothing needs to be added to it. A dash of whip cream is a nice granish. But locally I can\\'t find them anywhere. Walmart had them but now they are NEVER in stock. I have written to keurig asking them to start stocking these they are worth the try... and if you don\\'t like it send them my way :P'], ['This may not be \"real\" cappuccino, but I am not sure I know what that is.  This tastes good and I really enjoy a cup of it, especially on these chilly mornings.'], [\"I am trying all types of products to use with my Keurig coffee maker and I thought the caramel cappuccino would be a good choice. It was so sweet I couldn't drink it, I had to throw it out. I have a sweet tooth and not much seems to sweet to me. I wasted my money on this and I will be throwing it out as well as the Grove Square Hazelnut Cappuccino that I bought! Waste of money unless you like super sweet!\"], [\"This items doesn't taste good at all and i was very unhappy to learn that they would not let me return the unopened boxes of this order.\"], [\"I'm an avid K cup user - coffee, tea, cocoa - and have my favorites and not-so-favorites, but dang... This one started off tasting okay, but actually gave me indigestion (burp!). There's a disturbing metallic, cloyingly sweet aftertaste in my mouth too. Your mileage may vary, but this is one K cup flavor I won't be revisiting.\"], ['One of my favorites from Grove Square! A great Cappuccino that has a wonderful flavor and need no creamer to make it taste better. I love this one and the other ones from Grove Square!'], [\"Delicious! I ordered the french vanilla cappuccino because I was looking for something delicious that doesn't require the extra effort of adding cream and sugar. This is exactly that! I went through the 24 pack in 2-3 weeks and will definitely be ordering another box soon! I would recommend these for anyone that enjoys french vanilla flavor and normally adds cream and sugar to their coffee.\"], [\"There are 80 calories per cup of this coffee, 40 of those are from fat. The description says it is mildly sweet but I found it overwhelmingly sweet. There was little to no coffee taste, more like Cremora or Coffee Mate with fake sugar. I tried brewing one k cup of this coffee and then in the same cup added another k cup which was regular coffee in hopes of diluting the sweetness but even that way, it was still very sweet and whatever creamer they used was the dominant flavor by far.<br /><br />If you take a lot of cream and sugar in your coffee, you might like this coffee. I didn't like it at all.\"], ['If you are a coffee snob, you will not like this cappuccino.  However, for those of us easing into the world of coffee, this is a nice and sweet caffeinated beverage with only 80 calories.  It tastes just like the cappuccinos you get out of the machine at a gas station.  A nice treat!'], ['Another review said this tastes like the \"garbage\" cappuccinos from the gas station. Well in my case, that is exactly what I wanted! These K-Cups are delicious. Creamy and taste just like the french vanilla capps from QuikTrip. I recommend them highly if that is the taste you are looking for.'], [\"Normally I don't care for coffee at all, but I absolutely loved these!<br /><br />My sister got one of the Keurig coffee machines, and there were samples of the French Vanilla ones included in the box. She told me that she thought I would like them, so I gave it a shot.<br /><br />She was right! I absolutely loved the,, and after running out of the samples decided to order some from Amazon. After ordering those, I saw these Caramel flavored ones and knew I had to try them!<br /><br />I was so excited when they arrived that I didn't waste any time and instantly brewed one up and tried it. I liked it even better than the French Vanilla ones!<br /><br />For me, they were the perfect ammount of sweetness, and I didn't find there to be any weird artificial sweetner taste as some other reviwers have mentioned.<br /><br />Now I drink one of these every day. There is nothing I prefer more in the morning than one of these.<br /><br />Maybe these aren't for the hardcore coffee connoisseur, but for someone like me, they are awesome!<br /><br />I would highly recommend these to everyone. Especially people who normally don't like coffee. A+ and 5 stars in my book.\"], [\"My wife and I both enjoy this cappucccino!  If you enjoy a dark roast or coffee that is bitter and dark this is not for you. Its light and the taste is easy to drink.  My wife doesn't like a cup loaded with caffeine so this fit the bill for her.  I love that I can brew and go! No sugar or creamer needed unless you have a crazy sweet tooth.  I put a couple k cups to fit in a travel mug and I'm always sorry when its gone.  That means I will have to go back to the truely terrible coffee at work!\"], [\"My wife loves it.  It's too sweet for me, but I don't have to drink it.  Reasonable price.  Good shipping.<br /><br />Be careful or it can drip down and you'll find yourself growing something slimy and green.\"], [\"Normally I put 2 sugars and cream in my coffee. Not this stuff. It's perfect just as it is. VERY SWEET\"], ['This is one of my favorites...almost like the convenient store brand, which I get every day. Would recommend this ..also love, love the Cafe Escapes Chai Latte....Just love my K-Cups.'], ['For the price it is a great drink. I will order it again.If you like cappuccino you will like this'], ['I wasn`t sure about this instant type k-cups but it was a pleasant surprise I will be ordering more and my husband enjoyed it also'], [\"This won't replace your Starbucks Caramel Mocha's and what-have-you, but if you get your morning flavored coffee at BP or QT, then this is a great replacement.\"], [\"I was disappointed with this product.  It's instant coffee, sugar, and powdered creamer/milk.  It doesn't taste much like coffee.  It's okay, but not great.<br /><br />Also, after using the k-cup, you have to run a water cycle on your brewer.\"], ['Perhaps I should have known when I read caramel but I found this item too sweet for my tastes. Nor do I remember reading that it is an instant not a brew product. A lot like International Coffee without the ability to adjust the flavor.<br />Taking it off my S&S list.'], ['Found this weak and like the phony cappuccinos you buy at 7-11.  None my favorite that is for sure.<br />I ended up giving it away'], [\"This Cappuccino is really good and if you like Hazelnut you will like this product.  It's a smooth flavorful drink and the price is excellent.\"], [\"These caramel cappuccinos are great - they taste great, they are a great pick-me-up and they are ready in seconds! Maybe they aren't like the cappuccino that you would get from a gourmet coffee shop, but you aren't spending gourmet time or money either! A very nice cappuccino for the price and the caramel flavoring is just right.\"], ['Found this item for $4 cheaper at Wal-Mart.  Was too late to cancel my order. One two three four five'], ['We recieved the product on time and in excellent shape.  It tastes good and meets our expectations. Thanks for the excellent service.'], [\"I enjoy all three of the Grove Square Cappuccino flavors as does my family. I have slowly stopped buying the regular coffee and have swapped over to this brand as I seem to have become addicted to the caramel as I can't get enough of its sweet flavor. At $7.98 a box at Walmart I can buy this and NOT have to buy those flavored creamers. I shake the cup prior to use and set the machine for 8 oz....YUM!\"], ['Every thing about the order went great, the cappuccino is very good. I will be ordering this again probably soon.'], [\"First off, I didn't purchase this item for my use, but for my son's use in our Keurig. As for me, I prefer brewed coffee, but most importantly HE likes it.\"], ['This is instant cappuccino.  It is pretty tastey.  I like the cappuccino that is available at the gas stations, and this product is similar.  One caution is that it will clog up the opening on my Keurig.  (found that out the hard way)  Now I usually run through just a cup of hot water afterwards and that keeps it clean.'], [\"I really like the taste of this cappuccino.  Some complained that it's a waste because the k-cup is empty after it is brewed.  Why is that important?  I enjoy it and so does my family and co-workers.\"], ['This makes wonderful ice coffee...I have shared it with friends and everyone loves it. I know there have been comments that it is instant coffee but who cares when you have something that tastes good, and is so much cheaper then going to a coffee bar and paying $5 for an iced cappuccino...'], [\"LOVE THIS COFFEE! So delicious and love having the creamer and sugar right in there.  80 calories is a bit much but if I limit myself to 2 per day I'm ok with it.  Everyone in the house is loving this one and I ordered more immediately...it's currently on back-order but it's new so hopefully Amazon will stock up on it for me and I can get it faster in the future. Price is good too. Try it! You won't be disappointed.\"], [\"Great coffee, this is instant but other than that it is so good, I add no milk and no sugar, calories are high 80 I think but for one or two cups a day it's fine with me. Glad to see that info on the packaging. It came on time, the price was good and will buy again.\"], [\"This is so good, it's instant but I don't care, still good, Regular K-cups have left over grimes, this K-cup is empty.  So it is instant.  I do not add sugar or milk, calories are high 80 I think but for one or two cups a day is okay.  Very good.  Came on time, no problems\"], ['Initially I was a little bit skeptical about this product, but thought for the price that I should give it a try. I am happy that I did. It is a nice tasting cappuccino and is not too sweet. The taste is better with the smaller sized cups (6oz), it gets a bit watered down with the larger cup sizes. I will be buying this product again.'], [\"ABSOLUTELY DELICIOUS!!!  CREAMY...NOT TOO SWEET...SUBTLE FRENCH VANILLA FLAVOR.....YUMMY. HAVE HAD A 24 CT BOX IN OUR OFFICE FOR A WEEK AND THEY'RE NEARLY GONE. EVERYBODY LOVES IT.\"], ['I have tried lots of k-cups and this is one of my favorites.  it is very creamy and smooth.  The Hazelnut flavor is subtle.'], ['I ordered these K-cups on a preorder for $9.99.  They are becoming my favorite flavor.  I love, love this flavor.  It was<br />an excellent deal.  Grove Square has a great product.'], [\"Great item IMO.  Flavor is better than GMCR's stuff.  I also like the fact that it is on Subscribe and Save and ships for free.\"], [\"I was hoping for a nice creamy cappuccino for the evenings or during the day where a strong brew wasn't needed.  Well, *some* coffee flavor would have been good.  This tastes like coffeemate plus sugar plus old coffee grounds.  Its flat, sweet, thin, and ends with something of a slightly bitter aftertaste, reminiscent of aspartame...  with nothing in between.  There's not even a filter inside the k-cup...  just mostly cheap creamer...\"], ['My bf loves this product. We are about to order more to restock our supply.  Wish I could find it here in the stores.'], ['I buy this for my husband & also as an occasional treat for my older kids. Since we are a family of 6, the Keurig is not exactly economical. However, since I found these cappuccino k-cups, it makes it much easier to fit in our budget. And they love the flavor! The French Vanilla ones are great too!'], ['The cappuchino is very sweet. I would recommend running a regular coffee through and make it a mocha. I would not recommend more than 8 cups, because that just makes it very weak.'], ['This is just as good a I get in gas station. Love the ease of having it brewed in my house.'], [\"Everyone's tastes are different and I didn't expect to like this after reading some of the reviews.  I was pleasantly surprised and glad I tried it. I prefer this French Vanilla over a couple of the other brands.  It's the only one I don't have to add sugar or creamer to and it's not too heavy on the vanilla for my taste.  I'm ordering enough to keep stocked up since it's my evening treat and a great price!\"], [\"This is really a great product. When I start my day with the Cappucino Carmel and being out on my patio, it's having a little bit of heaven here on earth. Thank you Amazon for making it affordable for me\"], ['I usually buy caramel coffee creamer to go in my cappuccino but with this product, it is creamy without it. Buying by bulk like this offers, saves me money too. I would recommend this product and I will be making another purchase soon.'], ['This Cappuccino is wonderful!  It is hard to drink just one cup!  It the perfect caramel taste!  You must try!'], [\"This is a good product for the money - especially if you like cappuccino better than coffee.  It is a little weak compared to other gas station cappuccino's but still tasteful.\"], ['The Grove Square cappuccino is like a \"comfort food\" to me.  It is much like oneI get from a local ice cream parlor, the drink is comforting and relaxing, good for releasing stress at a time when that is extremely high in my life.  A good way to start a busy day for extra pep, yet a good \"slow down\" in the late afternoon or early evening when I need to let go of \"life\" and rest.'], ['Love the Hazelnut Cappucino tastes great. I love it when I am reading the paper in the morning. Well worth a try.'], ['I am addicted!  As good as any you buy anywhere.  I have bought this several times and am never disappointed.'], ['The flavor is absolutely wonderful.  The shipping was extremely fast.  The smaller cup sizes maintain the most flavor.  I would recommend this product to everyone.'], [\"I bought the Keurig for my husband who really did not want it.  I don't drink coffee but love, love gadgets.  So order to enjoy my new GADGET I had to find something to make.  I found Grove Square Cappuccino by accident.  I add some whipped cream on the top and what I end up with is a heavenly dessert that has none of the bitter taste of coffee.  I also bought the French Vanilla version and decided I liked it so much that I am on a monthly plan.  For anyone who loves flavored drinks this is perfect.  And my hubby finally came around and uses the Keurig for his coffee.  He does not use this drink since it does not have a coffee taste, thank goodness.<br /><br />I have been watching negatives and positives.  It is all a matter of preference and taste.  I happen to love this coffee because it is sweet and does not taste like coffee.  I simply hate coffee and this is a way to enjoy the Keurig and share some time with my husband who does drink coffee.  As for the additives... welcome to this world of the 21st century!  It satifies my sweet tooth and keeps me from eating cake, cookies, pie and ice cream.  So Grove Square bring it on.\"], ['I really like this product and when it was on sale bought a lot of them. Will wait unil on sale and get more. Tastes like what you get at the gas station and kind of sweet.'], [\"These K-cups are great tasting and I love that you don't have to add sugar and/or milk. Just watch out for the calories. Each cup is 80 calories, no free ride here!\"], ['i love this cappuccino, its like the stuff that you get from the gas station and i love that stuff. if you like gas station cappuccino then you will like this, i make it on the 10oz cup size and its perfect. i got the subscription its cheap and really good.'], ['Wonderful!!!!  It was the best deal I have ever gotten on K-cups.  Cant wait and will definately purchase again very soon!'], [\"If you have a K-Cup maker and you don't have a few of these on deck...you're missing out...seriously. If you threw some whipped cream in your mug, you'd swear these are Starbucks quality for like 1/10 the cost.\"], ['Perfect drink for beginning morning or before retiring for the evening...awesome flavor. I did not have to add any sugar or creamer. This will be my new coffee!!'], [\"Just buy a can of instant coffee and stir it into hot water.<br />This is cheaper than the original packages but it does't have coffee.<br />This is not brewed coffee.<br />Literally leaves an empty cup after brewing.\"], [\"We are heavy users of our Keurig machine and frequently look for alternatives.  This cappuccino is not in the ballpark of a Starbucks' choice, but still quite tastey!\"], [\"The item description is deceiving. This is really isn't coffee it's more of a glorified hot cocoa.  Very dissapointed. Can't even drink it.\"], ['It was worse than gas station cappuccino. It tasted like a powder that became more and more watered down the larger the cup you chose to make. Not worth it.'], [\"I'm on the fence with Grove Square's Cappuccino Cups - French Vanilla.<br /><br />On one hand, for the price at least, they're great. Sadly on the other hand, they're way too sweet for an every morning drink. The first time I tried it, I had already added cream and sugar before I ever took a sip. That was a bad idea.<br /><br />I'd buy it again in a lesser Qty, but 54 of these is going to last me a long time. They aren't bad at all, I just wasn't expecting such a sweet drink.\"], ['I bought this for my granddaughter because she will drink a cappuccino from most any where. When she was not using them, she used 2, I asked her what was wrong. Her only comment was try one. I did. Holy cow, it is almost kinda of coffer-vanilla flavored sugar water. Really NOT worth the money. Only reason for one star is that you cant give no stars.'], ['This \"cappuccino\" doesn\\'t taste good at all! DO NOT BUY, and will never buy again. I would not recommend this product to anyone.'], ['I did not like this at all, worse than the gas station cappiccino, which I do like. The grove square french vanilla is just nasty really and it leaves a bad after taste. oh and you have to run a hot water cycle after using it to clean the machine, nothing lefted in the k-cup either, well just a little bit of water to leak from the k-cup when throwing away. I will not buy this again at any price.<br />The only reason for the one star rating was because the shipping and packaging of the products was nicely done, free super saving shipping is great. I just wish the contents of said packaging had been on par. anyone know of a good cappuccino for the keurig?'], ['I bought this for my daughter and she was very excited to taste it but was very disappointed to find it to be INSTANT cappuccino. It tasted watered down even at the suggested cup setting. We honestly could have got a container of this same stuff at the local dollar store for a lot cheaper and then we could have added more of the powder when needed. Definitely not worth the money.'], ['This stuff tastes great.  However, it is not really coffee.  It is a flavored drink on the order of hot cocoa.  It has a lot of calories (80 per cup) and sugar.  It also clogged up my Keurig big time.'], [\"This is one of the best cappuccino's around! I wish they would come out with more flavors! Great price also...you can't beat the price for 24 kcups! Keep up the good work!\"], ['I was browsing on Amazon and saw that they had these french vanilla cappuccinos on here I already get the carmel ones (yummy) so decided to give these a try well tried them and loved them!! I am drinking one as a type!! Yummy!'], ['Any product with hydrogenated vegetable oils as the first ingredient isn\\'t worth buying.  This stuff has been banned in NY for a reason - it is poison for the human body. See the Wikipedia article on trans fats for more information.  Here is a clip : \"Because of these facts and concerns, the NAS has concluded there is no safe level of trans fat consumption. There is no adequate level, recommended daily amount or tolerable upper limit for trans fats. This is because any incremental increase in trans fat intake increases the risk of coronary heart disease.[2] \"'], ['A friend of mine gave me several of these Grove Square Cappuccino French Vanilla k cups!! Just loved them, but could not find them available in any local store. She told me she got them from Amazon.com. We fix it with a little bit of cream whip on top! Tastes just like you bought it from a coffee shop. Have ordered more, so I never run out. You will not be sorry if your purchase this item. I did order and try the Hazelnut, liked it but not as much as this.'], [\"I can taste the sugar substitute in this quite strongly, but not enough to disgust me. I've tasted better, but seeing as it's not made by a barista and only takes 5 seconds to produce, I'd say it's not bad. I was able to drink the whole cup, and that's good enough for me. However, if the fake sugar makes you sick, I'd stay away from this. Let's just say it's not organic or homemade, which it's not claiming to be.\"], ['I was excited to find a reasonably priced K-cup coffee.  That is until I purchased it and tried it.  This is instant coffee -it is dishonest to call it a K-Cup.  You expect real coffee whey you purchase a K-cup.  Save yourself the cost - if you really want instant coffee, buy yourself a jar of instant coffee and grab a spoon.'], ['The cappuccino was very tasty-lots of sugar, lots of maybe cream, very little coffee, instant! It does not stay hot in your cup like the ground coffee.'], [\"I would not ever buy this again. Sickenly sweet and very artificial tasting. I'm getting rid of this box by mixing it with a regular coffee K cup.\"], [\"Sickenly sweet and artificial tasting. I'm getting rid of this box by mixing it with a regular K cup.I would not ever buy it again.\"], ['Was basically just instant coffee and VERY sweet....I was hoping for one more like the Tassimo Cappuccino pods but no such luck. Will def not buy again.'], ['This is just plain instant coffee, not even the decent kind.  The K-cups come out empty after brewing, there is just powder in them- just like the gas station cappuccino machine.  Except the gas station charges less.  Very disappointed.'], [\"These cappucino k-cups are truly awful. I pre-ordered this one as well as the french vanilla one and they are both horrible. The consistency, taste, and smell are exactly like the cappucino you get out of those machines at the gas station. Don't bother, there are way better k-cups out there...the green mountain espresso one and the gloria jean cappucino ones are much better. Yes you have to mix your own milk in, but you can get creative and get a cheap foamer to use with different flavored creamers. Way better.\"], [\"I bought thinking it was capuccino but it is way too sweet for my taste. And diabetics should'nt have that much sugar. No more for me.\"], [\"Don't buy this coffee if you want regular coffee.  It is NOT, I repeat NOT just coffee that sort of has a hint of flavor, or smells better than it tastes.  It's sweet and creamy, don't have to add a thing to it.  Great on a cold day, or just a special treat for yourself.  Has a delicate caramel flavor and good aroma.  I've been looking for something like this since I discovered the Chai Tea Latte (which is my all time favorite).\"], ['Like many others, I too was looking for the gas station coffee taste, as I find gas station coffee to be the sweetest and tastiest for an amateur coffee drinker like me. If you prefer the strong, exotic, even authentic taste, this is not the coffee for you. But if you are looking for coffee that is sweet, and tasty without having to do much, this is it.'], [\"This company is scamming everyone.  They put instant coffee in a k-cup and pass it off as real brewed coffee.  I purchased their Dark roast to try it out.<br />The first thing I noticed was how lite the k-cup felt.  If you shake it, it sounds like a little snarl drum.  As it brews, you get a real dark thick mixture of water and coffee, and then only water.  When it was done I opened the k-cup.  No coffee grounds, No filter, Nothing inside, completely empty.  The coffee is only for 8 oz. cups, any larger and it is watered down coffee.  Even at 8 oz., the coffee didn't taste good. (that's my personal opinion on the taste)  Overall:  You're getting low quality instant coffee at fresh brewed prices.  Shame on Grove Square.\"], ['The worst coffee beverage I\\'ve ever had. Grove square also has \"coffee\" which you wouldn\\'t serve to your worst enemy. The taste is worse than Pakastani gas station brew, it\\'s more like Nescafe that\\'s been left to burn in a pot for hours. If you think this review is an exaggeration and you have money to waste, try it out, and then proceed to throw $10 in the trash can. Keurig should seriously consider removing all of Grove square\\'s products.'], ['I bought this item for a christmas gift for my grandaughter and so we haveent used it as of yet but the speed in delivery and cost was great'], ['Very excited to order these....but what a disgusting rip-off. I echo the sentiments of those who compared this to the stuff you get at truck stops- overly sweet and a bit oily....plus it is simply powdered mix in your k-cup....if you want this taste (probably a bit better) for like 25% of the cost buy some instant mix at your grocery store and run your Keuring with no k cup and stir.'], ['Not pleased with the flavor. They leave an aspartame taste in your mouth. I would not recommend these. i would say try a sampler before buying a whole box.'], ['This product was hard to find in our local grocery store. We enjoy the taste of French Vanilla, and at a great price.'], [\"If you're looking to buy some French Vanilla coffee, look no further! Having tried several k-cup flavors, I have to say this French Vanilla is in a league of it's own. It is amazing, so rich and creamy. I have made it both on the medium and small settings on my Keurig and both are very good, the small so creamy and thick, almost like a dessert. AND it is the least expensive of all the cups I've tried, being only 50c per cup, with the next lowest being 67c. I can't wait to try the Grove Square caramel flavor.\"], ['No complaints coffee tasted good and it comes out to less that .50 a cup.<br />I personally think it is a bargain.'], ['This product is very good. Out of everything cappuccino french vanilla is the only thing hot that i drink. I bought this not knowing what it would taste like and my husband and i love it. We even add a creamer to it even though its great without it. Its hard to find the right kind and brand but this one was perfect.'], ['Just what I was looking for, a rich and creamy coffee with a smooth taste. No creamer needed. Would love to have it in more flavors but caramel is definetly yummy!'], ['I was wondering if these would be any good and I am glad I tried them. Easy to make and taste like your in a morning cafe on a chilli morning. I am addicted to these they are a new part of my morning must'], [\"Great tasting product. Doesn't really have a 'foam' on the top, but the flavor is excellent. Works very well with the keurig brewer.\"], ['I quickly became a fan of this product after trying lots of K-cups.  I signed up to get a shipment each month from<br />Amazon  and have now increased my order as I am drinking it more than once a day.  Great product!'], [\"I am hooked on this cappuccino - it's a great pick me up in the afternoon without giving me a caffeine rush. The package of 3 boxes was a great price and they didn't take long to get here.\"], ['I wondered if I should to subscribe to the same flavored product month, after month.  I mean, at some point we would want something different...right?  However, not only is it still on of my favorites, it has also become a go to flavor for my co-workers.  This is subscription worthy flavor, and I have enjoyed every flavor from Grove Square I have tried so far.  (Just remember to shake the K-cup right before brewing!!!)'], [\"Love Love Love this K-Cup. Amazon is the only place I can find it. Wish I could find it at a store near me. This is my favorite flavor. I have made it into a Frapp as well and it's just yummy! :D\"], ['Good single cup cappuccino. Subscribe and save was really convient and price was real good.Could not find a competeing cappuccino product in the area for the price and convience.'], ['I enjoy these daily for my morning cup of coffee. Doesnt have a powdery taste and doesnt require any sugar added.'], ['If you like a lot of cream and sugar in your coffee, you will prob like this.  I personally do not...  Fake super sweet yucky flavor.<br />Instant coffee with a lot of \"bad for you\" stuff.'], ['<a href=\"http://www.amazon.com/gp/product/B005K4Q37U\">Grove Square Cappuccino Cups, Hazelnut, Single Serve Cup for Keurig K-Cup Brewers, 24-Count</a><a href=\"http://www.amazon.com/gp/product/B005K4Q37U\">Grove Square Cappuccino Cups, Hazelnut, Single Serve Cup for Keurig K-Cup Brewers, 24-Count</a> Yummy!'], ['This k cup has an artificial sweetener taste. I agree with the poster that said it tastes like something you can buy at a gas station cappuccino machine. I will not be buying this again.'], [\"Really great taste!  Smooth, pleasant, and a nice change from the traditional coffee k-cups when you're looking for something a bit different.  I wouldn't want them all the time, but as a treat, they're awesome!\"], ['It wasn\\'t until my It got \"backed up\" and only dispensed a half-cup that I realized these were instant and as such, required special cleaning. These are not the brew kind so after making a cup, you need to run 1-2 cups of water through the It or the needle and bottom of the filter dispenser/spout (I have no idea what it is called) gets clogged. I clean my It frequently, but these and the hot cocoas are really not worth the hassle of two cups of water after every cup I make. The cappuccino tins from like International Coffee or a packet of swiss miss, etc are much less fuss.'], [\"I would like to start of by saying this tastes wonderful, BUT and this is a big one I wish that on all the packaging it would state that the product contains Sucralose (Splenda) and I am allergic to it and Have just had a VERY SCARY allergic reaction to it, My throat started to close up and and I had to take a benadryl and waiting for it to start really working its magic (and hoping it does so I won't have to go to the er). Had I known that this product had Sucralose (splenda) in it I wouldn't have bought it. Grove Square PLEASE put it on your boxes, so that all of us that are allergic can stay away from it, Amazon Please post that this has Splenda in it so people know it.<br />I gave this 2 stars because it has a good taste aside form the after taste of the splenda, I wish I could have given it more stars<br /><br />Thank you for listening\"], ['As the title says, I trashed it after a SIP. I made my wife trying that, she had a sip and said \"Yuck\". Hope this helps you not buying this stuff.'], [\"Dont like this stuff. Good for a dessert, not for a morning coffee. It's like the powdery stuff you can buy at gas stations.\"], ['I found this when I was shopping at Walmart and decided to give it a try.  I do have to say that it does smell good being \"brewed\".  I was very disappointed to find out that it tastes like the crap that you get at a convenient store.  Once you have Real Cappuccino you really can\\'t ever drink that CRAPuccino at convenient stores.  I know I won\\'t ever buy any of their \"cappuccino\" again, but I will give their hot chocolate and apple cider a try in hopes that they are drinkable.'], ['Why do some reviewers seem to expect Italian coffee house products in each and every product made for K-Cups?  This is a Very Nice Cappuccino / French Vanilla flavored drink.  It is well above what you find in some gas stations - and not as good as in some others.  Just because you get it in a gas station does not make it bad - go to Italy and find out.  This makes a very acceptable cup using the middle or lowest setting.  Remember - less is stronger.<br /><br />60 cal (40 fat)  --  4.5g fat sat  --  9 carb  --  5g sugar  --  0g fiber'], ['My wife and I enjoy this coffee. It is not to sweet nor does it have an over<br />bearing coffee taste, or after taste.'], ['The ingredient tab on the product page doesn\\'t show what is in this cappuccino.  The very first ingredient when I got my order and reviewed it was trans fat, and not just a little.  This stuff will clog your arteries.  I wouldn\\'t have purchased this had the product info been shown.  I didn\\'t know they still used this stuff.  New York outlawed the stuff and the FDA explicitly makes manufactures show this ingredient.  Shame on Amazon for not displaying this.  I did order addition K-cup coffee. I\"ll return them.'], ['This is the worst I have ever tasted, makes the vending Machine types taste wonderful. If you want milky flavored water with lots of sweetner then this is for you.'], ['Yes, this is an instant coffee.  It dissolves as the hot water runs through the K-Cup.  But it is so refreshing and fast when you need a pick-me-up cup of coffee.  The flavor is wonderful.  My husband and I also like the hazelnut and caramel flavors.  You can\\'t beat this price, especially with \"Subscribe and Save\".  I have found Grove Square at HEB in Texas, but it is more expensive than the price here.  I\\'m not very picky about it being a perfectly brewed coffee with deep, rich taste.  I just want something that is hot and tasty.  Try it out and if you don\\'t like it, share it with a friend or family member who will be glad to have some free, good coffee.  A box of 18 K-Cups makes a great hostess gift.  By the way, the order is for 3 boxes of 18, a total of 54 cups of coffee.  I wasn\\'t too clear on that when I ordered the first time.  Why pay $3 for a cup at Starbucks when this is just as good, convenient at home, and tastes great?'], [\"I purchased these at walmart but they were so bad I wanted to come review them so you guys online can be warned.  I brewed myself a cup and it was so bad I couldn't even drink it, i had to throw it out.  First off, I want to say that I'm not a cappuccino snob, I enjoy a great cappuccino at a coffee shop but I also regularly drink the powdered flavored kind that you just mix with water.  I didn't have the highest of standards for this drink to begun with but it was bad, t doesn't have very much flavor the flavor that it does have is not good, it's watery (I brewed it on the small cup setting) and it has a bad aftertaste that I just couldn't get over.  These are also pretty expensive for what you get and you are much better off in my opinion to just go to get a mix with water types.\"], [\"Indeed, this nonsense product parading around like it's real cappuccino is right up there with that swill you get out of the gas station machine.  High in calories, low in quality, you get what you pay for.  I had to take and mix one of these with a cup of regular coffee to make it drinkable.  Granted, I've only had 2 cups of it but I'm going to give the rest of the box away.  Save yourself the disappointment and the money and avoid this garbage.\"], [\"This is too sweet to be cofffee and not strong enough to be Cappuccino. It's way too sweet; this coming from a guy who typically adds cream and 2 splenda's to his coffee.\"], [\"Didn't like the flavor or the taste at all...nothing close to any cappuccino I ever had. Totally disappointed and now I am not sure what to do with remaining 52 cups!<br />Don't waste money by buying bulk, try one first if you could get it.\"], ['I could not wait for this to come. This was not bad at all inspite all the bad reviews that I saw. Next time I make this I will use the 8oz button instead of the 12oz it was a tad watery the instructions said use 8oz setting.'], [\"This is not a typical K-Cup, this is a powder. If you are hunting for a new coffee, this is not it. Imagine those cheap bags of hot chocolate in a more expensive K-Cup, and that's essentially what this is. Got it for $9 and I still feel disappointed. Doesn't taste bad, but nothing impressive. Do yourself a favor and skip this one.\"], [\"These are pretty cheap, so we weren't sure what we were going to get. I feel like these are pretty weak, they are alot like the gas station cappuccinos out of the machine but not as strong. I do like that it is only 80 calories, so it's nice to have as a low calorie treat when dieting.\"], ['I Thought I was order mocha not hazelnut!  Do not care for hazelnut and because it is a groccery Item you can not return it so be very careful on ordering!  The french vanilla is very good and I am sure if you like hazelnut it is also very good!'], ['When I made my first cup I added cream and sugar as I was not sure what to expect.  It was like drinking sugar!  I then began drinking it k-cup only.  Still sweet.  I have been finishing my order, but will not order again.'], ['This product has gone over and<br />I had to pass on where I got it from<br />several of us have now pitched in to buy<br />more for the office as it has flown out with<br />clients as well as staff'], ['I purchased this product and did not realize, until reading the ingredient list on the side of the box, that it contained hydrogenated oils. I was unable to return the k cups due to amazon policy so I had to throw the items in the trash.'], [\"Good taste. Just be sure you don't use too much water. Will be ordering this again as soon as I can.\"], ['I love this product.  easy to use and a great taste...the package are easy to read and use.  The taste is smooth and rich.'], ['LOVE this product!  Wish it would come in a fat free version!  Delivery was great and it smells GREAT! YUMMY, delicious and my hubby enjoys it too!'], ['Absolutely awesome, I love it!!  It is very flavorful and creamy.  It makes the perfect cup of warm and cozy comfort!!'], [\"One of my coworkers bought a giant K-Cup variety pack, and this variety was in there. Man, it's delicious. It's as good as those French Vanilla cappuccinos you might get from a gas station in the middle of the night when driving down I-5, but you can get it in your own kitchen.<br /><br />Does it have much coffee in there? It's hard to say. The box claims that there is some instant coffee inside, but it certainly doesn't taste like it. It simply tastes like sweet delicious vanilla.\"], ['I am enjoying the cappuccino coffee very much<br /><br />I like to put whipped cream on top when I serve it to friends<br /><br />has a very nice taste<br />you can also put a little choc syrup on top of cream'], ['I thank that the French  vanilla cappuccino  is the greates thing that I have ever tasted  It is even better then wawa'], [\"I had been waiting for a while for a Cappuccino on the Keurig and I happened to find this one at the store. It's like drinking an angel wrapped in a unicorn. In other words, my new favorite Keurig drink! If you're not a coffee snob and you like French Vanilla and Cappuccino, try this product!\"], ['I was extremely excited when I purchased this product.  Taste is great and I don\"t need to add any extra flavor...just brew and drink.  The price is great!'], [\"Yessiree- this is the same sweet coffee-esque sugar buzz that you'll find at most convenience stores and gas stations. Is it a chemical abomination? You bet! Does it taste great with a day-old buttered roll in a wax-paper sleeve? Absolutely! Here is the real thing that fogs your windows and leaves a vanilla aroma in its aftermath. It is sickeningly sweet and guaranteed to snap you out of a hangover when followed with a day-old roll or bagel with cream cheese. Nothing short of an American classic and friend of the open road.<br /><br />It's not just about the sugar. They actually put 30mg of caffeine into this concoction of--well, you really don't need to know.<br /><br />It's cheaper than the $1.75 at the gas station (around $.45 a paper cup).<br /><br />It's not actually coffee-- but it hits the spot when you're down and out and need something more for breakfast than a Baby Ruth Bar.<br /><br />Go ahead- you know that you want this, uh...whatever it is. Mmmmm! Now THAT'S what I'm talking about!\"], [\"I really was wary about ordering this since I's picky about cappuccino but it's great. I like my cuppuccino a bit sweeter so I add 2 Sweet and Low packets per cup.  I'm hooked now on this Grove Square brand. It's great!  Very smooth tasting and good finish.\"], [\"My favorite thing about this K-cup Cappuccino is that it does NOT taste artificial!!!!  I purchased a personalized variety pack of K-cups on amazon and this cup was included.<br /><br />I would highly recommend this to anyone who is sensitive to the artificial flavoring of many K-cups.  This tastes smooth, creamy, and sweet (bc of the caramel).  It tastes like it could have come straight from the coffee shop, really!<br /><br />You don't have to add any cream or anything because it is already included in the cup.  The only complaint that I can imagine others might have is its level of sweetness, if they don't like sweet cappuccinos, but then don't purchase one that is caramel flavored right?\"], ['I am very pleased with this product.. The cappuccino flavor is delicious.. The best cappuccino flavor I have purshased anywhere for my k-cup machine..'], [\"$0.42 for a cup of coffee- sure beats buying at Starbucks or another coffee joint. And this tastes better than most of the flavored K-Cups I've tried.\"], [\"I finally found a coffee that I can say I love!  I may never go to Starbuck's again!  This coffe is just strong enough, not too bitter.  Also has a smooth and sweet taste from the french vanilla.  And, the best part is each cup is only 80 calories!  I will definitely order this brand again.  I'm usually a hot chocolate or mocha coffee drinker, but this will be my coffee of choice and I will always have on hand to brew a fresh cup.\"], ['<a href=\"http://www.amazon.com/gp/product/B005K4Q33Y\">Grove Square Cappuccino Cups, Caramel,Single Serve Cup for Keurig K-Cup Brewers, 18-Count (Pack of 3)</a><br />Forget Starbucks, this smooth flavor makes every cup special.<br />Hazel nut is my second choice.<a href=\"http://www.amazon.com/gp/product/B005K4Q37U\">Grove Square Cappuccino Cups, Hazelnut, Single Serve Cup for Keurig K-Cup Brewers, 24-Count</a><br />Have a unique flavor in mind, try the Vanilla with you favorite blend of flavor syrups, regular or sugar free.<br /><a href=\"http://www.amazon.com/gp/product/B005K4Q4LK\">Grove Square Cappuccino Cups, French Vanilla, Single Serve Cup for Keurig K-Cup Brewers, 18-Count (Pack of 3)</a>'], ['Besides Timothy\\'s, \"Grove Square Caramel Cappuccino Single Serve Cups\" is another favorite K-Cup coffee to drink if your looking to stock up.. Taste fantastic, is just the right strength to get you going when you need to but not so strong where it gives you the shakes.. Highly recomend \"Grove Square Caramel Cappuccino Single Serve Cups\" if your looking for a new K-Cup to try...'], [\"An excellent product. Too bad it's not readily available in the stores. Walmart used to carry it, but I'm told the Grove Square rep is not responsive. Seems foolish to me.\"], ['While Mocha Nut Fudge coffee is still my favorite, and hazelnut the coffee I most often drink,  This is the best tasting cocoa-type think I have yet had.  I find myself drinking the hazelnut, then making this in the same cup with some of the hazelnut still in there, as well as just drinking it by itself.<br />After trying several cocoas and cappuccinos, I was skipping the kcups and just using the machine to make hot water and using the far cheaper instant cocoa packets.  But after a freind had me try the caramel cappuccino, I ordered boxes of my own, and I am still happy with the taste after a month of it.'], [\"This product is wonderful hot on a cold day, but if you really want to taste something amazing try this product over ice. On a hot or cold day, hot or cold it doesn't matter as is product has a great taste.\"], ['Delicious!  This is the way I start my morning every day!  Perfect for a quick pick-me-up or when you are rushing out the door.'], [\"I savor this drink as I relax each evening. It's rich and just sweet enough to keep me feeling completely satisfied!\"], [\"French Vanilla Cappucino has a very good taste and really enjoy drinking it, very addictive, can't just drink one cup.  highly recommend this flavor\"], ['I bought a box of Grove Square \"medium roast\" for $10.00. I thought, what a great price for K-Cup coffee.<br />Ya right! When I opened the box I thought that the cups were very light. Of course their light, they are filled with instant coffee!<br />For the amount of \"instant\" coffee that I got for $10 I could have bought 2 jars at the same price and got 100 times the same type of coffee.<br />I expect REAL coffee when I pay around 50c a cup.'], [\"I had a cup of this at a friend's home, and he asked me if I liked it. I told him frankly that it wasn't great; it tasted too much like instant coffee. He said that it WAS instant! Conclusion: It is anathema to use a K-Cup brewer to make INSTANT anything. And at 50 cents (minimum) per cup, it's got to be the height of misplaced convenience. There are wonderful flavored coffee K-Cup varieties out there -- try them.\"], [\"Great coffee, it's is instant because the cup is empty when it's done brewing, but I don't care, it is so good, I add no milk or sugar.  I bought all three flavors and like this one the best.\"], ['I found that Grove Square French Vanilla Cappuchino did not have any pleasant French vanilla or coffee smell. The taste was somewhat medicinal with a bitter aftertaste. Not returnable at Amazon since it is opened and after exchanging emails with the company, Sturm Foods, Inc.,  I learned they do not refund customers based on \"personal taste\". I would suggest staying with a brand you know and love and avoid this \"bargain\" item.'], [\"Whoever designed and/or created this product has never had a real cappuccino. Even the ones from McDonald's rank as gourmet compared to this vile substance. Unless you are a fan of flavored laxatives,which is what this reminded me of, save your cash and just either buy an over priced cappuccino from a trendy cookie-cutter coffee vendor, McDonald's or a gas station because any of them have better tasting product than this. I literally took a sip and spewed it out in the sink. It was foul. Seriously, don't buy it.\"], ['so smooth tasting.  Good price for this.  good quality. I enjoy this in the morning to start my day.  Or sometimes later in the day to just enjoy the smooth soothing taste of a cappicino.'], [\"I tried this at mymoms and it was super tasty ....signed up to get them every 3 months do I don't run out!!!!!\"], ['This cappuccino was very good with a sweet,mild coffee flavor. I will buy it again and would recommend this to my friends.'], ['Absolutely love the K-Cup, very smooth tasting, lots of flavor.  So easy to get the cappuccino flavor at home by just popping one of these into your Keurig machine instead of running out of the house and grabbing one.'], [\"This was quite yum! I don't know that I would drink this every day. It was really quite sweet... but sure is a yummy afternoon dessert pick me up.\"], ['These cups are excellent.  They are my favorite cups.  I recommend them to anyone who likes this sort of thing.'], ['Everyone in my family loved these Cappuccino Cups.  I will be buying more of them when this order is gone.'], ['Have had a hard time finding this coffee in the supermarket and I am thrilled that I can now order it online.  Its a tasty cappuccino and I enjoy it.'], ['K-Cups that taste good.  I was supprised at how good this coffee tastes.  I like it and so do others in the house.'], ['I love my Kuerig and especially love the variety of drinks that I am able to make with it. Product was just as stated and arrived in a timely manner.'], ['This is the best Cappuccino that you can get for your Keurig!!!  We love it!!  If you like the taste of a cappuccino out but can never get that taste at home, this will solve your problem.  I think you will be very pleased with this purchase.'], ['Considering it arrived in three days...amazing...and my father in law loves this...he was so pleased to have his favorite Keurig cup arrive ....and it tastes great too!'], [\"Had not been able to find this cappuccino since I moved 3 mos. ago.  Finally got on Amazon and found it. LOVE this flavor and my friends love to sit around the table & talk while we're enjoying it. It gets my day started off right!\"], ['I have never tried Hazelnut Cappuccino before, so I BOUGHT SOME, (it is great), try some and you will like it as much as I DO, GREAT FLAVOR, AND IN COMES IN A SMALL K-CUP, WITH YOU DO NOT HAVE TO MES- ARROUND, WITH COFFEE GROUNDS, AND IT BREWS QUICK WITH THE KURIG COFFEE MAKER.<br /><br />TRY IT AND YOU WILL LIKE IT. I RECCOMMEND THIS TO EVERYONE. Jim in Ohio'], ['After trying several different k-cups, this is the one that is a keeper.  In fact, they are so good that I set them up on the subscription auto delivery program.'], [\"I was disappointed to see that this product contains Sucralose.  It also contains sugar so why the need for an artificial sweetener too?  I now have 54 kcups of a product that I really don't care to put in my body.<br />Some people are sensitive to artificial sweeteners, like my daughter who immediately went to the bathroom after drinking a cup, so the should definitely be listed.\"], ['<a href=\"http://www.amazon.com/gp/product/B005K4Q1YA\">Grove Square Single Serve Cappuccino Cups, French Vanilla, K-Cups for Keurig Brewers, 24-Count</a> My husband purchased this because he knows that I like (another brand) Cappuccino. Disappointed and upset are only two words that I can use to describe the experience. It was extremely sweet and already lightened (very light) and what I consider an instant coffee !! No where did it say that it is instant or artificially lightened. I called the company and they said it did not have to be labeled \"instant\" coffee. I don\\'t think he even wanted to listen to me. I told him that I probably would not buy another of their products, especially after reading other reviews......and I would forwarn people about the product!'], [\"The only reason this gets one star is because you have to give it atleast that much.  This is not anything like a K-cup.  It is instant coffee in a K-cup wrapper.  There is a supposed guarantee on the box but I have called the number many times and can never get anyone to call me back.  I usually won't bother trying to get my money back on this kind of thing but I have made an exception due to the horrid product.  In the company's defense, there are probably so many people calling to tell them about this wretched product, they may have not had time to get back to me.\"], ['Horrible flavor, horrible taste. I would like my money back.<br /><br />I was so excited when I saw the product and as soon as the package was delivered made a cup of hazelnut cappuccino... what a huge disappointment.'], [\"I got this and wanted to try it out and the price was right!  Wow - the taste is sub-par and does taste like something you would find at a gas station dispenser!<br /><br />When I was reading the nutrition facts I noticed that it had 80 calories per serving (not a big deal), I then scanned down and saw that it has 23% of your daily saturated fat!!  Wow!  When I read through the ingredient list the first ones are: Partially hydrogenated vegetable oil, sugar, corn syrup solids, and then instant coffee and some others.  I'm not health nut both those things don't sound that healthy to me and I can see where the saturated fat is coming from!\"], ['This is NOT coffee!<br />It was also not what I expected.<br />No where in the description does it say that it contains hydrogenated oils!<br />I brewed one cup - it looked and smelled like dirty dish water.<br />I threw the entire box out.<br />I want my money back :('], [\"Not fresh brewed coffee, feel bad~!!Cream and sugar added!!Too sweet. I prefer pure coffee than this one. If I want instant coffee powder, what's the point to buy one cup?\"], ['This looks like it would be yummy, but it has a strong taste of artificial sweetener!!!!  Very hard to drink.  Not worth the money!'], ['These have wonderful flavor until it hits the last note. The aftertaste is so poor it ruins the entire drink. As my daughter put it \" I keep drinking it because it is so good but then it tastes so bad.\" It has the same bitter aftertaste as drinking a diet soda just a bit stronger.'], [\"I absolutely love these, and so does my husband!  We have one every morning, and at 60 calories, that isn't bad at all!  Please keep them in subscribe and save!\"], [\"If you drink coffee... don't buy this crap, watery flavored who knows what!  I don't think it is coffee at all...  Maybe a hot drink for teens graduating from hot chocolate, this stuff is really sweet too.  Seriously a waste of money!\"], ['These are pretty good for what I wanted they taste like the stuff you get at WaWa but that was what I was aiming for. If I want a premium cappacino I have and espresso machine. It tastes the best using the 8oz. size in my opinion.'], [\"Yes, this has instant coffee in it and is ready to drink. If you have ever gotten one of those instant cappuccino drinks from a gas station you pretty much know what this is going to taste like. (you know, the one you have to hold the button and make sure you release in enough time so your drink doesn't overflow!) I enjoy it for what it is, because sometimes I just have a craving for those cheap cappuccino drinks. A few things to note:<br /><br />- Make sure you don't brew more than 8 ounces with one cup, it will be diluted. The stuff is powder mix, it doesn't brew like regular coffee grounds<br />- Please pay attention to ingredients if you are health-conscious (See below for nutrition info & ingredients)<br />- It can leave residue in your keurig/brewer so try to run a round of hot water right after brewing<br />- The box indicates that each serving contains 20-30mg caffeine<br /><br />Nutrition Info for 1 cup:<br />80 calories, 4.5 grams fat (all saturated), 170mg sodium (7%), 9g carbs (5g sugar), 0g protein<br /><br />Ingredients:<br />Partially hydrogenated vegetable oil, sugar, corn syrup solids, instant coffee, sodium caseinate, salt, cocoa, natural & artificial flavors, dipotassium phosphate, cornstarch, mono- & diglycerides, solicon dioxide, soy lecithin, artificial color, sucralose\"], ['I never review products, good or bad, but this \"coffee\" is so bad I had to.<br /><br />This is not the typical k-cup coffee. This is an instant coffee similar to Nescafe or SB Via but tastes horrible.<br />The sugar/splenda mix makes this way too sweet. Mixing it half and half with black coffee makes it drinkable.<br /><br />This is basically just adding hot water to instant coffee. There isn\\'t a filter or coffee grounds in the cup.'], ['Love the french vanilla cappuccino kcup. It does not have the coffee taste. It taste more like the cappuccino from a gas station. Will be ordering some more soon!!!'], ['I absolutely love this cappuccino! I had my doubts, but they were proved wrong! I myself have a sweet tooth and I was worried that this product would taste too much like coffee and not enough like a cappuccino. But thankfully, I was worng and it had the right blend of both. I had 2 cups the first day I bought it! Shared it with my family, they loved it too!'], ['Thank you to the reviewer that said this was like the coffee from the gas station machines.  I love that coffee!  I must say though, it is less sweet than the gas station machine coffee.'], [\"Dear Coffee snobs, if you want real cappucino, you bought the wrong coffee maker. Considering that you did, be happy with this selection, as its actually VERY Tasty compared to any of the other Cappucino K Cup knock offs. Its the only one I'll buy.\"], [\"I am not a huge coffee drinker, so for me the best cappuccino is one that doesn't have a strong coffee taste. . .I actually prefer the gas station variety over the 'real deal'.  If that's what you like, then this is the perfect fit!  I love it, my husband loves it as well, and he was quite skeptical!  We purchased an actual cappuccino maker several years ago and hated the strong coffee taste, so the machine went back to the store.  He refused to believe me, that this mix was what we were looking for, until I made him a cup!  He's surprised and happy to have a cheaper way to make a favorite drink at home w/out having to stop on the way to work!\"], ['I love this k cup.  Added whip cream and it is heavenly.  Thanks Grove Square for making this great k cup.  Nice aroma and great taste.  My bf also likes the French Vanilla.'], ['Well first dont purchase this item if your looking for coffee. To me it taste just like the cappuccino I was getting from the convenient store every morning. I love it!! Typically have 2 to 3 cups a day! Give it a shot :)'], ['This coffee tastes worst than any gas station coffee. It leaves a horrible after taste in your mouth before you even finish drinking one cup.'], ['I highly recommend passing on this stuff--super saccharine taste plus the additional \"benefit\" of that awful artificial sweetener after taste.  Now what am I going to do with the remaining 23 cups?'], ['Oh my goodness, this was bought for us as a housewarming present for our new Kuerig machine.. I ended up having to stab open the K-cups and put half a teaspoon into the bottom of a regular coffee for it to seem anything like a cappucino and for it to be even remotely drinkable.. I feel like energy drinks would give me less of a sugar high than one of these!!'], ['way to sweet..taste like hot sugar water..has no coffee back ground taste..sorry that i bought it..nothing like what you get in a coffe shop..waste of money'], [\"This coffee arrived fast but when I went to shake the cup it was a big hard ball... they were all like that, I guess they are old and almost expired...This item is non returnable so I am just out the money. Don't buy from this seller.\"], ['I bought this item, but would not buy it again.  I have bought this in other brands that were better. This has an after taste, a little like plastic. I was very dissappointed.'], ['I am incredibly disappointed in this French Vanilla Cappuccino. It is too watered-down for my taste, even on the smaller cup setting. I most certainly will be finding a different brand.'], [\"The Grove Square Capuccino Cups are just great.  A real treat!  Some of the flavored K-cups are just that - flavored coffee - and you need to add your own cream or milk and sweeteners.  But this is all ready the minute it stops brewing!  To me - the entire concept of the Keurig is to have your favorite beverage ready instantly.  If you have to fill little cups and add your own filters or add your own cream and sugar and flavoring - it isn't quick and instant - and you might as well go back to brewing an enitire pot of coffee or use the espresso machine.  K-cups for the Keurig makes it instant - and with this Vanilla Cappuccino - its ready right away - no need to add another thing.  AND - this is the ONLY place we've found that carries this product.  I've looked at every store in our area that carries K-cups and no one carries this.  Also - the price is great.  Especially this time around.  This is the 3rd time I've placed an order for these and the price was the best ever - $8.47 I think - for 24.  Great price!  Usually they are are betwween $10.47 and $12.  My only regret - I wish Grove Square would also make a Mocha K-cup.  That is another of our favorite coffee drinks.\"], [\"I have never tasted something so awfull in my life! I like gas station cappuccino, I have no problem w/it. But, this cappuccino has something wrong w/it. It's disgusting and I'm sure I won't be able to return it!\"], ['I recently bought a Keurig coffee maker and needed some more k-cups and went right away on Amazon.com where I know I will get the best bargains.I am very happy with my purchase thank you'], ['Conveniently, ingredients not listed but for  tiny photo. If you enjoy artificial flavor,corn syrup, vegetable  oil (which??) and INSTANT coffee, this may be just the ticket<br />I bought as gift. Too embarrassed to give . I do not k cup. so  to the trash it goes.<br /> Amazon. please get some info up on non returnable items.'], [\"These are quite yummy!  They don't quite rank up there with a coffee that you get at a coffee house.....but they are 1/3rd the calories and way less expensive.  Excellent product.\"], [\"The most delicious coffee in a long time.  It is sweet so you don't need to add any sweetener (unless you are a sweet freak).  And, since I am a diabetic, I had concerns but it doesn't seem to bump my sugar readings up.  Very good product.  And a great price at Amazon.\"], [\"I looked in all the stores around me and couldn't find a cappuccino that i really liked or that even tasted good. I came across this cappuccino on here and it was affordable and you get a lot in the box..... so i decided to try it. It is amazing sooooo good....i actually like it better than i do the gas station cappuccinos!! So happy that i found it on here and am finding myself wanting it every day. A+ from me!!! =)\"], [\"Easily my favorite of all the cappuccinos.  I really enjoy this one.  They are sweet though, so if you don't have a sweet tooth, this may be too much for you.\"], [\"I was so excited to find this product, but I was very disappointed. It's has a plastic taste. It doesn't even deserve one star.\"], ['I should have trusted the other reviews and stayed away from this. Some reviewers compare this to gas station machine cappuccino but I have had way better \"cappuccinos\" from gas station machines than this.<br /><br />Edit (10/9/2012) : I now see a ton of 5 star reviews in the last month or two for this trash! The surprise is that all of them are \"Amazon Verified Purchase\" and most of them are the only review the purchaser has written. If this isn\\'t a case of cooked up reviews, I don\\'t know what is!!'], ['Very disappointed in the taste ... nothing like it is described. Tastes very watery with some sugar added to it. Bummed I wasted my $$$.'], ['Horrible product! Tried one and had to throw the other 23 out! What a waste of money!! If I could rate it a minus star, I would.'], ['I\\'ll keep the box I opened but too bad Amazon won\\'t refund the other 2 boxes. This is truly a cappuccino powder mix stuffed into k-cups.  Caramel sweetness is overwhelming.  Can\\'t taste any \"espresso\" or coffee.  My first time buying this Grove Square brand and this flavor.  Won\\'t make same mistake again.  Will buy only 1 box to try next time.  Disappointed.'], [\"In order to get the fastest coffee on earth, I'm willing to sacrifice the lack of aromarather bland flavor and\"], [\"First off i am not sure what people expect. This Fr Vanilla Cap has a great taste, creamy texture and needs nothing added to it.<br />But AGAIN, i read the product info and it stated (sugar/sucralose blend)<br /><br />I use SPLENDA brand sucralose anyway in my coffee. If you do not like the artificial sweetener, then do not order this product. But do not vote it down because you didn't read the info and/or sucralose leaves an after-taste.<br />I have no after-taste from it and therefore I enjoy this product very much.<br /><br />I use this in the B60 Keurig on the middle setting (8oz if i remember correctly)<br />My Pros:<br />-Good price<br />-Creamy texture<br />-Tastes great<br /><br />Will buy again<br />For people with the dopey comments:<br />Let me add: IT IS MACHINE-MADE cappuccino! What do you think a cheap Keurig is? Gourmet coffee?\"], [\"It tastes like a decent powdered cappuccino because that's exactly what it is. I noticed the used k-cup was very light compared to the other ones I had brewed, I opened the top and it was empty. There's no actual coffee in this, just instant. I think it's an okay value for the price, but I wouldn't purchase it again.\"], [\"Really good. Robust and sweet enough that you don't need sugar or milk.  The brewing is easy and quick for a busy career person.\"], [\"This is good!  No, you probably don't want to use the largest setting because it will water it down, but I like this.  It's creamy and sweet and just the thing after a hard day at work.  It's probably not on my diet, though.  :)\"], ['This product just a repackaged instant coffee sold a higher price.  I could get the same results adding a bulk mix to hot water.  I did not buy a Keurig Machine to make instant coffee.'], ['I received a sample of this with a variety pack and I love it.  I am not a big coffee drinker, prefering the lighter flavors.  This has nice vanilla flavor and coffee flavor in a creamy drink.  This makes a very tasty treat on a rainy afternoon.'], [\"This is my favorite K-Cup flavor.  I like my coffee sweet and creamy and this is perfect.  I don't have to add sugar or creamer.  It's all in there.  Remember those General Foods International Coffees?  Well, that's what it tastes like.\"], ['If you are looking for the taste of French Vanilla Cappucino that comes out of those machines, particularly at gas stations, then look no further.'], ['I have purchased and used 3 boxes of the Hazelnut cappuccino and look forward to a cup or two each day!  Wonderful flavor and reasonable in price.'], ['Yummy, great tasting and very convenient.  Only drawback is you must clean your machine at least once a week to keep it from clogging, just like with hot chocolate.'], ['For an enjoyable change from a coffee routine, I thought I would try this cappuccino.  What also caught my attention was \"Hazelnut\"..a favorite flavor for me.<br />This product delivers very enjoyable, full flavored as hoped for.']]\n"
     ]
    }
   ],
   "source": [
    "# nrows and ncolumns\n",
    "print (df.shape)\n",
    "\n",
    "# datatype\n",
    "print (df.dtypes)\n",
    "\n",
    "# summary stats\n",
    "print (df.describe)\n",
    "\n",
    "# array \n",
    "print (df.values)\n",
    "\n",
    "# list\n",
    "print (df.values.tolist())"
   ]
  },
  {
   "cell_type": "markdown",
   "id": "rapid-devon",
   "metadata": {},
   "source": [
    "38. How to extract the row and column number of a particular cell with given criterion?\n"
   ]
  },
  {
   "cell_type": "code",
   "execution_count": 43,
   "id": "binding-offense",
   "metadata": {},
   "outputs": [
    {
     "data": {
      "text/plain": [
       "\"yes, this is flavored coffee already...but, it's a great base for some spiked refreshment.  i like Carolans or Baileys, but Saint Brendans works well too.  be sure you use a tall cup so you have room for the extra spirits. what could possibly go wrong with that! i'm signing up for a subscription with free shipping.\""
      ]
     },
     "execution_count": 43,
     "metadata": {},
     "output_type": "execute_result"
    }
   ],
   "source": [
    "df.loc[df.reviews == np.max(df.reviews), ['reviews']]\n",
    "row, col = np.where(df.values == np.max(df.reviews))\n",
    "df.iloc[row[0], col[0]]"
   ]
  },
  {
   "cell_type": "markdown",
   "id": "premier-yukon",
   "metadata": {},
   "source": [
    "39. How to rename a specific columns in a dataframe?"
   ]
  },
  {
   "cell_type": "code",
   "execution_count": 58,
   "id": "linear-wesley",
   "metadata": {},
   "outputs": [
    {
     "name": "stdout",
     "output_type": "stream",
     "text": [
      "Index(['user_id', 'Ratings', 'reviews'], dtype='object')\n"
     ]
    }
   ],
   "source": [
    "df = pd.read_csv('/Users/Cassandra/Downloads/coffee.csv')\n",
    "df=df.rename(columns = {'stars':'Ratings'})\n",
    "print(df.columns)"
   ]
  },
  {
   "cell_type": "markdown",
   "id": "armed-bachelor",
   "metadata": {},
   "source": [
    "40. How to check if a dataframe has any missing values?"
   ]
  },
  {
   "cell_type": "code",
   "execution_count": 46,
   "id": "fifty-weight",
   "metadata": {},
   "outputs": [
    {
     "data": {
      "text/plain": [
       "False"
      ]
     },
     "execution_count": 46,
     "metadata": {},
     "output_type": "execute_result"
    }
   ],
   "source": [
    "df.isnull().values.any()"
   ]
  },
  {
   "cell_type": "markdown",
   "id": "written-constraint",
   "metadata": {},
   "source": [
    "41. How to count the number of missing values in each column?"
   ]
  },
  {
   "cell_type": "code",
   "execution_count": 47,
   "id": "dense-knitting",
   "metadata": {},
   "outputs": [
    {
     "data": {
      "text/plain": [
       "0"
      ]
     },
     "execution_count": 47,
     "metadata": {},
     "output_type": "execute_result"
    }
   ],
   "source": [
    "a = df.apply(lambda x: x.isnull().sum())\n",
    "a.argmax()"
   ]
  },
  {
   "cell_type": "markdown",
   "id": "continued-grade",
   "metadata": {},
   "source": [
    "42. How to replace missing values of multiple numeric columns with the mean?"
   ]
  },
  {
   "cell_type": "code",
   "execution_count": null,
   "id": "intense-county",
   "metadata": {},
   "outputs": [],
   "source": [
    "# Here no missing values \n",
    "df_out = df['Ratings'] = df['Ratings'].apply(lambda x: x.fillna(x.mean()))\n",
    "print(df_out.head())"
   ]
  },
  {
   "cell_type": "markdown",
   "id": "hundred-dietary",
   "metadata": {},
   "source": [
    "43. How to use apply function on existing columns with global variables as additional argument"
   ]
  },
  {
   "cell_type": "code",
   "execution_count": null,
   "id": "optical-mexican",
   "metadata": {},
   "outputs": [],
   "source": [
    "df['New'] = df.apply(lambda x: df(x['Ratings']), axis=1)"
   ]
  },
  {
   "cell_type": "markdown",
   "id": "meaning-method",
   "metadata": {},
   "source": [
    "44. How to select a specific column from a dataframe as a dataframe instead of a series?"
   ]
  },
  {
   "cell_type": "code",
   "execution_count": 48,
   "id": "pleasant-franklin",
   "metadata": {},
   "outputs": [
    {
     "data": {
      "text/html": [
       "<div>\n",
       "<style scoped>\n",
       "    .dataframe tbody tr th:only-of-type {\n",
       "        vertical-align: middle;\n",
       "    }\n",
       "\n",
       "    .dataframe tbody tr th {\n",
       "        vertical-align: top;\n",
       "    }\n",
       "\n",
       "    .dataframe thead th {\n",
       "        text-align: right;\n",
       "    }\n",
       "</style>\n",
       "<table border=\"1\" class=\"dataframe\">\n",
       "  <thead>\n",
       "    <tr style=\"text-align: right;\">\n",
       "      <th></th>\n",
       "      <th>a</th>\n",
       "      <th>e</th>\n",
       "      <th>i</th>\n",
       "      <th>o</th>\n",
       "      <th>u</th>\n",
       "    </tr>\n",
       "  </thead>\n",
       "  <tbody>\n",
       "    <tr>\n",
       "      <th>0</th>\n",
       "      <td>0</td>\n",
       "      <td>1</td>\n",
       "      <td>2</td>\n",
       "      <td>3</td>\n",
       "      <td>4</td>\n",
       "    </tr>\n",
       "    <tr>\n",
       "      <th>1</th>\n",
       "      <td>5</td>\n",
       "      <td>6</td>\n",
       "      <td>7</td>\n",
       "      <td>8</td>\n",
       "      <td>9</td>\n",
       "    </tr>\n",
       "    <tr>\n",
       "      <th>2</th>\n",
       "      <td>10</td>\n",
       "      <td>11</td>\n",
       "      <td>12</td>\n",
       "      <td>13</td>\n",
       "      <td>14</td>\n",
       "    </tr>\n",
       "    <tr>\n",
       "      <th>3</th>\n",
       "      <td>15</td>\n",
       "      <td>16</td>\n",
       "      <td>17</td>\n",
       "      <td>18</td>\n",
       "      <td>19</td>\n",
       "    </tr>\n",
       "    <tr>\n",
       "      <th>4</th>\n",
       "      <td>20</td>\n",
       "      <td>21</td>\n",
       "      <td>22</td>\n",
       "      <td>23</td>\n",
       "      <td>24</td>\n",
       "    </tr>\n",
       "    <tr>\n",
       "      <th>5</th>\n",
       "      <td>25</td>\n",
       "      <td>26</td>\n",
       "      <td>27</td>\n",
       "      <td>28</td>\n",
       "      <td>29</td>\n",
       "    </tr>\n",
       "    <tr>\n",
       "      <th>6</th>\n",
       "      <td>30</td>\n",
       "      <td>31</td>\n",
       "      <td>32</td>\n",
       "      <td>33</td>\n",
       "      <td>34</td>\n",
       "    </tr>\n",
       "    <tr>\n",
       "      <th>7</th>\n",
       "      <td>35</td>\n",
       "      <td>36</td>\n",
       "      <td>37</td>\n",
       "      <td>38</td>\n",
       "      <td>39</td>\n",
       "    </tr>\n",
       "    <tr>\n",
       "      <th>8</th>\n",
       "      <td>40</td>\n",
       "      <td>41</td>\n",
       "      <td>42</td>\n",
       "      <td>43</td>\n",
       "      <td>44</td>\n",
       "    </tr>\n",
       "    <tr>\n",
       "      <th>9</th>\n",
       "      <td>45</td>\n",
       "      <td>46</td>\n",
       "      <td>47</td>\n",
       "      <td>48</td>\n",
       "      <td>49</td>\n",
       "    </tr>\n",
       "  </tbody>\n",
       "</table>\n",
       "</div>"
      ],
      "text/plain": [
       "    a   e   i   o   u\n",
       "0   0   1   2   3   4\n",
       "1   5   6   7   8   9\n",
       "2  10  11  12  13  14\n",
       "3  15  16  17  18  19\n",
       "4  20  21  22  23  24\n",
       "5  25  26  27  28  29\n",
       "6  30  31  32  33  34\n",
       "7  35  36  37  38  39\n",
       "8  40  41  42  43  44\n",
       "9  45  46  47  48  49"
      ]
     },
     "execution_count": 48,
     "metadata": {},
     "output_type": "execute_result"
    }
   ],
   "source": [
    "x = pd.DataFrame(np.arange(50).reshape(-1, 5), columns=list('aeiou'))\n",
    "x"
   ]
  },
  {
   "cell_type": "markdown",
   "id": "wanted-prince",
   "metadata": {},
   "source": [
    "45. How to change the order of columns of a dataframe?"
   ]
  },
  {
   "cell_type": "code",
   "execution_count": 50,
   "id": "agreed-wesley",
   "metadata": {},
   "outputs": [
    {
     "data": {
      "text/html": [
       "<div>\n",
       "<style scoped>\n",
       "    .dataframe tbody tr th:only-of-type {\n",
       "        vertical-align: middle;\n",
       "    }\n",
       "\n",
       "    .dataframe tbody tr th {\n",
       "        vertical-align: top;\n",
       "    }\n",
       "\n",
       "    .dataframe thead th {\n",
       "        text-align: right;\n",
       "    }\n",
       "</style>\n",
       "<table border=\"1\" class=\"dataframe\">\n",
       "  <thead>\n",
       "    <tr style=\"text-align: right;\">\n",
       "      <th></th>\n",
       "      <th>i</th>\n",
       "      <th>a</th>\n",
       "      <th>e</th>\n",
       "      <th>u</th>\n",
       "      <th>o</th>\n",
       "    </tr>\n",
       "  </thead>\n",
       "  <tbody>\n",
       "    <tr>\n",
       "      <th>0</th>\n",
       "      <td>2</td>\n",
       "      <td>0</td>\n",
       "      <td>1</td>\n",
       "      <td>4</td>\n",
       "      <td>3</td>\n",
       "    </tr>\n",
       "    <tr>\n",
       "      <th>1</th>\n",
       "      <td>7</td>\n",
       "      <td>5</td>\n",
       "      <td>6</td>\n",
       "      <td>9</td>\n",
       "      <td>8</td>\n",
       "    </tr>\n",
       "    <tr>\n",
       "      <th>2</th>\n",
       "      <td>12</td>\n",
       "      <td>10</td>\n",
       "      <td>11</td>\n",
       "      <td>14</td>\n",
       "      <td>13</td>\n",
       "    </tr>\n",
       "    <tr>\n",
       "      <th>3</th>\n",
       "      <td>17</td>\n",
       "      <td>15</td>\n",
       "      <td>16</td>\n",
       "      <td>19</td>\n",
       "      <td>18</td>\n",
       "    </tr>\n",
       "    <tr>\n",
       "      <th>4</th>\n",
       "      <td>22</td>\n",
       "      <td>20</td>\n",
       "      <td>21</td>\n",
       "      <td>24</td>\n",
       "      <td>23</td>\n",
       "    </tr>\n",
       "    <tr>\n",
       "      <th>5</th>\n",
       "      <td>27</td>\n",
       "      <td>25</td>\n",
       "      <td>26</td>\n",
       "      <td>29</td>\n",
       "      <td>28</td>\n",
       "    </tr>\n",
       "    <tr>\n",
       "      <th>6</th>\n",
       "      <td>32</td>\n",
       "      <td>30</td>\n",
       "      <td>31</td>\n",
       "      <td>34</td>\n",
       "      <td>33</td>\n",
       "    </tr>\n",
       "    <tr>\n",
       "      <th>7</th>\n",
       "      <td>37</td>\n",
       "      <td>35</td>\n",
       "      <td>36</td>\n",
       "      <td>39</td>\n",
       "      <td>38</td>\n",
       "    </tr>\n",
       "    <tr>\n",
       "      <th>8</th>\n",
       "      <td>42</td>\n",
       "      <td>40</td>\n",
       "      <td>41</td>\n",
       "      <td>44</td>\n",
       "      <td>43</td>\n",
       "    </tr>\n",
       "    <tr>\n",
       "      <th>9</th>\n",
       "      <td>47</td>\n",
       "      <td>45</td>\n",
       "      <td>46</td>\n",
       "      <td>49</td>\n",
       "      <td>48</td>\n",
       "    </tr>\n",
       "  </tbody>\n",
       "</table>\n",
       "</div>"
      ],
      "text/plain": [
       "    i   a   e   u   o\n",
       "0   2   0   1   4   3\n",
       "1   7   5   6   9   8\n",
       "2  12  10  11  14  13\n",
       "3  17  15  16  19  18\n",
       "4  22  20  21  24  23\n",
       "5  27  25  26  29  28\n",
       "6  32  30  31  34  33\n",
       "7  37  35  36  39  38\n",
       "8  42  40  41  44  43\n",
       "9  47  45  46  49  48"
      ]
     },
     "execution_count": 50,
     "metadata": {},
     "output_type": "execute_result"
    }
   ],
   "source": [
    "x[list('iaeuo')]"
   ]
  },
  {
   "cell_type": "markdown",
   "id": "painful-commonwealth",
   "metadata": {},
   "source": [
    "46. How to set the number of rows and columns displayed in the output?"
   ]
  },
  {
   "cell_type": "code",
   "execution_count": 51,
   "id": "otherwise-clarity",
   "metadata": {},
   "outputs": [],
   "source": [
    "pd.set_option('display.max_columns', 10)\n",
    "pd.set_option('display.max_rows', 10)"
   ]
  },
  {
   "cell_type": "markdown",
   "id": "perceived-bosnia",
   "metadata": {},
   "source": [
    "47. How to format or suppress scientific notations in a pandas dataframe"
   ]
  },
  {
   "cell_type": "code",
   "execution_count": 54,
   "id": "above-medication",
   "metadata": {},
   "outputs": [
    {
     "data": {
      "text/html": [
       "<div>\n",
       "<style scoped>\n",
       "    .dataframe tbody tr th:only-of-type {\n",
       "        vertical-align: middle;\n",
       "    }\n",
       "\n",
       "    .dataframe tbody tr th {\n",
       "        vertical-align: top;\n",
       "    }\n",
       "\n",
       "    .dataframe thead th {\n",
       "        text-align: right;\n",
       "    }\n",
       "</style>\n",
       "<table border=\"1\" class=\"dataframe\">\n",
       "  <thead>\n",
       "    <tr style=\"text-align: right;\">\n",
       "      <th></th>\n",
       "      <th>haha</th>\n",
       "    </tr>\n",
       "  </thead>\n",
       "  <tbody>\n",
       "    <tr>\n",
       "      <th>0</th>\n",
       "      <td>0.0080</td>\n",
       "    </tr>\n",
       "    <tr>\n",
       "      <th>1</th>\n",
       "      <td>0.0000</td>\n",
       "    </tr>\n",
       "    <tr>\n",
       "      <th>2</th>\n",
       "      <td>0.0708</td>\n",
       "    </tr>\n",
       "    <tr>\n",
       "      <th>3</th>\n",
       "      <td>0.0009</td>\n",
       "    </tr>\n",
       "    <tr>\n",
       "      <th>4</th>\n",
       "      <td>0.0000</td>\n",
       "    </tr>\n",
       "  </tbody>\n",
       "</table>\n",
       "</div>"
      ],
      "text/plain": [
       "     haha\n",
       "0  0.0080\n",
       "1  0.0000\n",
       "2  0.0708\n",
       "3  0.0009\n",
       "4  0.0000"
      ]
     },
     "execution_count": 54,
     "metadata": {},
     "output_type": "execute_result"
    }
   ],
   "source": [
    "z = pd.DataFrame(np.random.random(5)**10, columns=['haha'])\n",
    "z.round(4)"
   ]
  },
  {
   "cell_type": "markdown",
   "id": "spread-nature",
   "metadata": {},
   "source": [
    "48. How to format all the values in a dataframe as percentages?"
   ]
  },
  {
   "cell_type": "code",
   "execution_count": 56,
   "id": "experienced-pilot",
   "metadata": {},
   "outputs": [
    {
     "data": {
      "text/html": [
       "<style  type=\"text/css\" >\n",
       "</style><table id=\"T_cd3e6_\" ><thead>    <tr>        <th class=\"blank level0\" ></th>        <th class=\"col_heading level0 col0\" >haha</th>    </tr></thead><tbody>\n",
       "                <tr>\n",
       "                        <th id=\"T_cd3e6_level0_row0\" class=\"row_heading level0 row0\" >0</th>\n",
       "                        <td id=\"T_cd3e6_row0_col0\" class=\"data row0 col0\" >14.54%</td>\n",
       "            </tr>\n",
       "            <tr>\n",
       "                        <th id=\"T_cd3e6_level0_row1\" class=\"row_heading level0 row1\" >1</th>\n",
       "                        <td id=\"T_cd3e6_row1_col0\" class=\"data row1 col0\" >11.85%</td>\n",
       "            </tr>\n",
       "            <tr>\n",
       "                        <th id=\"T_cd3e6_level0_row2\" class=\"row_heading level0 row2\" >2</th>\n",
       "                        <td id=\"T_cd3e6_row2_col0\" class=\"data row2 col0\" >1.22%</td>\n",
       "            </tr>\n",
       "            <tr>\n",
       "                        <th id=\"T_cd3e6_level0_row3\" class=\"row_heading level0 row3\" >3</th>\n",
       "                        <td id=\"T_cd3e6_row3_col0\" class=\"data row3 col0\" >59.51%</td>\n",
       "            </tr>\n",
       "    </tbody></table>"
      ],
      "text/plain": [
       "<pandas.io.formats.style.Styler at 0x7fd96048ee80>"
      ]
     },
     "execution_count": 56,
     "metadata": {},
     "output_type": "execute_result"
    }
   ],
   "source": [
    "df = pd.DataFrame(np.random.random(4), columns=['haha'])\n",
    "a = df.style.format({'haha': '{0:.2%}'.format,})\n",
    "a"
   ]
  },
  {
   "cell_type": "markdown",
   "id": "polar-patient",
   "metadata": {},
   "source": [
    "49. How to filter every nth row in a dataframe?"
   ]
  },
  {
   "cell_type": "code",
   "execution_count": 59,
   "id": "about-speaker",
   "metadata": {},
   "outputs": [
    {
     "name": "stdout",
     "output_type": "stream",
     "text": [
      "0      1\n",
      "20     5\n",
      "40     5\n",
      "60     1\n",
      "80     4\n",
      "      ..\n",
      "460    5\n",
      "480    5\n",
      "500    4\n",
      "520    1\n",
      "540    5\n",
      "Name: Ratings, Length: 28, dtype: int64\n"
     ]
    }
   ],
   "source": [
    "print(df.iloc[::20, :]['Ratings'])"
   ]
  },
  {
   "cell_type": "markdown",
   "id": "employed-skill",
   "metadata": {},
   "source": [
    "50. How to create a primary key index by combining relevant columns?"
   ]
  },
  {
   "cell_type": "code",
   "execution_count": 61,
   "id": "detailed-insider",
   "metadata": {},
   "outputs": [
    {
     "name": "stdout",
     "output_type": "stream",
     "text": [
      "True\n"
     ]
    }
   ],
   "source": [
    "dfc.columns\n",
    "dfc[['stars', 'reviews']] = dfc[['stars', 'reviews']].fillna('missing')\n",
    "dfc.index = dfc.stars + ' ' + dfc.reviews \n",
    "print(dfc.index.is_unique)"
   ]
  },
  {
   "cell_type": "markdown",
   "id": "functioning-gender",
   "metadata": {},
   "source": [
    "51. How to get the row number of the nth largest value in a column?"
   ]
  },
  {
   "cell_type": "code",
   "execution_count": 64,
   "id": "changed-trail",
   "metadata": {},
   "outputs": [
    {
     "data": {
      "text/plain": [
       "4"
      ]
     },
     "execution_count": 64,
     "metadata": {},
     "output_type": "execute_result"
    }
   ],
   "source": [
    "df = pd.DataFrame(np.random.randint(1, 50, 30).reshape(10,-1), columns=list('abc'))\n",
    "n = 5\n",
    "df['a'].argsort()[::-1][n]"
   ]
  },
  {
   "cell_type": "markdown",
   "id": "respective-homework",
   "metadata": {},
   "source": [
    "52. How to find the position of the nth largest value greater than a given value?"
   ]
  },
  {
   "cell_type": "code",
   "execution_count": 65,
   "id": "designed-sequence",
   "metadata": {},
   "outputs": [
    {
     "name": "stdout",
     "output_type": "stream",
     "text": [
      "s:  [89, 69, 32, 99, 42, 35, 72, 2, 86, 26, 12, 98, 50, 42, 20] mean:  52\n"
     ]
    }
   ],
   "source": [
    "s = pd.Series(np.random.randint(1, 100, 15))\n",
    "print('s: ', s.tolist(), 'mean: ', round(s.mean()))"
   ]
  },
  {
   "cell_type": "markdown",
   "id": "aerial-residence",
   "metadata": {},
   "source": [
    "53. How to get the last n rows of a dataframe with row sum > 100?"
   ]
  },
  {
   "cell_type": "code",
   "execution_count": 68,
   "id": "serious-exhibit",
   "metadata": {},
   "outputs": [
    {
     "data": {
      "text/html": [
       "<div>\n",
       "<style scoped>\n",
       "    .dataframe tbody tr th:only-of-type {\n",
       "        vertical-align: middle;\n",
       "    }\n",
       "\n",
       "    .dataframe tbody tr th {\n",
       "        vertical-align: top;\n",
       "    }\n",
       "\n",
       "    .dataframe thead th {\n",
       "        text-align: right;\n",
       "    }\n",
       "</style>\n",
       "<table border=\"1\" class=\"dataframe\">\n",
       "  <thead>\n",
       "    <tr style=\"text-align: right;\">\n",
       "      <th></th>\n",
       "      <th>0</th>\n",
       "      <th>1</th>\n",
       "      <th>2</th>\n",
       "    </tr>\n",
       "  </thead>\n",
       "  <tbody>\n",
       "    <tr>\n",
       "      <th>1</th>\n",
       "      <td>26</td>\n",
       "      <td>48</td>\n",
       "      <td>33</td>\n",
       "    </tr>\n",
       "    <tr>\n",
       "      <th>2</th>\n",
       "      <td>33</td>\n",
       "      <td>49</td>\n",
       "      <td>41</td>\n",
       "    </tr>\n",
       "  </tbody>\n",
       "</table>\n",
       "</div>"
      ],
      "text/plain": [
       "    0   1   2\n",
       "1  26  48  33\n",
       "2  33  49  41"
      ]
     },
     "execution_count": 68,
     "metadata": {},
     "output_type": "execute_result"
    }
   ],
   "source": [
    "df = pd.DataFrame(np.random.randint(1, 50, 30).reshape(10,-1))\n",
    "\n",
    "rs = df.apply(np.sum, axis=1)\n",
    "x = df.iloc[np.where(rs > 100)[0]]\n",
    "x"
   ]
  },
  {
   "cell_type": "markdown",
   "id": "lightweight-dominican",
   "metadata": {},
   "source": [
    "54. How to find and cap outliers from a series or dataframe column?"
   ]
  },
  {
   "cell_type": "code",
   "execution_count": 67,
   "id": "english-russell",
   "metadata": {},
   "outputs": [
    {
     "name": "stdout",
     "output_type": "stream",
     "text": [
      "0.05 %ile:  1.2000000000000002 | 0.95 %ile:  9.3\n"
     ]
    },
    {
     "data": {
      "text/plain": [
       "0     1.2\n",
       "1     1.2\n",
       "2     1.2\n",
       "3     1.2\n",
       "4     1.2\n",
       "     ... \n",
       "25    9.3\n",
       "26    9.3\n",
       "27    9.3\n",
       "28    9.3\n",
       "29    9.3\n",
       "Length: 30, dtype: float64"
      ]
     },
     "execution_count": 67,
     "metadata": {},
     "output_type": "execute_result"
    }
   ],
   "source": [
    "a = pd.Series(np.logspace(-2, 2, 30))\n",
    "\n",
    "# Solution\n",
    "def co(a, low_perc, high_perc):\n",
    "    low, high = ser.quantile([low_perc, high_perc])\n",
    "    print(low_perc, '%ile: ', low, '|', high_perc, '%ile: ', high)\n",
    "    a[a < low] = low\n",
    "    a[a > high] = high\n",
    "    return(a)\n",
    "x = co(a, .05, .95)\n",
    "x"
   ]
  },
  {
   "cell_type": "markdown",
   "id": "enormous-headquarters",
   "metadata": {},
   "source": [
    "55. How to reshape a dataframe to the largest possible square after removing the negative values?\n"
   ]
  },
  {
   "cell_type": "code",
   "execution_count": 71,
   "id": "transsexual-operator",
   "metadata": {},
   "outputs": [
    {
     "name": "stdout",
     "output_type": "stream",
     "text": [
      "    0   1   2   3   4   5   6   7   8   9\n",
      "0  30  18   3  43  41 -13  35 -18  18   5\n",
      "1  -7  -8  -9  46  39  32  35  29  -7  -7\n",
      "2 -11  26  41  -5  47   7  32  43  38  -8\n",
      "3  20  21  17   9   2  42 -18  26  14  -3\n",
      "4   9  26  16  12  39  32 -15  33  21  20\n",
      "5  38  -4  44   9  43  44  49 -12  34 -10\n",
      "6  18  36  -3  -2  12  45  -8   9  42  37\n",
      "7  10  21  17 -12  -7 -20 -20 -12  11 -17\n",
      "8  14   0  -4  37 -12   8  44  45  -9  16\n",
      "9 -18  27 -15   0   7  14  21 -16  16   4\n"
     ]
    },
    {
     "ename": "ValueError",
     "evalue": "cannot reshape array of size 25 into shape (8,newaxis)",
     "output_type": "error",
     "traceback": [
      "\u001b[0;31m---------------------------------------------------------------------------\u001b[0m",
      "\u001b[0;31mValueError\u001b[0m                                Traceback (most recent call last)",
      "\u001b[0;32m<ipython-input-71-0df97742bbd8>\u001b[0m in \u001b[0;36m<module>\u001b[0;34m\u001b[0m\n\u001b[1;32m      8\u001b[0m \u001b[0;34m\u001b[0m\u001b[0m\n\u001b[1;32m      9\u001b[0m \u001b[0my\u001b[0m \u001b[0;34m=\u001b[0m \u001b[0mnp\u001b[0m\u001b[0;34m.\u001b[0m\u001b[0margsort\u001b[0m\u001b[0;34m(\u001b[0m\u001b[0mcn\u001b[0m\u001b[0;34m)\u001b[0m\u001b[0;34m[\u001b[0m\u001b[0;34m:\u001b[0m\u001b[0;34m:\u001b[0m\u001b[0;34m-\u001b[0m\u001b[0;36m1\u001b[0m\u001b[0;34m]\u001b[0m\u001b[0;34m\u001b[0m\u001b[0;34m\u001b[0m\u001b[0m\n\u001b[0;32m---> 10\u001b[0;31m \u001b[0mz\u001b[0m \u001b[0;34m=\u001b[0m \u001b[0mnp\u001b[0m\u001b[0;34m.\u001b[0m\u001b[0mtake\u001b[0m\u001b[0;34m(\u001b[0m\u001b[0mcn\u001b[0m\u001b[0;34m,\u001b[0m \u001b[0msorted\u001b[0m\u001b[0;34m(\u001b[0m\u001b[0my\u001b[0m\u001b[0;34m[\u001b[0m\u001b[0;34m:\u001b[0m\u001b[0mn\u001b[0m\u001b[0;34m**\u001b[0m\u001b[0;36m2\u001b[0m\u001b[0;34m]\u001b[0m\u001b[0;34m)\u001b[0m\u001b[0;34m)\u001b[0m\u001b[0;34m.\u001b[0m\u001b[0mreshape\u001b[0m\u001b[0;34m(\u001b[0m\u001b[0mx\u001b[0m\u001b[0;34m,\u001b[0m \u001b[0;34m-\u001b[0m\u001b[0;36m1\u001b[0m\u001b[0;34m)\u001b[0m\u001b[0;34m\u001b[0m\u001b[0;34m\u001b[0m\u001b[0m\n\u001b[0m\u001b[1;32m     11\u001b[0m \u001b[0mz\u001b[0m\u001b[0;34m\u001b[0m\u001b[0;34m\u001b[0m\u001b[0m\n",
      "\u001b[0;31mValueError\u001b[0m: cannot reshape array of size 25 into shape (8,newaxis)"
     ]
    }
   ],
   "source": [
    "df = pd.DataFrame(np.random.randint(-20, 50, 100).reshape(10,-1))\n",
    "print(df)\n",
    "cn = df[df > 0].values.flatten()\n",
    "cn = cn[~np.isnan(cn)]\n",
    "x = int(np.floor(cn.shape[0]**.5))\n",
    "y = np.argsort(cn)[::-1]\n",
    "z = np.take(cn, sorted(y[:n**2])).reshape(x, -1)\n",
    "z"
   ]
  },
  {
   "cell_type": "markdown",
   "id": "supreme-standing",
   "metadata": {},
   "source": [
    "56. How to swap two rows of a dataframe?"
   ]
  },
  {
   "cell_type": "code",
   "execution_count": 73,
   "id": "junior-probe",
   "metadata": {},
   "outputs": [
    {
     "data": {
      "text/html": [
       "<div>\n",
       "<style scoped>\n",
       "    .dataframe tbody tr th:only-of-type {\n",
       "        vertical-align: middle;\n",
       "    }\n",
       "\n",
       "    .dataframe tbody tr th {\n",
       "        vertical-align: top;\n",
       "    }\n",
       "\n",
       "    .dataframe thead th {\n",
       "        text-align: right;\n",
       "    }\n",
       "</style>\n",
       "<table border=\"1\" class=\"dataframe\">\n",
       "  <thead>\n",
       "    <tr style=\"text-align: right;\">\n",
       "      <th></th>\n",
       "      <th>0</th>\n",
       "      <th>1</th>\n",
       "      <th>2</th>\n",
       "      <th>3</th>\n",
       "      <th>4</th>\n",
       "    </tr>\n",
       "  </thead>\n",
       "  <tbody>\n",
       "    <tr>\n",
       "      <th>0</th>\n",
       "      <td>0</td>\n",
       "      <td>2</td>\n",
       "      <td>1</td>\n",
       "      <td>3</td>\n",
       "      <td>4</td>\n",
       "    </tr>\n",
       "    <tr>\n",
       "      <th>1</th>\n",
       "      <td>5</td>\n",
       "      <td>7</td>\n",
       "      <td>6</td>\n",
       "      <td>8</td>\n",
       "      <td>9</td>\n",
       "    </tr>\n",
       "    <tr>\n",
       "      <th>2</th>\n",
       "      <td>10</td>\n",
       "      <td>12</td>\n",
       "      <td>11</td>\n",
       "      <td>13</td>\n",
       "      <td>14</td>\n",
       "    </tr>\n",
       "    <tr>\n",
       "      <th>3</th>\n",
       "      <td>15</td>\n",
       "      <td>17</td>\n",
       "      <td>16</td>\n",
       "      <td>18</td>\n",
       "      <td>19</td>\n",
       "    </tr>\n",
       "    <tr>\n",
       "      <th>4</th>\n",
       "      <td>20</td>\n",
       "      <td>22</td>\n",
       "      <td>21</td>\n",
       "      <td>23</td>\n",
       "      <td>24</td>\n",
       "    </tr>\n",
       "  </tbody>\n",
       "</table>\n",
       "</div>"
      ],
      "text/plain": [
       "    0   1   2   3   4\n",
       "0   0   2   1   3   4\n",
       "1   5   7   6   8   9\n",
       "2  10  12  11  13  14\n",
       "3  15  17  16  18  19\n",
       "4  20  22  21  23  24"
      ]
     },
     "execution_count": 73,
     "metadata": {},
     "output_type": "execute_result"
    }
   ],
   "source": [
    "df = pd.DataFrame(np.arange(25).reshape(5, -1))\n",
    "col = df[1].copy(deep = True)\n",
    "df[1], df[2] = df[2], col\n",
    "df"
   ]
  },
  {
   "cell_type": "markdown",
   "id": "exempt-source",
   "metadata": {},
   "source": [
    "57. How to reverse the rows of a dataframe?"
   ]
  },
  {
   "cell_type": "code",
   "execution_count": 74,
   "id": "associate-garbage",
   "metadata": {},
   "outputs": [
    {
     "data": {
      "text/html": [
       "<div>\n",
       "<style scoped>\n",
       "    .dataframe tbody tr th:only-of-type {\n",
       "        vertical-align: middle;\n",
       "    }\n",
       "\n",
       "    .dataframe tbody tr th {\n",
       "        vertical-align: top;\n",
       "    }\n",
       "\n",
       "    .dataframe thead th {\n",
       "        text-align: right;\n",
       "    }\n",
       "</style>\n",
       "<table border=\"1\" class=\"dataframe\">\n",
       "  <thead>\n",
       "    <tr style=\"text-align: right;\">\n",
       "      <th></th>\n",
       "      <th>0</th>\n",
       "      <th>1</th>\n",
       "      <th>2</th>\n",
       "      <th>3</th>\n",
       "      <th>4</th>\n",
       "    </tr>\n",
       "  </thead>\n",
       "  <tbody>\n",
       "    <tr>\n",
       "      <th>4</th>\n",
       "      <td>20</td>\n",
       "      <td>22</td>\n",
       "      <td>21</td>\n",
       "      <td>23</td>\n",
       "      <td>24</td>\n",
       "    </tr>\n",
       "    <tr>\n",
       "      <th>3</th>\n",
       "      <td>15</td>\n",
       "      <td>17</td>\n",
       "      <td>16</td>\n",
       "      <td>18</td>\n",
       "      <td>19</td>\n",
       "    </tr>\n",
       "    <tr>\n",
       "      <th>2</th>\n",
       "      <td>10</td>\n",
       "      <td>12</td>\n",
       "      <td>11</td>\n",
       "      <td>13</td>\n",
       "      <td>14</td>\n",
       "    </tr>\n",
       "    <tr>\n",
       "      <th>1</th>\n",
       "      <td>5</td>\n",
       "      <td>7</td>\n",
       "      <td>6</td>\n",
       "      <td>8</td>\n",
       "      <td>9</td>\n",
       "    </tr>\n",
       "    <tr>\n",
       "      <th>0</th>\n",
       "      <td>0</td>\n",
       "      <td>2</td>\n",
       "      <td>1</td>\n",
       "      <td>3</td>\n",
       "      <td>4</td>\n",
       "    </tr>\n",
       "  </tbody>\n",
       "</table>\n",
       "</div>"
      ],
      "text/plain": [
       "    0   1   2   3   4\n",
       "4  20  22  21  23  24\n",
       "3  15  17  16  18  19\n",
       "2  10  12  11  13  14\n",
       "1   5   7   6   8   9\n",
       "0   0   2   1   3   4"
      ]
     },
     "execution_count": 74,
     "metadata": {},
     "output_type": "execute_result"
    }
   ],
   "source": [
    "df.iloc[::-1, :]"
   ]
  },
  {
   "cell_type": "markdown",
   "id": "suburban-talent",
   "metadata": {},
   "source": [
    "58. How to create one-hot encodings of a categorical variable (dummy variables)?"
   ]
  },
  {
   "cell_type": "code",
   "execution_count": 79,
   "id": "greenhouse-netherlands",
   "metadata": {},
   "outputs": [
    {
     "data": {
      "text/html": [
       "<div>\n",
       "<style scoped>\n",
       "    .dataframe tbody tr th:only-of-type {\n",
       "        vertical-align: middle;\n",
       "    }\n",
       "\n",
       "    .dataframe tbody tr th {\n",
       "        vertical-align: top;\n",
       "    }\n",
       "\n",
       "    .dataframe thead th {\n",
       "        text-align: right;\n",
       "    }\n",
       "</style>\n",
       "<table border=\"1\" class=\"dataframe\">\n",
       "  <thead>\n",
       "    <tr style=\"text-align: right;\">\n",
       "      <th></th>\n",
       "      <th>0</th>\n",
       "      <th>5</th>\n",
       "      <th>10</th>\n",
       "      <th>15</th>\n",
       "      <th>20</th>\n",
       "      <th>a</th>\n",
       "      <th>s</th>\n",
       "      <th>d</th>\n",
       "      <th>f</th>\n",
       "      <th>g</th>\n",
       "    </tr>\n",
       "  </thead>\n",
       "  <tbody>\n",
       "    <tr>\n",
       "      <th>0</th>\n",
       "      <td>1</td>\n",
       "      <td>0</td>\n",
       "      <td>0</td>\n",
       "      <td>0</td>\n",
       "      <td>0</td>\n",
       "      <td>0</td>\n",
       "      <td>1</td>\n",
       "      <td>2</td>\n",
       "      <td>3</td>\n",
       "      <td>4</td>\n",
       "    </tr>\n",
       "    <tr>\n",
       "      <th>1</th>\n",
       "      <td>0</td>\n",
       "      <td>1</td>\n",
       "      <td>0</td>\n",
       "      <td>0</td>\n",
       "      <td>0</td>\n",
       "      <td>5</td>\n",
       "      <td>6</td>\n",
       "      <td>7</td>\n",
       "      <td>8</td>\n",
       "      <td>9</td>\n",
       "    </tr>\n",
       "    <tr>\n",
       "      <th>2</th>\n",
       "      <td>0</td>\n",
       "      <td>0</td>\n",
       "      <td>1</td>\n",
       "      <td>0</td>\n",
       "      <td>0</td>\n",
       "      <td>10</td>\n",
       "      <td>11</td>\n",
       "      <td>12</td>\n",
       "      <td>13</td>\n",
       "      <td>14</td>\n",
       "    </tr>\n",
       "    <tr>\n",
       "      <th>3</th>\n",
       "      <td>0</td>\n",
       "      <td>0</td>\n",
       "      <td>0</td>\n",
       "      <td>1</td>\n",
       "      <td>0</td>\n",
       "      <td>15</td>\n",
       "      <td>16</td>\n",
       "      <td>17</td>\n",
       "      <td>18</td>\n",
       "      <td>19</td>\n",
       "    </tr>\n",
       "    <tr>\n",
       "      <th>4</th>\n",
       "      <td>0</td>\n",
       "      <td>0</td>\n",
       "      <td>0</td>\n",
       "      <td>0</td>\n",
       "      <td>1</td>\n",
       "      <td>20</td>\n",
       "      <td>21</td>\n",
       "      <td>22</td>\n",
       "      <td>23</td>\n",
       "      <td>24</td>\n",
       "    </tr>\n",
       "  </tbody>\n",
       "</table>\n",
       "</div>"
      ],
      "text/plain": [
       "   0  5  10  15  20   a   s   d   f   g\n",
       "0  1  0   0   0   0   0   1   2   3   4\n",
       "1  0  1   0   0   0   5   6   7   8   9\n",
       "2  0  0   1   0   0  10  11  12  13  14\n",
       "3  0  0   0   1   0  15  16  17  18  19\n",
       "4  0  0   0   0   1  20  21  22  23  24"
      ]
     },
     "execution_count": 79,
     "metadata": {},
     "output_type": "execute_result"
    }
   ],
   "source": [
    "df = pd.DataFrame(np.arange(25).reshape(5,-1), columns=list('asdfg'))\n",
    "dummies = pd.get_dummies(df[\"a\"])\n",
    "df = pd.concat([dummies, df], axis = 1)\n",
    "df"
   ]
  },
  {
   "cell_type": "markdown",
   "id": "ongoing-robert",
   "metadata": {},
   "source": [
    "59. Which column contains the highest number of row-wise maximum values?"
   ]
  },
  {
   "cell_type": "code",
   "execution_count": 77,
   "id": "preceding-kennedy",
   "metadata": {},
   "outputs": [
    {
     "name": "stdout",
     "output_type": "stream",
     "text": [
      "    0   1   2   3\n",
      "0   3  81  48  52\n",
      "1  98  45  55  79\n",
      "2   9  16  15  59\n",
      "3  48  17  36  64\n",
      "4  20  64  81  29\n",
      "5  19  30  31  39\n",
      "6  54  25  13   3\n",
      "7  34  77  60  60\n",
      "8   2  54  39  22\n",
      "9  39  32  29  51\n"
     ]
    },
    {
     "data": {
      "text/plain": [
       "3"
      ]
     },
     "execution_count": 77,
     "metadata": {},
     "output_type": "execute_result"
    }
   ],
   "source": [
    "df = pd.DataFrame(np.random.randint(1,100, 40).reshape(10, -1))\n",
    "print(df)\n",
    "df.apply(np.argmax, axis=1).value_counts().index[0]"
   ]
  },
  {
   "cell_type": "markdown",
   "id": "negative-reward",
   "metadata": {},
   "source": [
    "60. How to create a new column that contains the row number of nearest column by euclidean\n",
    "distance?\n"
   ]
  },
  {
   "cell_type": "code",
   "execution_count": 81,
   "id": "other-relevance",
   "metadata": {},
   "outputs": [
    {
     "data": {
      "text/html": [
       "<div>\n",
       "<style scoped>\n",
       "    .dataframe tbody tr th:only-of-type {\n",
       "        vertical-align: middle;\n",
       "    }\n",
       "\n",
       "    .dataframe tbody tr th {\n",
       "        vertical-align: top;\n",
       "    }\n",
       "\n",
       "    .dataframe thead th {\n",
       "        text-align: right;\n",
       "    }\n",
       "</style>\n",
       "<table border=\"1\" class=\"dataframe\">\n",
       "  <thead>\n",
       "    <tr style=\"text-align: right;\">\n",
       "      <th></th>\n",
       "      <th>p</th>\n",
       "      <th>q</th>\n",
       "      <th>r</th>\n",
       "      <th>s</th>\n",
       "    </tr>\n",
       "  </thead>\n",
       "  <tbody>\n",
       "    <tr>\n",
       "      <th>a</th>\n",
       "      <td>27</td>\n",
       "      <td>30</td>\n",
       "      <td>31</td>\n",
       "      <td>1</td>\n",
       "    </tr>\n",
       "    <tr>\n",
       "      <th>b</th>\n",
       "      <td>12</td>\n",
       "      <td>10</td>\n",
       "      <td>42</td>\n",
       "      <td>65</td>\n",
       "    </tr>\n",
       "    <tr>\n",
       "      <th>c</th>\n",
       "      <td>82</td>\n",
       "      <td>32</td>\n",
       "      <td>22</td>\n",
       "      <td>61</td>\n",
       "    </tr>\n",
       "    <tr>\n",
       "      <th>d</th>\n",
       "      <td>94</td>\n",
       "      <td>28</td>\n",
       "      <td>33</td>\n",
       "      <td>64</td>\n",
       "    </tr>\n",
       "    <tr>\n",
       "      <th>e</th>\n",
       "      <td>77</td>\n",
       "      <td>92</td>\n",
       "      <td>1</td>\n",
       "      <td>99</td>\n",
       "    </tr>\n",
       "    <tr>\n",
       "      <th>f</th>\n",
       "      <td>72</td>\n",
       "      <td>52</td>\n",
       "      <td>53</td>\n",
       "      <td>35</td>\n",
       "    </tr>\n",
       "    <tr>\n",
       "      <th>g</th>\n",
       "      <td>87</td>\n",
       "      <td>93</td>\n",
       "      <td>57</td>\n",
       "      <td>51</td>\n",
       "    </tr>\n",
       "    <tr>\n",
       "      <th>h</th>\n",
       "      <td>7</td>\n",
       "      <td>10</td>\n",
       "      <td>46</td>\n",
       "      <td>70</td>\n",
       "    </tr>\n",
       "    <tr>\n",
       "      <th>i</th>\n",
       "      <td>65</td>\n",
       "      <td>85</td>\n",
       "      <td>25</td>\n",
       "      <td>69</td>\n",
       "    </tr>\n",
       "    <tr>\n",
       "      <th>j</th>\n",
       "      <td>69</td>\n",
       "      <td>42</td>\n",
       "      <td>70</td>\n",
       "      <td>36</td>\n",
       "    </tr>\n",
       "  </tbody>\n",
       "</table>\n",
       "</div>"
      ],
      "text/plain": [
       "    p   q   r   s\n",
       "a  27  30  31   1\n",
       "b  12  10  42  65\n",
       "c  82  32  22  61\n",
       "d  94  28  33  64\n",
       "e  77  92   1  99\n",
       "f  72  52  53  35\n",
       "g  87  93  57  51\n",
       "h   7  10  46  70\n",
       "i  65  85  25  69\n",
       "j  69  42  70  36"
      ]
     },
     "execution_count": 81,
     "metadata": {},
     "output_type": "execute_result"
    }
   ],
   "source": [
    "df = pd.DataFrame(np.random.randint(1,100, 40).reshape(10, -1), columns=list('pqrs'), index=list('abcdefghij'))\n",
    "df = pd.DataFrame(np.random.randint(1,100, 40).reshape(10, -1), columns=list('pqrs'), index=list('abcdefghij'))\n",
    "\n",
    "# place holders\n",
    "corr_list = []\n",
    "index_list = []\n",
    "\n",
    "# temporary var\n",
    "max_corr = 0\n",
    "current_index = \"\"\n",
    "\n",
    "# nested loop to calculate\n",
    "for i in range(len(df)):\n",
    "    for j in range(len(df)):\n",
    "        if i == j:\n",
    "            pass\n",
    "        else:\n",
    "            # distance\n",
    "            curr_corr = sum((df.iloc[i] - df.iloc[j])**2)**.5\n",
    "            # correlation\n",
    "            #curr_corr = df.iloc[i].corr(df.iloc[j])\n",
    "            if curr_corr >= max_corr:\n",
    "                max_corr = curr_corr\n",
    "                current_index = list(df.index)[j]\n",
    "                \n",
    "    corr_list.append(max_corr)\n",
    "    index_list.append(current_index)\n",
    "    \n",
    "    max_corr = 0\n",
    "    current_index = \"\"\n",
    "    \n",
    "df[\"nearest_row\"] = index_list\n",
    "df[\"dist\"] = corr_list\n",
    "df\n",
    "df.drop([\"nearest_row\", \"dist\"], axis = 1, inplace = True)\n",
    "df"
   ]
  },
  {
   "cell_type": "markdown",
   "id": "known-graduation",
   "metadata": {},
   "source": [
    "61. How to know the maximum possible correlation value of each column against other columns?"
   ]
  },
  {
   "cell_type": "code",
   "execution_count": 82,
   "id": "turkish-steel",
   "metadata": {},
   "outputs": [
    {
     "data": {
      "text/plain": [
       "p    0.610191\n",
       "q    0.675312\n",
       "r    0.816756\n",
       "s    0.783652\n",
       "t    0.783652\n",
       "u    0.468506\n",
       "v    0.698496\n",
       "w    0.779670\n",
       "x    0.698496\n",
       "y    0.816756\n",
       "dtype: float64"
      ]
     },
     "execution_count": 82,
     "metadata": {},
     "output_type": "execute_result"
    }
   ],
   "source": [
    "df = pd.DataFrame(np.random.randint(1,100, 80).reshape(8, -1), \n",
    "                  columns=list('pqrstuvwxy'), index=list('abcdefgh'))\n",
    "df_corr = np.abs(df.corr())\n",
    "a = df_corr.apply(lambda x: sorted(x)[-2], axis = 0)\n",
    "a"
   ]
  },
  {
   "cell_type": "markdown",
   "id": "greenhouse-philip",
   "metadata": {},
   "source": [
    "62. How to create a column containing the minimum by maximum of each row?\n"
   ]
  },
  {
   "cell_type": "code",
   "execution_count": 83,
   "id": "meaningful-situation",
   "metadata": {},
   "outputs": [
    {
     "data": {
      "text/plain": [
       "0    0.168421\n",
       "1    0.010638\n",
       "2    0.064935\n",
       "3    0.021505\n",
       "4    0.011628\n",
       "5    0.170455\n",
       "6    0.119565\n",
       "7    0.038462\n",
       "dtype: float64"
      ]
     },
     "execution_count": 83,
     "metadata": {},
     "output_type": "execute_result"
    }
   ],
   "source": [
    "df = pd.DataFrame(np.random.randint(1,100, 80).reshape(8, -1))\n",
    "np.min(df, axis=1)/np.max(df, axis=1)"
   ]
  },
  {
   "cell_type": "markdown",
   "id": "annoying-butler",
   "metadata": {},
   "source": [
    "63. How to create a column that contains the penultimate value in each row?"
   ]
  },
  {
   "cell_type": "code",
   "execution_count": 84,
   "id": "handmade-tumor",
   "metadata": {},
   "outputs": [
    {
     "name": "stdout",
     "output_type": "stream",
     "text": [
      "    0   1   2   3   4  ...   6   7   8   9  penultimate value\n",
      "0   2  23  40  94  30  ...  51  68  67  52                 68\n",
      "1  35  35  71  81  43  ...  76  27  79  77                 79\n",
      "2  91  58  80  20  23  ...  18  19  59   2                 80\n",
      "3  85  17  36  50  54  ...  82  96  77  59                 85\n",
      "4  81  68  82  65  45  ...  54  32  49  32                 81\n",
      "5  90  28  33  88  78  ...  48  16  32  42                 88\n",
      "6  23  18  93  55  38  ...  80  92  22  82                 92\n",
      "7  25  47  62  35  66  ...  73   8  88  23                 73\n",
      "\n",
      "[8 rows x 11 columns]\n"
     ]
    }
   ],
   "source": [
    "df = pd.DataFrame(np.random.randint(1,100, 80).reshape(8, -1))\n",
    "x = df.apply(lambda x: x.sort_values().unique()[-2], axis=1)\n",
    "df['penultimate value'] = x\n",
    "print(df)"
   ]
  },
  {
   "cell_type": "markdown",
   "id": "incorrect-pierce",
   "metadata": {},
   "source": [
    "64. How to normalize all columns in a dataframe?"
   ]
  },
  {
   "cell_type": "code",
   "execution_count": 85,
   "id": "pursuant-criminal",
   "metadata": {},
   "outputs": [
    {
     "data": {
      "text/html": [
       "<div>\n",
       "<style scoped>\n",
       "    .dataframe tbody tr th:only-of-type {\n",
       "        vertical-align: middle;\n",
       "    }\n",
       "\n",
       "    .dataframe tbody tr th {\n",
       "        vertical-align: top;\n",
       "    }\n",
       "\n",
       "    .dataframe thead th {\n",
       "        text-align: right;\n",
       "    }\n",
       "</style>\n",
       "<table border=\"1\" class=\"dataframe\">\n",
       "  <thead>\n",
       "    <tr style=\"text-align: right;\">\n",
       "      <th></th>\n",
       "      <th>0</th>\n",
       "      <th>1</th>\n",
       "      <th>2</th>\n",
       "      <th>3</th>\n",
       "      <th>4</th>\n",
       "      <th>5</th>\n",
       "      <th>6</th>\n",
       "      <th>7</th>\n",
       "      <th>8</th>\n",
       "      <th>9</th>\n",
       "    </tr>\n",
       "  </thead>\n",
       "  <tbody>\n",
       "    <tr>\n",
       "      <th>0</th>\n",
       "      <td>-0.38</td>\n",
       "      <td>0.24</td>\n",
       "      <td>1.30</td>\n",
       "      <td>-0.47</td>\n",
       "      <td>0.73</td>\n",
       "      <td>-0.21</td>\n",
       "      <td>-1.32</td>\n",
       "      <td>0.57</td>\n",
       "      <td>-0.63</td>\n",
       "      <td>-0.45</td>\n",
       "    </tr>\n",
       "    <tr>\n",
       "      <th>1</th>\n",
       "      <td>0.26</td>\n",
       "      <td>-1.73</td>\n",
       "      <td>-0.53</td>\n",
       "      <td>-0.94</td>\n",
       "      <td>-0.10</td>\n",
       "      <td>-0.42</td>\n",
       "      <td>0.51</td>\n",
       "      <td>0.61</td>\n",
       "      <td>-0.03</td>\n",
       "      <td>0.60</td>\n",
       "    </tr>\n",
       "    <tr>\n",
       "      <th>2</th>\n",
       "      <td>-1.30</td>\n",
       "      <td>-0.15</td>\n",
       "      <td>-0.30</td>\n",
       "      <td>-0.76</td>\n",
       "      <td>-0.57</td>\n",
       "      <td>1.80</td>\n",
       "      <td>0.17</td>\n",
       "      <td>1.74</td>\n",
       "      <td>-0.89</td>\n",
       "      <td>-0.53</td>\n",
       "    </tr>\n",
       "    <tr>\n",
       "      <th>3</th>\n",
       "      <td>0.84</td>\n",
       "      <td>0.35</td>\n",
       "      <td>0.14</td>\n",
       "      <td>1.15</td>\n",
       "      <td>-1.15</td>\n",
       "      <td>-0.26</td>\n",
       "      <td>-1.41</td>\n",
       "      <td>0.49</td>\n",
       "      <td>0.60</td>\n",
       "      <td>1.80</td>\n",
       "    </tr>\n",
       "    <tr>\n",
       "      <th>4</th>\n",
       "      <td>0.94</td>\n",
       "      <td>1.28</td>\n",
       "      <td>-0.76</td>\n",
       "      <td>-1.05</td>\n",
       "      <td>-0.90</td>\n",
       "      <td>-0.37</td>\n",
       "      <td>0.67</td>\n",
       "      <td>-0.88</td>\n",
       "      <td>-1.12</td>\n",
       "      <td>-0.96</td>\n",
       "    </tr>\n",
       "    <tr>\n",
       "      <th>5</th>\n",
       "      <td>-1.35</td>\n",
       "      <td>0.92</td>\n",
       "      <td>0.50</td>\n",
       "      <td>-0.22</td>\n",
       "      <td>0.06</td>\n",
       "      <td>1.00</td>\n",
       "      <td>0.96</td>\n",
       "      <td>-0.65</td>\n",
       "      <td>1.26</td>\n",
       "      <td>0.71</td>\n",
       "    </tr>\n",
       "    <tr>\n",
       "      <th>6</th>\n",
       "      <td>-0.28</td>\n",
       "      <td>0.21</td>\n",
       "      <td>1.24</td>\n",
       "      <td>1.47</td>\n",
       "      <td>-0.06</td>\n",
       "      <td>-1.53</td>\n",
       "      <td>1.08</td>\n",
       "      <td>-1.12</td>\n",
       "      <td>1.47</td>\n",
       "      <td>0.05</td>\n",
       "    </tr>\n",
       "    <tr>\n",
       "      <th>7</th>\n",
       "      <td>1.28</td>\n",
       "      <td>-1.12</td>\n",
       "      <td>-1.60</td>\n",
       "      <td>0.82</td>\n",
       "      <td>1.99</td>\n",
       "      <td>-0.01</td>\n",
       "      <td>-0.66</td>\n",
       "      <td>-0.76</td>\n",
       "      <td>-0.66</td>\n",
       "      <td>-1.23</td>\n",
       "    </tr>\n",
       "  </tbody>\n",
       "</table>\n",
       "</div>"
      ],
      "text/plain": [
       "      0     1     2     3     4     5     6     7     8     9\n",
       "0 -0.38  0.24  1.30 -0.47  0.73 -0.21 -1.32  0.57 -0.63 -0.45\n",
       "1  0.26 -1.73 -0.53 -0.94 -0.10 -0.42  0.51  0.61 -0.03  0.60\n",
       "2 -1.30 -0.15 -0.30 -0.76 -0.57  1.80  0.17  1.74 -0.89 -0.53\n",
       "3  0.84  0.35  0.14  1.15 -1.15 -0.26 -1.41  0.49  0.60  1.80\n",
       "4  0.94  1.28 -0.76 -1.05 -0.90 -0.37  0.67 -0.88 -1.12 -0.96\n",
       "5 -1.35  0.92  0.50 -0.22  0.06  1.00  0.96 -0.65  1.26  0.71\n",
       "6 -0.28  0.21  1.24  1.47 -0.06 -1.53  1.08 -1.12  1.47  0.05\n",
       "7  1.28 -1.12 -1.60  0.82  1.99 -0.01 -0.66 -0.76 -0.66 -1.23"
      ]
     },
     "execution_count": 85,
     "metadata": {},
     "output_type": "execute_result"
    }
   ],
   "source": [
    "df = pd.DataFrame(np.random.randint(1,100, 80).reshape(8, -1))\n",
    "df.apply(lambda x: ((x - x.mean())/x.std()).round(2))"
   ]
  },
  {
   "cell_type": "markdown",
   "id": "fresh-execution",
   "metadata": {},
   "source": [
    "65. How to compute the correlation of each row with the succeeding row?"
   ]
  },
  {
   "cell_type": "code",
   "execution_count": 86,
   "id": "perfect-crazy",
   "metadata": {},
   "outputs": [
    {
     "data": {
      "text/plain": [
       "[-0.21, 0.05, 0.13, 0.24, -0.35, -0.27, 0.34]"
      ]
     },
     "execution_count": 86,
     "metadata": {},
     "output_type": "execute_result"
    }
   ],
   "source": [
    "df = pd.DataFrame(np.random.randint(1,100, 80).reshape(8, -1))\n",
    "[df.iloc[i].corr(df.iloc[i+1]).round(2) for i in range(df.shape[0])[:-1]]"
   ]
  },
  {
   "cell_type": "markdown",
   "id": "senior-cathedral",
   "metadata": {},
   "source": [
    "66. How to replace both the diagonals of dataframe with 0?\n"
   ]
  },
  {
   "cell_type": "code",
   "execution_count": 87,
   "id": "exceptional-microphone",
   "metadata": {},
   "outputs": [
    {
     "data": {
      "text/html": [
       "<div>\n",
       "<style scoped>\n",
       "    .dataframe tbody tr th:only-of-type {\n",
       "        vertical-align: middle;\n",
       "    }\n",
       "\n",
       "    .dataframe tbody tr th {\n",
       "        vertical-align: top;\n",
       "    }\n",
       "\n",
       "    .dataframe thead th {\n",
       "        text-align: right;\n",
       "    }\n",
       "</style>\n",
       "<table border=\"1\" class=\"dataframe\">\n",
       "  <thead>\n",
       "    <tr style=\"text-align: right;\">\n",
       "      <th></th>\n",
       "      <th>0</th>\n",
       "      <th>1</th>\n",
       "      <th>2</th>\n",
       "      <th>3</th>\n",
       "      <th>4</th>\n",
       "      <th>5</th>\n",
       "      <th>6</th>\n",
       "      <th>7</th>\n",
       "      <th>8</th>\n",
       "      <th>9</th>\n",
       "    </tr>\n",
       "  </thead>\n",
       "  <tbody>\n",
       "    <tr>\n",
       "      <th>0</th>\n",
       "      <td>0</td>\n",
       "      <td>57</td>\n",
       "      <td>79</td>\n",
       "      <td>44</td>\n",
       "      <td>62</td>\n",
       "      <td>51</td>\n",
       "      <td>73</td>\n",
       "      <td>7</td>\n",
       "      <td>61</td>\n",
       "      <td>0</td>\n",
       "    </tr>\n",
       "    <tr>\n",
       "      <th>1</th>\n",
       "      <td>59</td>\n",
       "      <td>0</td>\n",
       "      <td>40</td>\n",
       "      <td>99</td>\n",
       "      <td>65</td>\n",
       "      <td>32</td>\n",
       "      <td>60</td>\n",
       "      <td>16</td>\n",
       "      <td>0</td>\n",
       "      <td>98</td>\n",
       "    </tr>\n",
       "    <tr>\n",
       "      <th>2</th>\n",
       "      <td>28</td>\n",
       "      <td>6</td>\n",
       "      <td>0</td>\n",
       "      <td>41</td>\n",
       "      <td>63</td>\n",
       "      <td>50</td>\n",
       "      <td>62</td>\n",
       "      <td>0</td>\n",
       "      <td>23</td>\n",
       "      <td>92</td>\n",
       "    </tr>\n",
       "    <tr>\n",
       "      <th>3</th>\n",
       "      <td>92</td>\n",
       "      <td>94</td>\n",
       "      <td>99</td>\n",
       "      <td>0</td>\n",
       "      <td>83</td>\n",
       "      <td>5</td>\n",
       "      <td>0</td>\n",
       "      <td>81</td>\n",
       "      <td>60</td>\n",
       "      <td>52</td>\n",
       "    </tr>\n",
       "    <tr>\n",
       "      <th>4</th>\n",
       "      <td>95</td>\n",
       "      <td>9</td>\n",
       "      <td>89</td>\n",
       "      <td>71</td>\n",
       "      <td>0</td>\n",
       "      <td>0</td>\n",
       "      <td>9</td>\n",
       "      <td>92</td>\n",
       "      <td>13</td>\n",
       "      <td>93</td>\n",
       "    </tr>\n",
       "    <tr>\n",
       "      <th>5</th>\n",
       "      <td>62</td>\n",
       "      <td>41</td>\n",
       "      <td>87</td>\n",
       "      <td>84</td>\n",
       "      <td>0</td>\n",
       "      <td>0</td>\n",
       "      <td>39</td>\n",
       "      <td>95</td>\n",
       "      <td>59</td>\n",
       "      <td>87</td>\n",
       "    </tr>\n",
       "    <tr>\n",
       "      <th>6</th>\n",
       "      <td>59</td>\n",
       "      <td>74</td>\n",
       "      <td>87</td>\n",
       "      <td>0</td>\n",
       "      <td>24</td>\n",
       "      <td>20</td>\n",
       "      <td>0</td>\n",
       "      <td>27</td>\n",
       "      <td>99</td>\n",
       "      <td>28</td>\n",
       "    </tr>\n",
       "    <tr>\n",
       "      <th>7</th>\n",
       "      <td>46</td>\n",
       "      <td>75</td>\n",
       "      <td>0</td>\n",
       "      <td>36</td>\n",
       "      <td>50</td>\n",
       "      <td>74</td>\n",
       "      <td>51</td>\n",
       "      <td>0</td>\n",
       "      <td>88</td>\n",
       "      <td>21</td>\n",
       "    </tr>\n",
       "    <tr>\n",
       "      <th>8</th>\n",
       "      <td>93</td>\n",
       "      <td>0</td>\n",
       "      <td>16</td>\n",
       "      <td>27</td>\n",
       "      <td>25</td>\n",
       "      <td>68</td>\n",
       "      <td>16</td>\n",
       "      <td>41</td>\n",
       "      <td>0</td>\n",
       "      <td>7</td>\n",
       "    </tr>\n",
       "    <tr>\n",
       "      <th>9</th>\n",
       "      <td>0</td>\n",
       "      <td>91</td>\n",
       "      <td>26</td>\n",
       "      <td>62</td>\n",
       "      <td>58</td>\n",
       "      <td>15</td>\n",
       "      <td>19</td>\n",
       "      <td>1</td>\n",
       "      <td>39</td>\n",
       "      <td>0</td>\n",
       "    </tr>\n",
       "  </tbody>\n",
       "</table>\n",
       "</div>"
      ],
      "text/plain": [
       "    0   1   2   3   4   5   6   7   8   9\n",
       "0   0  57  79  44  62  51  73   7  61   0\n",
       "1  59   0  40  99  65  32  60  16   0  98\n",
       "2  28   6   0  41  63  50  62   0  23  92\n",
       "3  92  94  99   0  83   5   0  81  60  52\n",
       "4  95   9  89  71   0   0   9  92  13  93\n",
       "5  62  41  87  84   0   0  39  95  59  87\n",
       "6  59  74  87   0  24  20   0  27  99  28\n",
       "7  46  75   0  36  50  74  51   0  88  21\n",
       "8  93   0  16  27  25  68  16  41   0   7\n",
       "9   0  91  26  62  58  15  19   1  39   0"
      ]
     },
     "execution_count": 87,
     "metadata": {},
     "output_type": "execute_result"
    }
   ],
   "source": [
    "df = pd.DataFrame(np.random.randint(1,100, 100).reshape(10, -1))\n",
    "for i in range(df.shape[0]):\n",
    "    df.iat[i, i] = 0\n",
    "    df.iat[df.shape[0]-i-1, i] = 0\n",
    "df"
   ]
  },
  {
   "cell_type": "markdown",
   "id": "processed-quick",
   "metadata": {},
   "source": [
    "67. How to get the particular group of a groupby dataframe by key?"
   ]
  },
  {
   "cell_type": "code",
   "execution_count": 89,
   "id": "friendly-popularity",
   "metadata": {},
   "outputs": [
    {
     "name": "stdout",
     "output_type": "stream",
     "text": [
      "    col1      col2  col3\n",
      "0  apple  0.924330     0\n",
      "3  apple  0.809269    11\n",
      "6  apple  0.323573    10\n"
     ]
    }
   ],
   "source": [
    "df = pd.DataFrame({'col1': ['apple', 'biscuit', 'cat'] * 3,\n",
    "                   'col2': np.random.rand(9),\n",
    "                   'col3': np.random.randint(0, 15, 9)})\n",
    "\n",
    "df_grouped = df.groupby(['col1'])\n",
    "for i, dff in df_grouped:\n",
    "    if i == 'apple':\n",
    "        print(dff)"
   ]
  },
  {
   "cell_type": "markdown",
   "id": "thousand-court",
   "metadata": {},
   "source": [
    "68. How to get the n’th largest value of a column when grouped by another column?"
   ]
  },
  {
   "cell_type": "code",
   "execution_count": 93,
   "id": "comic-microwave",
   "metadata": {},
   "outputs": [
    {
     "data": {
      "text/plain": [
       "4    0.86092\n",
       "Name: col2, dtype: float64"
      ]
     },
     "execution_count": 93,
     "metadata": {},
     "output_type": "execute_result"
    }
   ],
   "source": [
    "dfg2 = df['col2'].groupby(df.col1)\n",
    "dfg2.get_group('biscuit').sort_values().tail(1)"
   ]
  },
  {
   "cell_type": "markdown",
   "id": "posted-metabolism",
   "metadata": {},
   "source": [
    "69. How to compute grouped mean on pandas dataframe and keep the grouped column as another\n",
    "column (not index)?\n"
   ]
  },
  {
   "cell_type": "code",
   "execution_count": 94,
   "id": "fancy-electron",
   "metadata": {},
   "outputs": [
    {
     "data": {
      "text/html": [
       "<div>\n",
       "<style scoped>\n",
       "    .dataframe tbody tr th:only-of-type {\n",
       "        vertical-align: middle;\n",
       "    }\n",
       "\n",
       "    .dataframe tbody tr th {\n",
       "        vertical-align: top;\n",
       "    }\n",
       "\n",
       "    .dataframe thead th {\n",
       "        text-align: right;\n",
       "    }\n",
       "</style>\n",
       "<table border=\"1\" class=\"dataframe\">\n",
       "  <thead>\n",
       "    <tr style=\"text-align: right;\">\n",
       "      <th></th>\n",
       "      <th>col1</th>\n",
       "      <th>col2</th>\n",
       "    </tr>\n",
       "  </thead>\n",
       "  <tbody>\n",
       "    <tr>\n",
       "      <th>0</th>\n",
       "      <td>apple</td>\n",
       "      <td>0.685724</td>\n",
       "    </tr>\n",
       "    <tr>\n",
       "      <th>1</th>\n",
       "      <td>biscuit</td>\n",
       "      <td>0.690740</td>\n",
       "    </tr>\n",
       "    <tr>\n",
       "      <th>2</th>\n",
       "      <td>cat</td>\n",
       "      <td>0.256776</td>\n",
       "    </tr>\n",
       "  </tbody>\n",
       "</table>\n",
       "</div>"
      ],
      "text/plain": [
       "      col1      col2\n",
       "0    apple  0.685724\n",
       "1  biscuit  0.690740\n",
       "2      cat  0.256776"
      ]
     },
     "execution_count": 94,
     "metadata": {},
     "output_type": "execute_result"
    }
   ],
   "source": [
    "mean = df.groupby('col1', as_index=False)['col2'].mean()\n",
    "mean"
   ]
  },
  {
   "cell_type": "markdown",
   "id": "leading-fifth",
   "metadata": {},
   "source": [
    "70. How to join two dataframes by 2 columns so they have only the common rows?"
   ]
  },
  {
   "cell_type": "code",
   "execution_count": 95,
   "id": "aboriginal-satin",
   "metadata": {},
   "outputs": [
    {
     "data": {
      "text/html": [
       "<div>\n",
       "<style scoped>\n",
       "    .dataframe tbody tr th:only-of-type {\n",
       "        vertical-align: middle;\n",
       "    }\n",
       "\n",
       "    .dataframe tbody tr th {\n",
       "        vertical-align: top;\n",
       "    }\n",
       "\n",
       "    .dataframe thead th {\n",
       "        text-align: right;\n",
       "    }\n",
       "</style>\n",
       "<table border=\"1\" class=\"dataframe\">\n",
       "  <thead>\n",
       "    <tr style=\"text-align: right;\">\n",
       "      <th></th>\n",
       "      <th>fff</th>\n",
       "      <th>rrr</th>\n",
       "      <th>ppp_left</th>\n",
       "      <th>ggg</th>\n",
       "      <th>kkk</th>\n",
       "      <th>ppp_right</th>\n",
       "    </tr>\n",
       "  </thead>\n",
       "  <tbody>\n",
       "    <tr>\n",
       "      <th>0</th>\n",
       "      <td>apple</td>\n",
       "      <td>high</td>\n",
       "      <td>16</td>\n",
       "      <td>apple</td>\n",
       "      <td>high</td>\n",
       "      <td>28</td>\n",
       "    </tr>\n",
       "    <tr>\n",
       "      <th>1</th>\n",
       "      <td>apple</td>\n",
       "      <td>high</td>\n",
       "      <td>8</td>\n",
       "      <td>apple</td>\n",
       "      <td>high</td>\n",
       "      <td>28</td>\n",
       "    </tr>\n",
       "    <tr>\n",
       "      <th>2</th>\n",
       "      <td>apple</td>\n",
       "      <td>high</td>\n",
       "      <td>4</td>\n",
       "      <td>apple</td>\n",
       "      <td>high</td>\n",
       "      <td>28</td>\n",
       "    </tr>\n",
       "    <tr>\n",
       "      <th>3</th>\n",
       "      <td>orange</td>\n",
       "      <td>low</td>\n",
       "      <td>10</td>\n",
       "      <td>orange</td>\n",
       "      <td>low</td>\n",
       "      <td>16</td>\n",
       "    </tr>\n",
       "    <tr>\n",
       "      <th>4</th>\n",
       "      <td>orange</td>\n",
       "      <td>low</td>\n",
       "      <td>19</td>\n",
       "      <td>orange</td>\n",
       "      <td>low</td>\n",
       "      <td>16</td>\n",
       "    </tr>\n",
       "    <tr>\n",
       "      <th>5</th>\n",
       "      <td>orange</td>\n",
       "      <td>low</td>\n",
       "      <td>9</td>\n",
       "      <td>orange</td>\n",
       "      <td>low</td>\n",
       "      <td>16</td>\n",
       "    </tr>\n",
       "  </tbody>\n",
       "</table>\n",
       "</div>"
      ],
      "text/plain": [
       "      fff   rrr  ppp_left     ggg   kkk  ppp_right\n",
       "0   apple  high        16   apple  high         28\n",
       "1   apple  high         8   apple  high         28\n",
       "2   apple  high         4   apple  high         28\n",
       "3  orange   low        10  orange   low         16\n",
       "4  orange   low        19  orange   low         16\n",
       "5  orange   low         9  orange   low         16"
      ]
     },
     "execution_count": 95,
     "metadata": {},
     "output_type": "execute_result"
    }
   ],
   "source": [
    "df1 = pd.DataFrame({'fff': ['apple', 'banana', 'orange'] * 3,\n",
    "                    'rrr': ['high', 'medium', 'low'] * 3,\n",
    "                    'ppp': np.random.randint(0, 30, 9)})\n",
    "\n",
    "df2 = pd.DataFrame({'ggg': ['apple', 'orange', 'pine'] * 2,\n",
    "                    'kkk': ['high', 'low'] * 3,\n",
    "                    'ppp': np.random.randint(0, 30, 6)})\n",
    "\n",
    "pd.merge(df1, df2, how='inner', left_on=['fff', 'rrr'], right_on=['ggg', 'kkk'], suffixes=['_left', '_right'])"
   ]
  },
  {
   "cell_type": "markdown",
   "id": "extreme-breakfast",
   "metadata": {},
   "source": [
    "71. How to remove rows from a dataframe that are present in another dataframe?"
   ]
  },
  {
   "cell_type": "code",
   "execution_count": 96,
   "id": "clinical-checklist",
   "metadata": {},
   "outputs": [
    {
     "data": {
      "text/html": [
       "<div>\n",
       "<style scoped>\n",
       "    .dataframe tbody tr th:only-of-type {\n",
       "        vertical-align: middle;\n",
       "    }\n",
       "\n",
       "    .dataframe tbody tr th {\n",
       "        vertical-align: top;\n",
       "    }\n",
       "\n",
       "    .dataframe thead th {\n",
       "        text-align: right;\n",
       "    }\n",
       "</style>\n",
       "<table border=\"1\" class=\"dataframe\">\n",
       "  <thead>\n",
       "    <tr style=\"text-align: right;\">\n",
       "      <th></th>\n",
       "      <th>fff</th>\n",
       "      <th>rrr</th>\n",
       "      <th>ppp</th>\n",
       "    </tr>\n",
       "  </thead>\n",
       "  <tbody>\n",
       "    <tr>\n",
       "      <th>0</th>\n",
       "      <td>apple</td>\n",
       "      <td>high</td>\n",
       "      <td>16</td>\n",
       "    </tr>\n",
       "    <tr>\n",
       "      <th>1</th>\n",
       "      <td>banana</td>\n",
       "      <td>medium</td>\n",
       "      <td>2</td>\n",
       "    </tr>\n",
       "    <tr>\n",
       "      <th>2</th>\n",
       "      <td>orange</td>\n",
       "      <td>low</td>\n",
       "      <td>10</td>\n",
       "    </tr>\n",
       "    <tr>\n",
       "      <th>3</th>\n",
       "      <td>apple</td>\n",
       "      <td>high</td>\n",
       "      <td>8</td>\n",
       "    </tr>\n",
       "    <tr>\n",
       "      <th>4</th>\n",
       "      <td>banana</td>\n",
       "      <td>medium</td>\n",
       "      <td>6</td>\n",
       "    </tr>\n",
       "    <tr>\n",
       "      <th>5</th>\n",
       "      <td>orange</td>\n",
       "      <td>low</td>\n",
       "      <td>19</td>\n",
       "    </tr>\n",
       "    <tr>\n",
       "      <th>6</th>\n",
       "      <td>apple</td>\n",
       "      <td>high</td>\n",
       "      <td>4</td>\n",
       "    </tr>\n",
       "    <tr>\n",
       "      <th>7</th>\n",
       "      <td>banana</td>\n",
       "      <td>medium</td>\n",
       "      <td>7</td>\n",
       "    </tr>\n",
       "    <tr>\n",
       "      <th>8</th>\n",
       "      <td>orange</td>\n",
       "      <td>low</td>\n",
       "      <td>9</td>\n",
       "    </tr>\n",
       "  </tbody>\n",
       "</table>\n",
       "</div>"
      ],
      "text/plain": [
       "      fff     rrr  ppp\n",
       "0   apple    high   16\n",
       "1  banana  medium    2\n",
       "2  orange     low   10\n",
       "3   apple    high    8\n",
       "4  banana  medium    6\n",
       "5  orange     low   19\n",
       "6   apple    high    4\n",
       "7  banana  medium    7\n",
       "8  orange     low    9"
      ]
     },
     "execution_count": 96,
     "metadata": {},
     "output_type": "execute_result"
    }
   ],
   "source": [
    "df1[~df1.isin(df2).all(1)]"
   ]
  },
  {
   "cell_type": "markdown",
   "id": "artistic-market",
   "metadata": {},
   "source": [
    "72. How to get the positions where values of two columns match?\n"
   ]
  },
  {
   "cell_type": "code",
   "execution_count": 98,
   "id": "complex-georgia",
   "metadata": {},
   "outputs": [
    {
     "data": {
      "text/plain": [
       "(array([0, 6, 7]),)"
      ]
     },
     "execution_count": 98,
     "metadata": {},
     "output_type": "execute_result"
    }
   ],
   "source": [
    "df = pd.DataFrame({'chac1': np.random.choice(['nigguang', 'kaeya', 'xingqiu'], 10),\n",
    "                    'chac2': np.random.choice(['paimon', 'xingqiu', 'qiqi'], 10)})\n",
    "\n",
    "np.where(df.chac1 == df.chac2)"
   ]
  },
  {
   "cell_type": "markdown",
   "id": "advance-technician",
   "metadata": {},
   "source": [
    "73. How to create lags and leads of a column in a dataframe?"
   ]
  },
  {
   "cell_type": "code",
   "execution_count": 99,
   "id": "agreed-vocabulary",
   "metadata": {},
   "outputs": [
    {
     "name": "stdout",
     "output_type": "stream",
     "text": [
      "    j   e   a   n  lags  leads\n",
      "0  75  15  37  90   NaN   37.0\n",
      "1  37  11  88  28  37.0   10.0\n",
      "2  10  89  21   5  88.0   21.0\n",
      "3  21  32  86  46  21.0   81.0\n",
      "4  81  46   1  75  86.0    NaN\n"
     ]
    }
   ],
   "source": [
    "df = pd.DataFrame(np.random.randint(1, 100, 20).reshape(-1, 4), columns = list('jean'))\n",
    "\n",
    "df['lags'] = df['a'].shift(1)\n",
    "df['leads'] = df['j'].shift(-1)\n",
    "print(df)"
   ]
  },
  {
   "cell_type": "markdown",
   "id": "grand-carbon",
   "metadata": {},
   "source": [
    "74. How to get the frequency of unique values in the entire dataframe?"
   ]
  },
  {
   "cell_type": "code",
   "execution_count": 100,
   "id": "graduate-experience",
   "metadata": {},
   "outputs": [
    {
     "data": {
      "text/plain": [
       "21.0    4\n",
       "37.0    4\n",
       "88.0    2\n",
       "86.0    2\n",
       "75.0    2\n",
       "       ..\n",
       "15.0    1\n",
       "11.0    1\n",
       "89.0    1\n",
       "32.0    1\n",
       "1.0     1\n",
       "Length: 16, dtype: int64"
      ]
     },
     "execution_count": 100,
     "metadata": {},
     "output_type": "execute_result"
    }
   ],
   "source": [
    "pd.value_counts(df.values.ravel())"
   ]
  },
  {
   "cell_type": "markdown",
   "id": "fatal-office",
   "metadata": {},
   "source": [
    "75. How to split a text column into two separate columns"
   ]
  },
  {
   "cell_type": "code",
   "execution_count": 97,
   "id": "conventional-translation",
   "metadata": {},
   "outputs": [
    {
     "name": "stdout",
     "output_type": "stream",
     "text": [
      "           0         1\n",
      "0  ningguang     Liyue\n",
      "1      Venti   Demigod\n"
     ]
    }
   ],
   "source": [
    "df = pd.DataFrame([\"ningguang, Liyue\", \"Venti, Demigod\",], columns=['row'])\n",
    "dftxt = df.row.str.split(',|\\t', expand=True)\n",
    "print (dftxt)"
   ]
  }
 ],
 "metadata": {
  "kernelspec": {
   "display_name": "Python 3",
   "language": "python",
   "name": "python3"
  },
  "language_info": {
   "codemirror_mode": {
    "name": "ipython",
    "version": 3
   },
   "file_extension": ".py",
   "mimetype": "text/x-python",
   "name": "python",
   "nbconvert_exporter": "python",
   "pygments_lexer": "ipython3",
   "version": "3.8.2"
  }
 },
 "nbformat": 4,
 "nbformat_minor": 5
}
